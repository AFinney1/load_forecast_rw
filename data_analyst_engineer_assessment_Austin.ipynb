{
 "cells": [
  {
   "cell_type": "markdown",
   "metadata": {},
   "source": [
    "# Imports"
   ]
  },
  {
   "cell_type": "code",
   "execution_count": 76,
   "metadata": {},
   "outputs": [],
   "source": [
    "import datetime\n",
    "import os\n",
    "import sys\n",
    "from dataclasses import dataclass\n",
    "import sklearn\n",
    "from sklearn import model_selection\n",
    "import matplotlib\n",
    "from sklearn.model_selection import TimeSeriesSplit, train_test_split\n",
    "import matplotlib.pyplot as plt\n",
    "import numpy as np\n",
    "import pandas as pd\n",
    "import tensorflow as tf\n",
    "from tensorflow import keras\n",
    "import statsmodels.api as sm\n",
    "from pandas_profiling import ProfileReport\n",
    "from plotly import express as px\n",
    "import plotly.graph_objects as go\n",
    "import torch\n",
    "from torch.utils.data import Dataset\n",
    "from torchvision import datasets\n",
    "from torchvision.transforms import ToTensor"
   ]
  },
  {
   "cell_type": "markdown",
   "metadata": {},
   "source": [
    "# Set the current working directory and get paths of load profiles"
   ]
  },
  {
   "cell_type": "code",
   "execution_count": 2,
   "metadata": {},
   "outputs": [],
   "source": [
    "def get_directories(path) -> list:\n",
    "    \"\"\"\n",
    "    Returns a list of directories in the given path.\n",
    "    \"\"\"\n",
    "    return [d for d in os.listdir(path) if os.path.isdir(os.path.join(path, d))]\n",
    "directories = get_directories('Profiles')\n",
    "directories.sort()"
   ]
  },
  {
   "cell_type": "markdown",
   "metadata": {},
   "source": [
    "# Builds load profile dataframe using all Excel Files\n",
    "- Dropped last four NA values during cleaning\n",
    "- Note the overall goal is to predict those four values"
   ]
  },
  {
   "cell_type": "code",
   "execution_count": 17,
   "metadata": {},
   "outputs": [
    {
     "name": "stderr",
     "output_type": "stream",
     "text": [
      "/home/austin/anaconda3/envs/bittensor/lib/python3.8/site-packages/openpyxl/worksheet/header_footer.py:48: UserWarning: Cannot parse header or footer so it will be ignored\n",
      "  warn(\"\"\"Cannot parse header or footer so it will be ignored\"\"\")\n"
     ]
    }
   ],
   "source": [
    "\n",
    "directories = get_directories('Profiles')\n",
    "load_data = pd.DataFrame()\n",
    "for directory in directories:\n",
    "    file_name = directory.replace(\"_\", ' ')\n",
    "    #profile_df = load_profile_df('Profiles/ERCOT_Backcasted_Load_Profiles_2016/ERCOT Backcasted Load Profiles 2016.xls')\n",
    "    try: \n",
    "        profile_df = pd.read_excel(f'Profiles/{directory}/{file_name}.xls', index_col = 0, engine='xlrd')\n",
    "    except:\n",
    "        profile_df = pd.read_excel(f'Profiles/{directory}/{file_name}.xlsx', index_col = 0, engine = 'openpyxl')\n",
    "    #prof = ProfileReport(profile_df, title=file_name, minimal=True)\n",
    "    load_data = pd.concat([load_data, profile_df])\n",
    "    #prof.to_file(f'Profiles/{directory}/{file_name}.html')\n",
    "    #profile_df[\"Date\"] = pd.to_datetime(profile_df[\"Date\"])\n",
    "save_load_df = load_data.copy()\n",
    "    #date = profile_df[\"Date\"]\n",
    "    #profile_df.set_index(\"Date\", inplace=True)\n",
    "    #print(profile_df.columns)\n",
    "    #profile_df[\"PType_WZ\"] = profile_df[\"PType_WZ\"].astype(str)\n",
    "#profile_df.plot()\n",
    "#plt.savefig(f'Profiles/{directory}/{directory}_plot.png')\n",
    "#plt.show()\n",
    "save_load_df.reset_index(inplace=True)"
   ]
  },
  {
   "cell_type": "code",
   "execution_count": 18,
   "metadata": {},
   "outputs": [
    {
     "data": {
      "text/html": [
       "<div>\n",
       "<style scoped>\n",
       "    .dataframe tbody tr th:only-of-type {\n",
       "        vertical-align: middle;\n",
       "    }\n",
       "\n",
       "    .dataframe tbody tr th {\n",
       "        vertical-align: top;\n",
       "    }\n",
       "\n",
       "    .dataframe thead th {\n",
       "        text-align: right;\n",
       "    }\n",
       "</style>\n",
       "<table border=\"1\" class=\"dataframe\">\n",
       "  <thead>\n",
       "    <tr style=\"text-align: right;\">\n",
       "      <th></th>\n",
       "      <th>Station</th>\n",
       "      <th>Date</th>\n",
       "      <th>int_kWh1</th>\n",
       "      <th>int_kWh2</th>\n",
       "      <th>int_kWh3</th>\n",
       "      <th>int_kWh4</th>\n",
       "      <th>int_kWh5</th>\n",
       "      <th>int_kWh6</th>\n",
       "      <th>int_kWh7</th>\n",
       "      <th>int_kWh8</th>\n",
       "      <th>...</th>\n",
       "      <th>int_kWh92</th>\n",
       "      <th>int_kWh93</th>\n",
       "      <th>int_kWh94</th>\n",
       "      <th>int_kWh95</th>\n",
       "      <th>int_kWh96</th>\n",
       "      <th>int_kWh97</th>\n",
       "      <th>int_kWh98</th>\n",
       "      <th>int_kWh99</th>\n",
       "      <th>int_kWh100</th>\n",
       "      <th>ADDTIME</th>\n",
       "    </tr>\n",
       "  </thead>\n",
       "  <tbody>\n",
       "    <tr>\n",
       "      <th>0</th>\n",
       "      <td>BUSHIDG_COAST</td>\n",
       "      <td>2019-01-01</td>\n",
       "      <td>11.406</td>\n",
       "      <td>11.329</td>\n",
       "      <td>11.279</td>\n",
       "      <td>11.236</td>\n",
       "      <td>11.219</td>\n",
       "      <td>11.211</td>\n",
       "      <td>11.174</td>\n",
       "      <td>11.167</td>\n",
       "      <td>...</td>\n",
       "      <td>12.022</td>\n",
       "      <td>11.810</td>\n",
       "      <td>11.708</td>\n",
       "      <td>11.609</td>\n",
       "      <td>11.462</td>\n",
       "      <td>NaN</td>\n",
       "      <td>NaN</td>\n",
       "      <td>NaN</td>\n",
       "      <td>NaN</td>\n",
       "      <td>2019-01-05</td>\n",
       "    </tr>\n",
       "    <tr>\n",
       "      <th>1</th>\n",
       "      <td>BUSHIDG_COAST</td>\n",
       "      <td>2019-01-02</td>\n",
       "      <td>11.530</td>\n",
       "      <td>11.461</td>\n",
       "      <td>11.422</td>\n",
       "      <td>11.398</td>\n",
       "      <td>11.407</td>\n",
       "      <td>11.416</td>\n",
       "      <td>11.391</td>\n",
       "      <td>11.405</td>\n",
       "      <td>...</td>\n",
       "      <td>12.062</td>\n",
       "      <td>11.841</td>\n",
       "      <td>11.728</td>\n",
       "      <td>11.623</td>\n",
       "      <td>11.470</td>\n",
       "      <td>NaN</td>\n",
       "      <td>NaN</td>\n",
       "      <td>NaN</td>\n",
       "      <td>NaN</td>\n",
       "      <td>2019-01-06</td>\n",
       "    </tr>\n",
       "    <tr>\n",
       "      <th>2</th>\n",
       "      <td>BUSHIDG_COAST</td>\n",
       "      <td>2019-01-03</td>\n",
       "      <td>11.617</td>\n",
       "      <td>11.546</td>\n",
       "      <td>11.505</td>\n",
       "      <td>11.477</td>\n",
       "      <td>11.483</td>\n",
       "      <td>11.489</td>\n",
       "      <td>11.461</td>\n",
       "      <td>11.470</td>\n",
       "      <td>...</td>\n",
       "      <td>11.950</td>\n",
       "      <td>11.748</td>\n",
       "      <td>11.645</td>\n",
       "      <td>11.546</td>\n",
       "      <td>11.399</td>\n",
       "      <td>NaN</td>\n",
       "      <td>NaN</td>\n",
       "      <td>NaN</td>\n",
       "      <td>NaN</td>\n",
       "      <td>2019-01-07</td>\n",
       "    </tr>\n",
       "    <tr>\n",
       "      <th>3</th>\n",
       "      <td>BUSHIDG_COAST</td>\n",
       "      <td>2019-01-04</td>\n",
       "      <td>11.374</td>\n",
       "      <td>11.301</td>\n",
       "      <td>11.255</td>\n",
       "      <td>11.220</td>\n",
       "      <td>11.218</td>\n",
       "      <td>11.215</td>\n",
       "      <td>11.179</td>\n",
       "      <td>11.172</td>\n",
       "      <td>...</td>\n",
       "      <td>12.381</td>\n",
       "      <td>12.167</td>\n",
       "      <td>12.067</td>\n",
       "      <td>11.969</td>\n",
       "      <td>11.821</td>\n",
       "      <td>NaN</td>\n",
       "      <td>NaN</td>\n",
       "      <td>NaN</td>\n",
       "      <td>NaN</td>\n",
       "      <td>2019-01-08</td>\n",
       "    </tr>\n",
       "    <tr>\n",
       "      <th>4</th>\n",
       "      <td>BUSHIDG_COAST</td>\n",
       "      <td>2019-01-05</td>\n",
       "      <td>11.652</td>\n",
       "      <td>11.568</td>\n",
       "      <td>11.509</td>\n",
       "      <td>11.453</td>\n",
       "      <td>11.409</td>\n",
       "      <td>11.392</td>\n",
       "      <td>11.355</td>\n",
       "      <td>11.354</td>\n",
       "      <td>...</td>\n",
       "      <td>12.338</td>\n",
       "      <td>12.133</td>\n",
       "      <td>12.044</td>\n",
       "      <td>11.952</td>\n",
       "      <td>11.811</td>\n",
       "      <td>NaN</td>\n",
       "      <td>NaN</td>\n",
       "      <td>NaN</td>\n",
       "      <td>NaN</td>\n",
       "      <td>2019-01-09</td>\n",
       "    </tr>\n",
       "  </tbody>\n",
       "</table>\n",
       "<p>5 rows × 103 columns</p>\n",
       "</div>"
      ],
      "text/plain": [
       "         Station       Date  int_kWh1  int_kWh2  int_kWh3  int_kWh4  int_kWh5  \\\n",
       "0  BUSHIDG_COAST 2019-01-01    11.406    11.329    11.279    11.236    11.219   \n",
       "1  BUSHIDG_COAST 2019-01-02    11.530    11.461    11.422    11.398    11.407   \n",
       "2  BUSHIDG_COAST 2019-01-03    11.617    11.546    11.505    11.477    11.483   \n",
       "3  BUSHIDG_COAST 2019-01-04    11.374    11.301    11.255    11.220    11.218   \n",
       "4  BUSHIDG_COAST 2019-01-05    11.652    11.568    11.509    11.453    11.409   \n",
       "\n",
       "   int_kWh6  int_kWh7  int_kWh8  ...  int_kWh92  int_kWh93  int_kWh94  \\\n",
       "0    11.211    11.174    11.167  ...     12.022     11.810     11.708   \n",
       "1    11.416    11.391    11.405  ...     12.062     11.841     11.728   \n",
       "2    11.489    11.461    11.470  ...     11.950     11.748     11.645   \n",
       "3    11.215    11.179    11.172  ...     12.381     12.167     12.067   \n",
       "4    11.392    11.355    11.354  ...     12.338     12.133     12.044   \n",
       "\n",
       "   int_kWh95  int_kWh96  int_kWh97  int_kWh98  int_kWh99  int_kWh100  \\\n",
       "0     11.609     11.462        NaN        NaN        NaN         NaN   \n",
       "1     11.623     11.470        NaN        NaN        NaN         NaN   \n",
       "2     11.546     11.399        NaN        NaN        NaN         NaN   \n",
       "3     11.969     11.821        NaN        NaN        NaN         NaN   \n",
       "4     11.952     11.811        NaN        NaN        NaN         NaN   \n",
       "\n",
       "     ADDTIME  \n",
       "0 2019-01-05  \n",
       "1 2019-01-06  \n",
       "2 2019-01-07  \n",
       "3 2019-01-08  \n",
       "4 2019-01-09  \n",
       "\n",
       "[5 rows x 103 columns]"
      ]
     },
     "execution_count": 18,
     "metadata": {},
     "output_type": "execute_result"
    }
   ],
   "source": [
    "if 'PType_WZ' in save_load_df.columns:\n",
    "    save_load_df.rename(columns={'PType_WZ':'Station'}, inplace=True)\n",
    "\n",
    "save_load_df.head()"
   ]
  },
  {
   "cell_type": "code",
   "execution_count": 19,
   "metadata": {},
   "outputs": [
    {
     "data": {
      "text/html": [
       "<div>\n",
       "<style scoped>\n",
       "    .dataframe tbody tr th:only-of-type {\n",
       "        vertical-align: middle;\n",
       "    }\n",
       "\n",
       "    .dataframe tbody tr th {\n",
       "        vertical-align: top;\n",
       "    }\n",
       "\n",
       "    .dataframe thead th {\n",
       "        text-align: right;\n",
       "    }\n",
       "</style>\n",
       "<table border=\"1\" class=\"dataframe\">\n",
       "  <thead>\n",
       "    <tr style=\"text-align: right;\">\n",
       "      <th></th>\n",
       "      <th>Station</th>\n",
       "      <th>Date</th>\n",
       "      <th>00:00:00</th>\n",
       "      <th>00:15:00</th>\n",
       "      <th>00:30:00</th>\n",
       "      <th>00:45:00</th>\n",
       "      <th>01:00:00</th>\n",
       "      <th>01:15:00</th>\n",
       "      <th>01:30:00</th>\n",
       "      <th>01:45:00</th>\n",
       "      <th>...</th>\n",
       "      <th>22:30:00</th>\n",
       "      <th>22:45:00</th>\n",
       "      <th>23:00:00</th>\n",
       "      <th>23:15:00</th>\n",
       "      <th>23:30:00</th>\n",
       "      <th>23:45:00</th>\n",
       "      <th>int_kWh97</th>\n",
       "      <th>int_kWh98</th>\n",
       "      <th>int_kWh99</th>\n",
       "      <th>int_kWh100</th>\n",
       "    </tr>\n",
       "  </thead>\n",
       "  <tbody>\n",
       "    <tr>\n",
       "      <th>0</th>\n",
       "      <td>BUSHIDG_COAST</td>\n",
       "      <td>2019-01-01</td>\n",
       "      <td>11.406</td>\n",
       "      <td>11.329</td>\n",
       "      <td>11.279</td>\n",
       "      <td>11.236</td>\n",
       "      <td>11.219</td>\n",
       "      <td>11.211</td>\n",
       "      <td>11.174</td>\n",
       "      <td>11.167</td>\n",
       "      <td>...</td>\n",
       "      <td>12.157</td>\n",
       "      <td>12.022</td>\n",
       "      <td>11.810</td>\n",
       "      <td>11.708</td>\n",
       "      <td>11.609</td>\n",
       "      <td>11.462</td>\n",
       "      <td>NaN</td>\n",
       "      <td>NaN</td>\n",
       "      <td>NaN</td>\n",
       "      <td>NaN</td>\n",
       "    </tr>\n",
       "    <tr>\n",
       "      <th>1</th>\n",
       "      <td>BUSHIDG_COAST</td>\n",
       "      <td>2019-01-02</td>\n",
       "      <td>11.530</td>\n",
       "      <td>11.461</td>\n",
       "      <td>11.422</td>\n",
       "      <td>11.398</td>\n",
       "      <td>11.407</td>\n",
       "      <td>11.416</td>\n",
       "      <td>11.391</td>\n",
       "      <td>11.405</td>\n",
       "      <td>...</td>\n",
       "      <td>12.212</td>\n",
       "      <td>12.062</td>\n",
       "      <td>11.841</td>\n",
       "      <td>11.728</td>\n",
       "      <td>11.623</td>\n",
       "      <td>11.470</td>\n",
       "      <td>NaN</td>\n",
       "      <td>NaN</td>\n",
       "      <td>NaN</td>\n",
       "      <td>NaN</td>\n",
       "    </tr>\n",
       "    <tr>\n",
       "      <th>2</th>\n",
       "      <td>BUSHIDG_COAST</td>\n",
       "      <td>2019-01-03</td>\n",
       "      <td>11.617</td>\n",
       "      <td>11.546</td>\n",
       "      <td>11.505</td>\n",
       "      <td>11.477</td>\n",
       "      <td>11.483</td>\n",
       "      <td>11.489</td>\n",
       "      <td>11.461</td>\n",
       "      <td>11.470</td>\n",
       "      <td>...</td>\n",
       "      <td>12.090</td>\n",
       "      <td>11.950</td>\n",
       "      <td>11.748</td>\n",
       "      <td>11.645</td>\n",
       "      <td>11.546</td>\n",
       "      <td>11.399</td>\n",
       "      <td>NaN</td>\n",
       "      <td>NaN</td>\n",
       "      <td>NaN</td>\n",
       "      <td>NaN</td>\n",
       "    </tr>\n",
       "    <tr>\n",
       "      <th>3</th>\n",
       "      <td>BUSHIDG_COAST</td>\n",
       "      <td>2019-01-04</td>\n",
       "      <td>11.374</td>\n",
       "      <td>11.301</td>\n",
       "      <td>11.255</td>\n",
       "      <td>11.220</td>\n",
       "      <td>11.218</td>\n",
       "      <td>11.215</td>\n",
       "      <td>11.179</td>\n",
       "      <td>11.172</td>\n",
       "      <td>...</td>\n",
       "      <td>12.511</td>\n",
       "      <td>12.381</td>\n",
       "      <td>12.167</td>\n",
       "      <td>12.067</td>\n",
       "      <td>11.969</td>\n",
       "      <td>11.821</td>\n",
       "      <td>NaN</td>\n",
       "      <td>NaN</td>\n",
       "      <td>NaN</td>\n",
       "      <td>NaN</td>\n",
       "    </tr>\n",
       "    <tr>\n",
       "      <th>4</th>\n",
       "      <td>BUSHIDG_COAST</td>\n",
       "      <td>2019-01-05</td>\n",
       "      <td>11.652</td>\n",
       "      <td>11.568</td>\n",
       "      <td>11.509</td>\n",
       "      <td>11.453</td>\n",
       "      <td>11.409</td>\n",
       "      <td>11.392</td>\n",
       "      <td>11.355</td>\n",
       "      <td>11.354</td>\n",
       "      <td>...</td>\n",
       "      <td>12.452</td>\n",
       "      <td>12.338</td>\n",
       "      <td>12.133</td>\n",
       "      <td>12.044</td>\n",
       "      <td>11.952</td>\n",
       "      <td>11.811</td>\n",
       "      <td>NaN</td>\n",
       "      <td>NaN</td>\n",
       "      <td>NaN</td>\n",
       "      <td>NaN</td>\n",
       "    </tr>\n",
       "  </tbody>\n",
       "</table>\n",
       "<p>5 rows × 102 columns</p>\n",
       "</div>"
      ],
      "text/plain": [
       "         Station       Date  00:00:00  00:15:00  00:30:00  00:45:00  01:00:00  \\\n",
       "0  BUSHIDG_COAST 2019-01-01    11.406    11.329    11.279    11.236    11.219   \n",
       "1  BUSHIDG_COAST 2019-01-02    11.530    11.461    11.422    11.398    11.407   \n",
       "2  BUSHIDG_COAST 2019-01-03    11.617    11.546    11.505    11.477    11.483   \n",
       "3  BUSHIDG_COAST 2019-01-04    11.374    11.301    11.255    11.220    11.218   \n",
       "4  BUSHIDG_COAST 2019-01-05    11.652    11.568    11.509    11.453    11.409   \n",
       "\n",
       "   01:15:00  01:30:00  01:45:00  ...  22:30:00  22:45:00  23:00:00  23:15:00  \\\n",
       "0    11.211    11.174    11.167  ...    12.157    12.022    11.810    11.708   \n",
       "1    11.416    11.391    11.405  ...    12.212    12.062    11.841    11.728   \n",
       "2    11.489    11.461    11.470  ...    12.090    11.950    11.748    11.645   \n",
       "3    11.215    11.179    11.172  ...    12.511    12.381    12.167    12.067   \n",
       "4    11.392    11.355    11.354  ...    12.452    12.338    12.133    12.044   \n",
       "\n",
       "   23:30:00  23:45:00  int_kWh97  int_kWh98  int_kWh99  int_kWh100  \n",
       "0    11.609    11.462        NaN        NaN        NaN         NaN  \n",
       "1    11.623    11.470        NaN        NaN        NaN         NaN  \n",
       "2    11.546    11.399        NaN        NaN        NaN         NaN  \n",
       "3    11.969    11.821        NaN        NaN        NaN         NaN  \n",
       "4    11.952    11.811        NaN        NaN        NaN         NaN  \n",
       "\n",
       "[5 rows x 102 columns]"
      ]
     },
     "execution_count": 19,
     "metadata": {},
     "output_type": "execute_result"
    }
   ],
   "source": [
    "if \"ADDTIME\" in save_load_df.columns:\n",
    "    save_load_df.drop(columns=[\"ADDTIME\"], inplace=True)\n",
    "id_vars = ['Station', 'Date']\n",
    "\n",
    "load_columns = save_load_df.columns.tolist()[2:98]\n",
    "daily_time_intervals = pd.Series(pd.date_range('1/1/2020', '1/2/2020', freq='15min', closed='left')).dt.time # Dummy dates used to get dail time intervals\n",
    "\n",
    "new_load_columns = {load_columns[i]: daily_time_intervals[i] for i in range(len(load_columns))}\n",
    "\n",
    "save_load_df.rename(columns=new_load_columns, inplace=True)\n",
    "load_columns = save_load_df.columns.tolist()[2:98]\n",
    "all_columns = save_load_df.columns.tolist()[1:99]\n",
    "#station_list = save_load_df.Station.unique().tolist()\n",
    "\n",
    "\n",
    "\n",
    "#long_load_data = save_load_df.pivot(index=load_columns, columns='load', values= 'Station')\n",
    "\n",
    "#pd.melt(long_load_data, id_vars=id_vars, value_name='Load')\n",
    "dates = save_load_df['Date']\n",
    "#saved_load_df = save_load_df.groupby(['Station', 'Date'])\n",
    "save_load_df.head()"
   ]
  },
  {
   "cell_type": "code",
   "execution_count": 31,
   "metadata": {},
   "outputs": [
    {
     "data": {
      "text/html": [
       "<div>\n",
       "<style scoped>\n",
       "    .dataframe tbody tr th:only-of-type {\n",
       "        vertical-align: middle;\n",
       "    }\n",
       "\n",
       "    .dataframe tbody tr th {\n",
       "        vertical-align: top;\n",
       "    }\n",
       "\n",
       "    .dataframe thead th {\n",
       "        text-align: right;\n",
       "    }\n",
       "</style>\n",
       "<table border=\"1\" class=\"dataframe\">\n",
       "  <thead>\n",
       "    <tr style=\"text-align: right;\">\n",
       "      <th></th>\n",
       "      <th>Station</th>\n",
       "      <th>Date</th>\n",
       "      <th>00:00:00</th>\n",
       "      <th>00:15:00</th>\n",
       "      <th>00:30:00</th>\n",
       "      <th>00:45:00</th>\n",
       "      <th>01:00:00</th>\n",
       "      <th>01:15:00</th>\n",
       "      <th>01:30:00</th>\n",
       "      <th>01:45:00</th>\n",
       "      <th>...</th>\n",
       "      <th>22:30:00</th>\n",
       "      <th>22:45:00</th>\n",
       "      <th>23:00:00</th>\n",
       "      <th>23:15:00</th>\n",
       "      <th>23:30:00</th>\n",
       "      <th>23:45:00</th>\n",
       "      <th>int_kWh97</th>\n",
       "      <th>int_kWh98</th>\n",
       "      <th>int_kWh99</th>\n",
       "      <th>int_kWh100</th>\n",
       "    </tr>\n",
       "  </thead>\n",
       "  <tbody>\n",
       "    <tr>\n",
       "      <th>0</th>\n",
       "      <td>BUSHIDG_COAST</td>\n",
       "      <td>2016-01-01</td>\n",
       "      <td>11.489</td>\n",
       "      <td>11.413</td>\n",
       "      <td>11.364</td>\n",
       "      <td>11.325</td>\n",
       "      <td>11.312</td>\n",
       "      <td>11.307</td>\n",
       "      <td>11.273</td>\n",
       "      <td>11.273</td>\n",
       "      <td>...</td>\n",
       "      <td>12.015</td>\n",
       "      <td>11.900</td>\n",
       "      <td>11.711</td>\n",
       "      <td>11.624</td>\n",
       "      <td>11.536</td>\n",
       "      <td>11.399</td>\n",
       "      <td>NaN</td>\n",
       "      <td>NaN</td>\n",
       "      <td>NaN</td>\n",
       "      <td>NaN</td>\n",
       "    </tr>\n",
       "    <tr>\n",
       "      <th>1</th>\n",
       "      <td>BUSHIDG_COAST</td>\n",
       "      <td>2016-01-02</td>\n",
       "      <td>11.668</td>\n",
       "      <td>11.589</td>\n",
       "      <td>11.538</td>\n",
       "      <td>11.494</td>\n",
       "      <td>11.472</td>\n",
       "      <td>11.464</td>\n",
       "      <td>11.430</td>\n",
       "      <td>11.431</td>\n",
       "      <td>...</td>\n",
       "      <td>12.307</td>\n",
       "      <td>12.199</td>\n",
       "      <td>12.007</td>\n",
       "      <td>11.923</td>\n",
       "      <td>11.836</td>\n",
       "      <td>11.699</td>\n",
       "      <td>NaN</td>\n",
       "      <td>NaN</td>\n",
       "      <td>NaN</td>\n",
       "      <td>NaN</td>\n",
       "    </tr>\n",
       "    <tr>\n",
       "      <th>2</th>\n",
       "      <td>BUSHIDG_COAST</td>\n",
       "      <td>2016-01-03</td>\n",
       "      <td>11.457</td>\n",
       "      <td>11.381</td>\n",
       "      <td>11.332</td>\n",
       "      <td>11.291</td>\n",
       "      <td>11.271</td>\n",
       "      <td>11.266</td>\n",
       "      <td>11.235</td>\n",
       "      <td>11.241</td>\n",
       "      <td>...</td>\n",
       "      <td>12.075</td>\n",
       "      <td>11.953</td>\n",
       "      <td>11.746</td>\n",
       "      <td>11.651</td>\n",
       "      <td>11.558</td>\n",
       "      <td>11.416</td>\n",
       "      <td>NaN</td>\n",
       "      <td>NaN</td>\n",
       "      <td>NaN</td>\n",
       "      <td>NaN</td>\n",
       "    </tr>\n",
       "    <tr>\n",
       "      <th>3</th>\n",
       "      <td>BUSHIDG_COAST</td>\n",
       "      <td>2016-01-04</td>\n",
       "      <td>11.358</td>\n",
       "      <td>11.280</td>\n",
       "      <td>11.228</td>\n",
       "      <td>11.182</td>\n",
       "      <td>11.162</td>\n",
       "      <td>11.150</td>\n",
       "      <td>11.111</td>\n",
       "      <td>11.100</td>\n",
       "      <td>...</td>\n",
       "      <td>12.145</td>\n",
       "      <td>11.996</td>\n",
       "      <td>11.804</td>\n",
       "      <td>11.699</td>\n",
       "      <td>11.598</td>\n",
       "      <td>11.450</td>\n",
       "      <td>NaN</td>\n",
       "      <td>NaN</td>\n",
       "      <td>NaN</td>\n",
       "      <td>NaN</td>\n",
       "    </tr>\n",
       "    <tr>\n",
       "      <th>4</th>\n",
       "      <td>BUSHIDG_COAST</td>\n",
       "      <td>2016-01-05</td>\n",
       "      <td>11.492</td>\n",
       "      <td>11.418</td>\n",
       "      <td>11.373</td>\n",
       "      <td>11.338</td>\n",
       "      <td>11.336</td>\n",
       "      <td>11.334</td>\n",
       "      <td>11.300</td>\n",
       "      <td>11.296</td>\n",
       "      <td>...</td>\n",
       "      <td>12.350</td>\n",
       "      <td>12.210</td>\n",
       "      <td>12.008</td>\n",
       "      <td>11.906</td>\n",
       "      <td>11.806</td>\n",
       "      <td>11.658</td>\n",
       "      <td>NaN</td>\n",
       "      <td>NaN</td>\n",
       "      <td>NaN</td>\n",
       "      <td>NaN</td>\n",
       "    </tr>\n",
       "  </tbody>\n",
       "</table>\n",
       "<p>5 rows × 102 columns</p>\n",
       "</div>"
      ],
      "text/plain": [
       "         Station       Date  00:00:00  00:15:00  00:30:00  00:45:00  01:00:00  \\\n",
       "0  BUSHIDG_COAST 2016-01-01    11.489    11.413    11.364    11.325    11.312   \n",
       "1  BUSHIDG_COAST 2016-01-02    11.668    11.589    11.538    11.494    11.472   \n",
       "2  BUSHIDG_COAST 2016-01-03    11.457    11.381    11.332    11.291    11.271   \n",
       "3  BUSHIDG_COAST 2016-01-04    11.358    11.280    11.228    11.182    11.162   \n",
       "4  BUSHIDG_COAST 2016-01-05    11.492    11.418    11.373    11.338    11.336   \n",
       "\n",
       "   01:15:00  01:30:00  01:45:00  ...  22:30:00  22:45:00  23:00:00  23:15:00  \\\n",
       "0    11.307    11.273    11.273  ...    12.015    11.900    11.711    11.624   \n",
       "1    11.464    11.430    11.431  ...    12.307    12.199    12.007    11.923   \n",
       "2    11.266    11.235    11.241  ...    12.075    11.953    11.746    11.651   \n",
       "3    11.150    11.111    11.100  ...    12.145    11.996    11.804    11.699   \n",
       "4    11.334    11.300    11.296  ...    12.350    12.210    12.008    11.906   \n",
       "\n",
       "   23:30:00  23:45:00  int_kWh97  int_kWh98  int_kWh99  int_kWh100  \n",
       "0    11.536    11.399        NaN        NaN        NaN         NaN  \n",
       "1    11.836    11.699        NaN        NaN        NaN         NaN  \n",
       "2    11.558    11.416        NaN        NaN        NaN         NaN  \n",
       "3    11.598    11.450        NaN        NaN        NaN         NaN  \n",
       "4    11.806    11.658        NaN        NaN        NaN         NaN  \n",
       "\n",
       "[5 rows x 102 columns]"
      ]
     },
     "execution_count": 31,
     "metadata": {},
     "output_type": "execute_result"
    }
   ],
   "source": [
    "sorted_load = save_load_df.sort_values(by=['Station', 'Date']).reset_index(drop=True)\n",
    "sorted_load.head()"
   ]
  },
  {
   "cell_type": "code",
   "execution_count": 24,
   "metadata": {},
   "outputs": [],
   "source": [
    "#sorted_load = sorted_load.transpose()"
   ]
  },
  {
   "cell_type": "code",
   "execution_count": 25,
   "metadata": {},
   "outputs": [
    {
     "data": {
      "text/html": [
       "<div>\n",
       "<style scoped>\n",
       "    .dataframe tbody tr th:only-of-type {\n",
       "        vertical-align: middle;\n",
       "    }\n",
       "\n",
       "    .dataframe tbody tr th {\n",
       "        vertical-align: top;\n",
       "    }\n",
       "\n",
       "    .dataframe thead th {\n",
       "        text-align: right;\n",
       "    }\n",
       "</style>\n",
       "<table border=\"1\" class=\"dataframe\">\n",
       "  <thead>\n",
       "    <tr style=\"text-align: right;\">\n",
       "      <th></th>\n",
       "      <th>0</th>\n",
       "      <th>1</th>\n",
       "      <th>2</th>\n",
       "      <th>3</th>\n",
       "      <th>4</th>\n",
       "      <th>5</th>\n",
       "      <th>6</th>\n",
       "      <th>7</th>\n",
       "      <th>8</th>\n",
       "      <th>9</th>\n",
       "      <th>...</th>\n",
       "      <th>75630</th>\n",
       "      <th>75631</th>\n",
       "      <th>75632</th>\n",
       "      <th>75633</th>\n",
       "      <th>75634</th>\n",
       "      <th>75635</th>\n",
       "      <th>75636</th>\n",
       "      <th>75637</th>\n",
       "      <th>75638</th>\n",
       "      <th>75639</th>\n",
       "    </tr>\n",
       "  </thead>\n",
       "  <tbody>\n",
       "    <tr>\n",
       "      <th>Station</th>\n",
       "      <td>BUSHIDG_COAST</td>\n",
       "      <td>BUSHIDG_COAST</td>\n",
       "      <td>BUSHIDG_COAST</td>\n",
       "      <td>BUSHIDG_COAST</td>\n",
       "      <td>BUSHIDG_COAST</td>\n",
       "      <td>BUSHIDG_COAST</td>\n",
       "      <td>BUSHIDG_COAST</td>\n",
       "      <td>BUSHIDG_COAST</td>\n",
       "      <td>BUSHIDG_COAST</td>\n",
       "      <td>BUSHIDG_COAST</td>\n",
       "      <td>...</td>\n",
       "      <td>RESLOWR_WEST</td>\n",
       "      <td>RESLOWR_WEST</td>\n",
       "      <td>RESLOWR_WEST</td>\n",
       "      <td>RESLOWR_WEST</td>\n",
       "      <td>RESLOWR_WEST</td>\n",
       "      <td>RESLOWR_WEST</td>\n",
       "      <td>RESLOWR_WEST</td>\n",
       "      <td>RESLOWR_WEST</td>\n",
       "      <td>RESLOWR_WEST</td>\n",
       "      <td>RESLOWR_WEST</td>\n",
       "    </tr>\n",
       "    <tr>\n",
       "      <th>Date</th>\n",
       "      <td>2016-01-01 00:00:00</td>\n",
       "      <td>2016-01-02 00:00:00</td>\n",
       "      <td>2016-01-03 00:00:00</td>\n",
       "      <td>2016-01-04 00:00:00</td>\n",
       "      <td>2016-01-05 00:00:00</td>\n",
       "      <td>2016-01-06 00:00:00</td>\n",
       "      <td>2016-01-07 00:00:00</td>\n",
       "      <td>2016-01-08 00:00:00</td>\n",
       "      <td>2016-01-09 00:00:00</td>\n",
       "      <td>2016-01-10 00:00:00</td>\n",
       "      <td>...</td>\n",
       "      <td>2021-01-22 00:00:00</td>\n",
       "      <td>2021-01-23 00:00:00</td>\n",
       "      <td>2021-01-24 00:00:00</td>\n",
       "      <td>2021-01-25 00:00:00</td>\n",
       "      <td>2021-01-26 00:00:00</td>\n",
       "      <td>2021-01-27 00:00:00</td>\n",
       "      <td>2021-01-28 00:00:00</td>\n",
       "      <td>2021-01-29 00:00:00</td>\n",
       "      <td>2021-01-30 00:00:00</td>\n",
       "      <td>2021-01-31 00:00:00</td>\n",
       "    </tr>\n",
       "    <tr>\n",
       "      <th>00:00:00</th>\n",
       "      <td>11.489</td>\n",
       "      <td>11.668</td>\n",
       "      <td>11.457</td>\n",
       "      <td>11.358</td>\n",
       "      <td>11.492</td>\n",
       "      <td>11.534</td>\n",
       "      <td>11.293</td>\n",
       "      <td>11.494</td>\n",
       "      <td>11.846</td>\n",
       "      <td>11.485</td>\n",
       "      <td>...</td>\n",
       "      <td>0.158</td>\n",
       "      <td>0.168</td>\n",
       "      <td>0.160</td>\n",
       "      <td>0.165</td>\n",
       "      <td>0.160</td>\n",
       "      <td>0.164</td>\n",
       "      <td>0.176</td>\n",
       "      <td>0.174</td>\n",
       "      <td>0.146</td>\n",
       "      <td>0.187</td>\n",
       "    </tr>\n",
       "    <tr>\n",
       "      <th>00:15:00</th>\n",
       "      <td>11.413</td>\n",
       "      <td>11.589</td>\n",
       "      <td>11.381</td>\n",
       "      <td>11.280</td>\n",
       "      <td>11.418</td>\n",
       "      <td>11.466</td>\n",
       "      <td>11.227</td>\n",
       "      <td>11.423</td>\n",
       "      <td>11.760</td>\n",
       "      <td>11.406</td>\n",
       "      <td>...</td>\n",
       "      <td>0.154</td>\n",
       "      <td>0.162</td>\n",
       "      <td>0.155</td>\n",
       "      <td>0.160</td>\n",
       "      <td>0.155</td>\n",
       "      <td>0.160</td>\n",
       "      <td>0.171</td>\n",
       "      <td>0.169</td>\n",
       "      <td>0.141</td>\n",
       "      <td>0.180</td>\n",
       "    </tr>\n",
       "    <tr>\n",
       "      <th>00:30:00</th>\n",
       "      <td>11.364</td>\n",
       "      <td>11.538</td>\n",
       "      <td>11.332</td>\n",
       "      <td>11.228</td>\n",
       "      <td>11.373</td>\n",
       "      <td>11.429</td>\n",
       "      <td>11.191</td>\n",
       "      <td>11.382</td>\n",
       "      <td>11.701</td>\n",
       "      <td>11.354</td>\n",
       "      <td>...</td>\n",
       "      <td>0.149</td>\n",
       "      <td>0.155</td>\n",
       "      <td>0.149</td>\n",
       "      <td>0.154</td>\n",
       "      <td>0.150</td>\n",
       "      <td>0.155</td>\n",
       "      <td>0.167</td>\n",
       "      <td>0.164</td>\n",
       "      <td>0.135</td>\n",
       "      <td>0.174</td>\n",
       "    </tr>\n",
       "  </tbody>\n",
       "</table>\n",
       "<p>5 rows × 75640 columns</p>\n",
       "</div>"
      ],
      "text/plain": [
       "                        0                    1                    2      \\\n",
       "Station         BUSHIDG_COAST        BUSHIDG_COAST        BUSHIDG_COAST   \n",
       "Date      2016-01-01 00:00:00  2016-01-02 00:00:00  2016-01-03 00:00:00   \n",
       "00:00:00               11.489               11.668               11.457   \n",
       "00:15:00               11.413               11.589               11.381   \n",
       "00:30:00               11.364               11.538               11.332   \n",
       "\n",
       "                        3                    4                    5      \\\n",
       "Station         BUSHIDG_COAST        BUSHIDG_COAST        BUSHIDG_COAST   \n",
       "Date      2016-01-04 00:00:00  2016-01-05 00:00:00  2016-01-06 00:00:00   \n",
       "00:00:00               11.358               11.492               11.534   \n",
       "00:15:00               11.280               11.418               11.466   \n",
       "00:30:00               11.228               11.373               11.429   \n",
       "\n",
       "                        6                    7                    8      \\\n",
       "Station         BUSHIDG_COAST        BUSHIDG_COAST        BUSHIDG_COAST   \n",
       "Date      2016-01-07 00:00:00  2016-01-08 00:00:00  2016-01-09 00:00:00   \n",
       "00:00:00               11.293               11.494               11.846   \n",
       "00:15:00               11.227               11.423               11.760   \n",
       "00:30:00               11.191               11.382               11.701   \n",
       "\n",
       "                        9      ...                75630                75631  \\\n",
       "Station         BUSHIDG_COAST  ...         RESLOWR_WEST         RESLOWR_WEST   \n",
       "Date      2016-01-10 00:00:00  ...  2021-01-22 00:00:00  2021-01-23 00:00:00   \n",
       "00:00:00               11.485  ...                0.158                0.168   \n",
       "00:15:00               11.406  ...                0.154                0.162   \n",
       "00:30:00               11.354  ...                0.149                0.155   \n",
       "\n",
       "                        75632                75633                75634  \\\n",
       "Station          RESLOWR_WEST         RESLOWR_WEST         RESLOWR_WEST   \n",
       "Date      2021-01-24 00:00:00  2021-01-25 00:00:00  2021-01-26 00:00:00   \n",
       "00:00:00                0.160                0.165                0.160   \n",
       "00:15:00                0.155                0.160                0.155   \n",
       "00:30:00                0.149                0.154                0.150   \n",
       "\n",
       "                        75635                75636                75637  \\\n",
       "Station          RESLOWR_WEST         RESLOWR_WEST         RESLOWR_WEST   \n",
       "Date      2021-01-27 00:00:00  2021-01-28 00:00:00  2021-01-29 00:00:00   \n",
       "00:00:00                0.164                0.176                0.174   \n",
       "00:15:00                0.160                0.171                0.169   \n",
       "00:30:00                0.155                0.167                0.164   \n",
       "\n",
       "                        75638                75639  \n",
       "Station          RESLOWR_WEST         RESLOWR_WEST  \n",
       "Date      2021-01-30 00:00:00  2021-01-31 00:00:00  \n",
       "00:00:00                0.146                0.187  \n",
       "00:15:00                0.141                0.180  \n",
       "00:30:00                0.135                0.174  \n",
       "\n",
       "[5 rows x 75640 columns]"
      ]
     },
     "execution_count": 25,
     "metadata": {},
     "output_type": "execute_result"
    }
   ],
   "source": [
    "#sorted_load.head()"
   ]
  },
  {
   "cell_type": "code",
   "execution_count": null,
   "metadata": {},
   "outputs": [],
   "source": [
    "\n",
    "'''Referenced from https://pytorch.org/tutorials/beginner/basics/data_tutorial.html#creating-a-custom-dataset-for-your-files'''\n",
    "class LoadDataset(Dataset):\n",
    "    def __init__(self, df, transform = None, target_transform=None):\n",
    "        self.sorted_load = sorted_load\n",
    "        self.transform = transform\n",
    "        self.target_transform = target_transform\n",
    "\n",
    "    def __len__(self):\n",
    "        return len(self.sorted_load)\n",
    "\n",
    "    def __getitem__(self, idx):\n",
    "        sample = self.sorted_load.iloc[idx]\n",
    "        if self.transform:\n",
    "            sample = self.transform(sample)\n",
    "        if self.target_transform:\n",
    "            sample = self.target_transform(sample)\n",
    "        return sample"
   ]
  },
  {
   "cell_type": "markdown",
   "metadata": {},
   "source": [
    "# Plots a single day and also prints first 5 rows, shape, columns, and index of the load profile dataframe"
   ]
  },
  {
   "cell_type": "code",
   "execution_count": 30,
   "metadata": {},
   "outputs": [
    {
     "data": {
      "text/html": [
       "<div>\n",
       "<style scoped>\n",
       "    .dataframe tbody tr th:only-of-type {\n",
       "        vertical-align: middle;\n",
       "    }\n",
       "\n",
       "    .dataframe tbody tr th {\n",
       "        vertical-align: top;\n",
       "    }\n",
       "\n",
       "    .dataframe thead th {\n",
       "        text-align: right;\n",
       "    }\n",
       "</style>\n",
       "<table border=\"1\" class=\"dataframe\">\n",
       "  <thead>\n",
       "    <tr style=\"text-align: right;\">\n",
       "      <th></th>\n",
       "      <th>Station</th>\n",
       "      <th>Date</th>\n",
       "      <th>00:00:00</th>\n",
       "      <th>00:15:00</th>\n",
       "      <th>00:30:00</th>\n",
       "      <th>00:45:00</th>\n",
       "      <th>01:00:00</th>\n",
       "      <th>01:15:00</th>\n",
       "      <th>01:30:00</th>\n",
       "      <th>01:45:00</th>\n",
       "      <th>...</th>\n",
       "      <th>21:30:00</th>\n",
       "      <th>21:45:00</th>\n",
       "      <th>22:00:00</th>\n",
       "      <th>22:15:00</th>\n",
       "      <th>22:30:00</th>\n",
       "      <th>22:45:00</th>\n",
       "      <th>23:00:00</th>\n",
       "      <th>23:15:00</th>\n",
       "      <th>23:30:00</th>\n",
       "      <th>23:45:00</th>\n",
       "    </tr>\n",
       "  </thead>\n",
       "  <tbody>\n",
       "    <tr>\n",
       "      <th>0</th>\n",
       "      <td>BUSHIDG_COAST</td>\n",
       "      <td>2016-01-01</td>\n",
       "      <td>11.489</td>\n",
       "      <td>11.413</td>\n",
       "      <td>11.364</td>\n",
       "      <td>11.325</td>\n",
       "      <td>11.312</td>\n",
       "      <td>11.307</td>\n",
       "      <td>11.273</td>\n",
       "      <td>11.273</td>\n",
       "      <td>...</td>\n",
       "      <td>12.304</td>\n",
       "      <td>12.261</td>\n",
       "      <td>12.177</td>\n",
       "      <td>12.112</td>\n",
       "      <td>12.015</td>\n",
       "      <td>11.900</td>\n",
       "      <td>11.711</td>\n",
       "      <td>11.624</td>\n",
       "      <td>11.536</td>\n",
       "      <td>11.399</td>\n",
       "    </tr>\n",
       "    <tr>\n",
       "      <th>1</th>\n",
       "      <td>BUSHIDG_COAST</td>\n",
       "      <td>2016-01-02</td>\n",
       "      <td>11.668</td>\n",
       "      <td>11.589</td>\n",
       "      <td>11.538</td>\n",
       "      <td>11.494</td>\n",
       "      <td>11.472</td>\n",
       "      <td>11.464</td>\n",
       "      <td>11.430</td>\n",
       "      <td>11.431</td>\n",
       "      <td>...</td>\n",
       "      <td>12.539</td>\n",
       "      <td>12.505</td>\n",
       "      <td>12.448</td>\n",
       "      <td>12.396</td>\n",
       "      <td>12.307</td>\n",
       "      <td>12.199</td>\n",
       "      <td>12.007</td>\n",
       "      <td>11.923</td>\n",
       "      <td>11.836</td>\n",
       "      <td>11.699</td>\n",
       "    </tr>\n",
       "    <tr>\n",
       "      <th>2</th>\n",
       "      <td>BUSHIDG_COAST</td>\n",
       "      <td>2016-01-03</td>\n",
       "      <td>11.457</td>\n",
       "      <td>11.381</td>\n",
       "      <td>11.332</td>\n",
       "      <td>11.291</td>\n",
       "      <td>11.271</td>\n",
       "      <td>11.266</td>\n",
       "      <td>11.235</td>\n",
       "      <td>11.241</td>\n",
       "      <td>...</td>\n",
       "      <td>12.358</td>\n",
       "      <td>12.314</td>\n",
       "      <td>12.241</td>\n",
       "      <td>12.175</td>\n",
       "      <td>12.075</td>\n",
       "      <td>11.953</td>\n",
       "      <td>11.746</td>\n",
       "      <td>11.651</td>\n",
       "      <td>11.558</td>\n",
       "      <td>11.416</td>\n",
       "    </tr>\n",
       "    <tr>\n",
       "      <th>3</th>\n",
       "      <td>BUSHIDG_COAST</td>\n",
       "      <td>2016-01-04</td>\n",
       "      <td>11.358</td>\n",
       "      <td>11.280</td>\n",
       "      <td>11.228</td>\n",
       "      <td>11.182</td>\n",
       "      <td>11.162</td>\n",
       "      <td>11.150</td>\n",
       "      <td>11.111</td>\n",
       "      <td>11.100</td>\n",
       "      <td>...</td>\n",
       "      <td>12.666</td>\n",
       "      <td>12.581</td>\n",
       "      <td>12.395</td>\n",
       "      <td>12.277</td>\n",
       "      <td>12.145</td>\n",
       "      <td>11.996</td>\n",
       "      <td>11.804</td>\n",
       "      <td>11.699</td>\n",
       "      <td>11.598</td>\n",
       "      <td>11.450</td>\n",
       "    </tr>\n",
       "    <tr>\n",
       "      <th>4</th>\n",
       "      <td>BUSHIDG_COAST</td>\n",
       "      <td>2016-01-05</td>\n",
       "      <td>11.492</td>\n",
       "      <td>11.418</td>\n",
       "      <td>11.373</td>\n",
       "      <td>11.338</td>\n",
       "      <td>11.336</td>\n",
       "      <td>11.334</td>\n",
       "      <td>11.300</td>\n",
       "      <td>11.296</td>\n",
       "      <td>...</td>\n",
       "      <td>12.781</td>\n",
       "      <td>12.711</td>\n",
       "      <td>12.570</td>\n",
       "      <td>12.472</td>\n",
       "      <td>12.350</td>\n",
       "      <td>12.210</td>\n",
       "      <td>12.008</td>\n",
       "      <td>11.906</td>\n",
       "      <td>11.806</td>\n",
       "      <td>11.658</td>\n",
       "    </tr>\n",
       "  </tbody>\n",
       "</table>\n",
       "<p>5 rows × 98 columns</p>\n",
       "</div>"
      ],
      "text/plain": [
       "         Station       Date  00:00:00  00:15:00  00:30:00  00:45:00  01:00:00  \\\n",
       "0  BUSHIDG_COAST 2016-01-01    11.489    11.413    11.364    11.325    11.312   \n",
       "1  BUSHIDG_COAST 2016-01-02    11.668    11.589    11.538    11.494    11.472   \n",
       "2  BUSHIDG_COAST 2016-01-03    11.457    11.381    11.332    11.291    11.271   \n",
       "3  BUSHIDG_COAST 2016-01-04    11.358    11.280    11.228    11.182    11.162   \n",
       "4  BUSHIDG_COAST 2016-01-05    11.492    11.418    11.373    11.338    11.336   \n",
       "\n",
       "   01:15:00  01:30:00  01:45:00  ...  21:30:00  21:45:00  22:00:00  22:15:00  \\\n",
       "0    11.307    11.273    11.273  ...    12.304    12.261    12.177    12.112   \n",
       "1    11.464    11.430    11.431  ...    12.539    12.505    12.448    12.396   \n",
       "2    11.266    11.235    11.241  ...    12.358    12.314    12.241    12.175   \n",
       "3    11.150    11.111    11.100  ...    12.666    12.581    12.395    12.277   \n",
       "4    11.334    11.300    11.296  ...    12.781    12.711    12.570    12.472   \n",
       "\n",
       "   22:30:00  22:45:00  23:00:00  23:15:00  23:30:00  23:45:00  \n",
       "0    12.015    11.900    11.711    11.624    11.536    11.399  \n",
       "1    12.307    12.199    12.007    11.923    11.836    11.699  \n",
       "2    12.075    11.953    11.746    11.651    11.558    11.416  \n",
       "3    12.145    11.996    11.804    11.699    11.598    11.450  \n",
       "4    12.350    12.210    12.008    11.906    11.806    11.658  \n",
       "\n",
       "[5 rows x 98 columns]"
      ]
     },
     "execution_count": 30,
     "metadata": {},
     "output_type": "execute_result"
    }
   ],
   "source": [
    "if 'int_kWh97' in save_load_df.columns:\n",
    "    sorted_load = sorted_load.drop(columns=['int_kWh97', 'int_kWh98', 'int_kWh99', 'int_kWh100'])\n",
    "sorted_load.head()"
   ]
  },
  {
   "cell_type": "code",
   "execution_count": 93,
   "metadata": {},
   "outputs": [
    {
     "name": "stdout",
     "output_type": "stream",
     "text": [
      "00:00:00    11.489\n",
      "00:15:00    11.413\n",
      "00:30:00    11.364\n",
      "00:45:00    11.325\n",
      "01:00:00    11.312\n",
      "             ...  \n",
      "22:45:00    11.900\n",
      "23:00:00    11.711\n",
      "23:15:00    11.624\n",
      "23:30:00    11.536\n",
      "23:45:00    11.399\n",
      "Name: 0, Length: 96, dtype: object\n"
     ]
    },
    {
     "data": {
      "application/vnd.plotly.v1+json": {
       "config": {
        "plotlyServerURL": "https://plot.ly"
       },
       "data": [
        {
         "name": "BUSHIDG_COAST",
         "type": "scatter",
         "x": [
          "00:00:00",
          "00:15:00",
          "00:30:00",
          "00:45:00",
          "01:00:00",
          "01:15:00",
          "01:30:00",
          "01:45:00",
          "02:00:00",
          "02:15:00",
          "02:30:00",
          "02:45:00",
          "03:00:00",
          "03:15:00",
          "03:30:00",
          "03:45:00",
          "04:00:00",
          "04:15:00",
          "04:30:00",
          "04:45:00",
          "05:00:00",
          "05:15:00",
          "05:30:00",
          "05:45:00",
          "06:00:00",
          "06:15:00",
          "06:30:00",
          "06:45:00",
          "07:00:00",
          "07:15:00",
          "07:30:00",
          "07:45:00",
          "08:00:00",
          "08:15:00",
          "08:30:00",
          "08:45:00",
          "09:00:00",
          "09:15:00",
          "09:30:00",
          "09:45:00",
          "10:00:00",
          "10:15:00",
          "10:30:00",
          "10:45:00",
          "11:00:00",
          "11:15:00",
          "11:30:00",
          "11:45:00",
          "12:00:00",
          "12:15:00",
          "12:30:00",
          "12:45:00",
          "13:00:00",
          "13:15:00",
          "13:30:00",
          "13:45:00",
          "14:00:00",
          "14:15:00",
          "14:30:00",
          "14:45:00",
          "15:00:00",
          "15:15:00",
          "15:30:00",
          "15:45:00",
          "16:00:00",
          "16:15:00",
          "16:30:00",
          "16:45:00",
          "17:00:00",
          "17:15:00",
          "17:30:00",
          "17:45:00",
          "18:00:00",
          "18:15:00",
          "18:30:00",
          "18:45:00",
          "19:00:00",
          "19:15:00",
          "19:30:00",
          "19:45:00",
          "20:00:00",
          "20:15:00",
          "20:30:00",
          "20:45:00",
          "21:00:00",
          "21:15:00",
          "21:30:00",
          "21:45:00",
          "22:00:00",
          "22:15:00",
          "22:30:00",
          "22:45:00",
          "23:00:00",
          "23:15:00",
          "23:30:00",
          "23:45:00"
         ],
         "y": [
          11.489,
          11.413,
          11.364,
          11.325,
          11.312,
          11.307,
          11.273,
          11.273,
          11.288,
          11.28,
          11.267,
          11.218,
          11.097,
          11.052,
          11.051,
          11.088,
          11.201,
          11.204,
          11.248,
          11.3,
          11.374,
          11.416,
          11.502,
          11.617,
          11.873,
          11.994,
          12.026,
          12.064,
          12.292,
          12.277,
          12.133,
          12,
          11.875,
          11.821,
          11.827,
          11.831,
          11.901,
          11.903,
          11.917,
          11.925,
          11.989,
          11.974,
          11.938,
          11.853,
          11.696,
          11.623,
          11.589,
          11.59,
          11.679,
          11.692,
          11.685,
          11.695,
          11.719,
          11.714,
          11.705,
          11.704,
          11.708,
          11.692,
          11.673,
          11.639,
          11.592,
          11.564,
          11.553,
          11.558,
          11.539,
          11.557,
          11.608,
          11.699,
          11.954,
          12.255,
          12.539,
          12.736,
          12.693,
          12.761,
          12.775,
          12.756,
          12.671,
          12.604,
          12.544,
          12.51,
          12.435,
          12.419,
          12.426,
          12.424,
          12.399,
          12.344,
          12.304,
          12.261,
          12.177,
          12.112,
          12.015,
          11.9,
          11.711,
          11.624,
          11.536,
          11.399
         ]
        }
       ],
       "layout": {
        "showlegend": true,
        "template": {
         "data": {
          "bar": [
           {
            "error_x": {
             "color": "#2a3f5f"
            },
            "error_y": {
             "color": "#2a3f5f"
            },
            "marker": {
             "line": {
              "color": "#E5ECF6",
              "width": 0.5
             },
             "pattern": {
              "fillmode": "overlay",
              "size": 10,
              "solidity": 0.2
             }
            },
            "type": "bar"
           }
          ],
          "barpolar": [
           {
            "marker": {
             "line": {
              "color": "#E5ECF6",
              "width": 0.5
             },
             "pattern": {
              "fillmode": "overlay",
              "size": 10,
              "solidity": 0.2
             }
            },
            "type": "barpolar"
           }
          ],
          "carpet": [
           {
            "aaxis": {
             "endlinecolor": "#2a3f5f",
             "gridcolor": "white",
             "linecolor": "white",
             "minorgridcolor": "white",
             "startlinecolor": "#2a3f5f"
            },
            "baxis": {
             "endlinecolor": "#2a3f5f",
             "gridcolor": "white",
             "linecolor": "white",
             "minorgridcolor": "white",
             "startlinecolor": "#2a3f5f"
            },
            "type": "carpet"
           }
          ],
          "choropleth": [
           {
            "colorbar": {
             "outlinewidth": 0,
             "ticks": ""
            },
            "type": "choropleth"
           }
          ],
          "contour": [
           {
            "colorbar": {
             "outlinewidth": 0,
             "ticks": ""
            },
            "colorscale": [
             [
              0,
              "#0d0887"
             ],
             [
              0.1111111111111111,
              "#46039f"
             ],
             [
              0.2222222222222222,
              "#7201a8"
             ],
             [
              0.3333333333333333,
              "#9c179e"
             ],
             [
              0.4444444444444444,
              "#bd3786"
             ],
             [
              0.5555555555555556,
              "#d8576b"
             ],
             [
              0.6666666666666666,
              "#ed7953"
             ],
             [
              0.7777777777777778,
              "#fb9f3a"
             ],
             [
              0.8888888888888888,
              "#fdca26"
             ],
             [
              1,
              "#f0f921"
             ]
            ],
            "type": "contour"
           }
          ],
          "contourcarpet": [
           {
            "colorbar": {
             "outlinewidth": 0,
             "ticks": ""
            },
            "type": "contourcarpet"
           }
          ],
          "heatmap": [
           {
            "colorbar": {
             "outlinewidth": 0,
             "ticks": ""
            },
            "colorscale": [
             [
              0,
              "#0d0887"
             ],
             [
              0.1111111111111111,
              "#46039f"
             ],
             [
              0.2222222222222222,
              "#7201a8"
             ],
             [
              0.3333333333333333,
              "#9c179e"
             ],
             [
              0.4444444444444444,
              "#bd3786"
             ],
             [
              0.5555555555555556,
              "#d8576b"
             ],
             [
              0.6666666666666666,
              "#ed7953"
             ],
             [
              0.7777777777777778,
              "#fb9f3a"
             ],
             [
              0.8888888888888888,
              "#fdca26"
             ],
             [
              1,
              "#f0f921"
             ]
            ],
            "type": "heatmap"
           }
          ],
          "heatmapgl": [
           {
            "colorbar": {
             "outlinewidth": 0,
             "ticks": ""
            },
            "colorscale": [
             [
              0,
              "#0d0887"
             ],
             [
              0.1111111111111111,
              "#46039f"
             ],
             [
              0.2222222222222222,
              "#7201a8"
             ],
             [
              0.3333333333333333,
              "#9c179e"
             ],
             [
              0.4444444444444444,
              "#bd3786"
             ],
             [
              0.5555555555555556,
              "#d8576b"
             ],
             [
              0.6666666666666666,
              "#ed7953"
             ],
             [
              0.7777777777777778,
              "#fb9f3a"
             ],
             [
              0.8888888888888888,
              "#fdca26"
             ],
             [
              1,
              "#f0f921"
             ]
            ],
            "type": "heatmapgl"
           }
          ],
          "histogram": [
           {
            "marker": {
             "pattern": {
              "fillmode": "overlay",
              "size": 10,
              "solidity": 0.2
             }
            },
            "type": "histogram"
           }
          ],
          "histogram2d": [
           {
            "colorbar": {
             "outlinewidth": 0,
             "ticks": ""
            },
            "colorscale": [
             [
              0,
              "#0d0887"
             ],
             [
              0.1111111111111111,
              "#46039f"
             ],
             [
              0.2222222222222222,
              "#7201a8"
             ],
             [
              0.3333333333333333,
              "#9c179e"
             ],
             [
              0.4444444444444444,
              "#bd3786"
             ],
             [
              0.5555555555555556,
              "#d8576b"
             ],
             [
              0.6666666666666666,
              "#ed7953"
             ],
             [
              0.7777777777777778,
              "#fb9f3a"
             ],
             [
              0.8888888888888888,
              "#fdca26"
             ],
             [
              1,
              "#f0f921"
             ]
            ],
            "type": "histogram2d"
           }
          ],
          "histogram2dcontour": [
           {
            "colorbar": {
             "outlinewidth": 0,
             "ticks": ""
            },
            "colorscale": [
             [
              0,
              "#0d0887"
             ],
             [
              0.1111111111111111,
              "#46039f"
             ],
             [
              0.2222222222222222,
              "#7201a8"
             ],
             [
              0.3333333333333333,
              "#9c179e"
             ],
             [
              0.4444444444444444,
              "#bd3786"
             ],
             [
              0.5555555555555556,
              "#d8576b"
             ],
             [
              0.6666666666666666,
              "#ed7953"
             ],
             [
              0.7777777777777778,
              "#fb9f3a"
             ],
             [
              0.8888888888888888,
              "#fdca26"
             ],
             [
              1,
              "#f0f921"
             ]
            ],
            "type": "histogram2dcontour"
           }
          ],
          "mesh3d": [
           {
            "colorbar": {
             "outlinewidth": 0,
             "ticks": ""
            },
            "type": "mesh3d"
           }
          ],
          "parcoords": [
           {
            "line": {
             "colorbar": {
              "outlinewidth": 0,
              "ticks": ""
             }
            },
            "type": "parcoords"
           }
          ],
          "pie": [
           {
            "automargin": true,
            "type": "pie"
           }
          ],
          "scatter": [
           {
            "marker": {
             "colorbar": {
              "outlinewidth": 0,
              "ticks": ""
             }
            },
            "type": "scatter"
           }
          ],
          "scatter3d": [
           {
            "line": {
             "colorbar": {
              "outlinewidth": 0,
              "ticks": ""
             }
            },
            "marker": {
             "colorbar": {
              "outlinewidth": 0,
              "ticks": ""
             }
            },
            "type": "scatter3d"
           }
          ],
          "scattercarpet": [
           {
            "marker": {
             "colorbar": {
              "outlinewidth": 0,
              "ticks": ""
             }
            },
            "type": "scattercarpet"
           }
          ],
          "scattergeo": [
           {
            "marker": {
             "colorbar": {
              "outlinewidth": 0,
              "ticks": ""
             }
            },
            "type": "scattergeo"
           }
          ],
          "scattergl": [
           {
            "marker": {
             "colorbar": {
              "outlinewidth": 0,
              "ticks": ""
             }
            },
            "type": "scattergl"
           }
          ],
          "scattermapbox": [
           {
            "marker": {
             "colorbar": {
              "outlinewidth": 0,
              "ticks": ""
             }
            },
            "type": "scattermapbox"
           }
          ],
          "scatterpolar": [
           {
            "marker": {
             "colorbar": {
              "outlinewidth": 0,
              "ticks": ""
             }
            },
            "type": "scatterpolar"
           }
          ],
          "scatterpolargl": [
           {
            "marker": {
             "colorbar": {
              "outlinewidth": 0,
              "ticks": ""
             }
            },
            "type": "scatterpolargl"
           }
          ],
          "scatterternary": [
           {
            "marker": {
             "colorbar": {
              "outlinewidth": 0,
              "ticks": ""
             }
            },
            "type": "scatterternary"
           }
          ],
          "surface": [
           {
            "colorbar": {
             "outlinewidth": 0,
             "ticks": ""
            },
            "colorscale": [
             [
              0,
              "#0d0887"
             ],
             [
              0.1111111111111111,
              "#46039f"
             ],
             [
              0.2222222222222222,
              "#7201a8"
             ],
             [
              0.3333333333333333,
              "#9c179e"
             ],
             [
              0.4444444444444444,
              "#bd3786"
             ],
             [
              0.5555555555555556,
              "#d8576b"
             ],
             [
              0.6666666666666666,
              "#ed7953"
             ],
             [
              0.7777777777777778,
              "#fb9f3a"
             ],
             [
              0.8888888888888888,
              "#fdca26"
             ],
             [
              1,
              "#f0f921"
             ]
            ],
            "type": "surface"
           }
          ],
          "table": [
           {
            "cells": {
             "fill": {
              "color": "#EBF0F8"
             },
             "line": {
              "color": "white"
             }
            },
            "header": {
             "fill": {
              "color": "#C8D4E3"
             },
             "line": {
              "color": "white"
             }
            },
            "type": "table"
           }
          ]
         },
         "layout": {
          "annotationdefaults": {
           "arrowcolor": "#2a3f5f",
           "arrowhead": 0,
           "arrowwidth": 1
          },
          "autotypenumbers": "strict",
          "coloraxis": {
           "colorbar": {
            "outlinewidth": 0,
            "ticks": ""
           }
          },
          "colorscale": {
           "diverging": [
            [
             0,
             "#8e0152"
            ],
            [
             0.1,
             "#c51b7d"
            ],
            [
             0.2,
             "#de77ae"
            ],
            [
             0.3,
             "#f1b6da"
            ],
            [
             0.4,
             "#fde0ef"
            ],
            [
             0.5,
             "#f7f7f7"
            ],
            [
             0.6,
             "#e6f5d0"
            ],
            [
             0.7,
             "#b8e186"
            ],
            [
             0.8,
             "#7fbc41"
            ],
            [
             0.9,
             "#4d9221"
            ],
            [
             1,
             "#276419"
            ]
           ],
           "sequential": [
            [
             0,
             "#0d0887"
            ],
            [
             0.1111111111111111,
             "#46039f"
            ],
            [
             0.2222222222222222,
             "#7201a8"
            ],
            [
             0.3333333333333333,
             "#9c179e"
            ],
            [
             0.4444444444444444,
             "#bd3786"
            ],
            [
             0.5555555555555556,
             "#d8576b"
            ],
            [
             0.6666666666666666,
             "#ed7953"
            ],
            [
             0.7777777777777778,
             "#fb9f3a"
            ],
            [
             0.8888888888888888,
             "#fdca26"
            ],
            [
             1,
             "#f0f921"
            ]
           ],
           "sequentialminus": [
            [
             0,
             "#0d0887"
            ],
            [
             0.1111111111111111,
             "#46039f"
            ],
            [
             0.2222222222222222,
             "#7201a8"
            ],
            [
             0.3333333333333333,
             "#9c179e"
            ],
            [
             0.4444444444444444,
             "#bd3786"
            ],
            [
             0.5555555555555556,
             "#d8576b"
            ],
            [
             0.6666666666666666,
             "#ed7953"
            ],
            [
             0.7777777777777778,
             "#fb9f3a"
            ],
            [
             0.8888888888888888,
             "#fdca26"
            ],
            [
             1,
             "#f0f921"
            ]
           ]
          },
          "colorway": [
           "#636efa",
           "#EF553B",
           "#00cc96",
           "#ab63fa",
           "#FFA15A",
           "#19d3f3",
           "#FF6692",
           "#B6E880",
           "#FF97FF",
           "#FECB52"
          ],
          "font": {
           "color": "#2a3f5f"
          },
          "geo": {
           "bgcolor": "white",
           "lakecolor": "white",
           "landcolor": "#E5ECF6",
           "showlakes": true,
           "showland": true,
           "subunitcolor": "white"
          },
          "hoverlabel": {
           "align": "left"
          },
          "hovermode": "closest",
          "mapbox": {
           "style": "light"
          },
          "paper_bgcolor": "white",
          "plot_bgcolor": "#E5ECF6",
          "polar": {
           "angularaxis": {
            "gridcolor": "white",
            "linecolor": "white",
            "ticks": ""
           },
           "bgcolor": "#E5ECF6",
           "radialaxis": {
            "gridcolor": "white",
            "linecolor": "white",
            "ticks": ""
           }
          },
          "scene": {
           "xaxis": {
            "backgroundcolor": "#E5ECF6",
            "gridcolor": "white",
            "gridwidth": 2,
            "linecolor": "white",
            "showbackground": true,
            "ticks": "",
            "zerolinecolor": "white"
           },
           "yaxis": {
            "backgroundcolor": "#E5ECF6",
            "gridcolor": "white",
            "gridwidth": 2,
            "linecolor": "white",
            "showbackground": true,
            "ticks": "",
            "zerolinecolor": "white"
           },
           "zaxis": {
            "backgroundcolor": "#E5ECF6",
            "gridcolor": "white",
            "gridwidth": 2,
            "linecolor": "white",
            "showbackground": true,
            "ticks": "",
            "zerolinecolor": "white"
           }
          },
          "shapedefaults": {
           "line": {
            "color": "#2a3f5f"
           }
          },
          "ternary": {
           "aaxis": {
            "gridcolor": "white",
            "linecolor": "white",
            "ticks": ""
           },
           "baxis": {
            "gridcolor": "white",
            "linecolor": "white",
            "ticks": ""
           },
           "bgcolor": "#E5ECF6",
           "caxis": {
            "gridcolor": "white",
            "linecolor": "white",
            "ticks": ""
           }
          },
          "title": {
           "x": 0.05
          },
          "xaxis": {
           "automargin": true,
           "gridcolor": "white",
           "linecolor": "white",
           "ticks": "",
           "title": {
            "standoff": 15
           },
           "zerolinecolor": "white",
           "zerolinewidth": 2
          },
          "yaxis": {
           "automargin": true,
           "gridcolor": "white",
           "linecolor": "white",
           "ticks": "",
           "title": {
            "standoff": 15
           },
           "zerolinecolor": "white",
           "zerolinewidth": 2
          }
         }
        },
        "title": {
         "text": "Daily Load  00:00:00 at BUSHIDG_COAST"
        },
        "xaxis": {
         "tickangle": 45,
         "title": {
          "text": "Time of Day"
         }
        },
        "yaxis": {
         "title": {
          "text": "Load (kW)"
         }
        }
       }
      }
     },
     "metadata": {},
     "output_type": "display_data"
    }
   ],
   "source": [
    "single_profile = sorted_load.iloc[0].loc[load_columns]\n",
    "print(single_profile)\n",
    "Station = str(sorted_load.iloc[0].loc[\"Station\"])\n",
    "date_value = str(sorted_load.iloc[0].loc[\"Date\"])[:-9]\n",
    "fig = go.Figure()\n",
    "fig.add_trace(go.Scatter(x = single_profile.index, y = single_profile.values, name = Station))\n",
    "\n",
    "fig.update_layout(title = f\"Daily Load {date_value} at {Station}\", showlegend=True)\n",
    "fig.update_xaxes(tickangle=45, title_text=\"Time of Day\")\n",
    "fig.update_yaxes(title_text=\"Load (kW)\")\n",
    "fig.show()"
   ]
  },
  {
   "cell_type": "code",
   "execution_count": null,
   "metadata": {},
   "outputs": [
    {
     "data": {
      "text/plain": [
       "<AxesSubplot:title={'center':'Moving Average'}>"
      ]
     },
     "execution_count": 6,
     "metadata": {},
     "output_type": "execute_result"
    },
    {
     "data": {
      "image/png": "[encoded data removed]",
      "image/svg+xml": "<?xml version=\"1.0\" encoding=\"utf-8\" standalone=\"no\"?>\n<!DOCTYPE svg PUBLIC \"-//W3C//DTD SVG 1.1//EN\"\n  \"http://www.w3.org/Graphics/SVG/1.1/DTD/svg11.dtd\">\n<svg height=\"327.691685pt\" version=\"1.1\" viewBox=\"0 0 378.465625 327.691685\" width=\"378.465625pt\" xmlns=\"http://www.w3.org/2000/svg\" xmlns:xlink=\"http://www.w3.org/1999/xlink\">\n <metadata>\n  <rdf:RDF xmlns:cc=\"http://creativecommons.org/ns#\" xmlns:dc=\"http://purl.org/dc/elements/1.1/\" xmlns:rdf=\"http://www.w3.org/1999/02/22-rdf-syntax-ns#\">\n   <cc:Work>\n    <dc:type rdf:resource=\"http://purl.org/dc/dcmitype/StillImage\"/>\n    <dc:date>2021-08-23T19:59:36.630166</dc:date>\n    <dc:format>image/svg+xml</dc:format>\n    <dc:creator>\n     <cc:Agent>\n      <dc:title>Matplotlib v3.4.2, https://matplotlib.org/</dc:title>\n     </cc:Agent>\n    </dc:creator>\n   </cc:Work>\n  </rdf:RDF>\n </metadata>\n <defs>\n  <style type=\"text/css\">*{stroke-linecap:butt;stroke-linejoin:round;}</style>\n </defs>\n <g id=\"figure_1\">\n  <g id=\"patch_1\">\n   <path d=\"M 0 327.691685 \nL 378.465625 327.691685 \nL 378.465625 0 \nL 0 0 \nz\n\" style=\"fill:none;\"/>\n  </g>\n  <g id=\"axes_1\">\n   <g id=\"patch_2\">\n    <path d=\"M 36.465625 239.758125 \nL 371.265625 239.758125 \nL 371.265625 22.318125 \nL 36.465625 22.318125 \nz\n\" style=\"fill:#ffffff;\"/>\n   </g>\n   <g id=\"matplotlib.axis_1\">\n    <g id=\"xtick_1\">\n     <g id=\"line2d_1\">\n      <defs>\n       <path d=\"M 0 0 \nL 0 3.5 \n\" id=\"m4c6da6fd2c\" style=\"stroke:#000000;stroke-width:0.8;\"/>\n      </defs>\n      <g>\n       <use style=\"stroke:#000000;stroke-width:0.8;\" x=\"51.683807\" xlink:href=\"#m4c6da6fd2c\" y=\"239.758125\"/>\n      </g>\n     </g>\n     <g id=\"text_1\">\n      <!-- Load at Interval 1 -->\n      <g transform=\"translate(22.439417 314.522157)rotate(-45)scale(0.1 -0.1)\">\n       <defs>\n        <path d=\"M 628 4666 \nL 1259 4666 \nL 1259 531 \nL 3531 531 \nL 3531 0 \nL 628 0 \nL 628 4666 \nz\n\" id=\"DejaVuSans-4c\" transform=\"scale(0.015625)\"/>\n        <path d=\"M 1959 3097 \nQ 1497 3097 1228 2736 \nQ 959 2375 959 1747 \nQ 959 1119 1226 758 \nQ 1494 397 1959 397 \nQ 2419 397 2687 759 \nQ 2956 1122 2956 1747 \nQ 2956 2369 2687 2733 \nQ 2419 3097 1959 3097 \nz\nM 1959 3584 \nQ 2709 3584 3137 3096 \nQ 3566 2609 3566 1747 \nQ 3566 888 3137 398 \nQ 2709 -91 1959 -91 \nQ 1206 -91 779 398 \nQ 353 888 353 1747 \nQ 353 2609 779 3096 \nQ 1206 3584 1959 3584 \nz\n\" id=\"DejaVuSans-6f\" transform=\"scale(0.015625)\"/>\n        <path d=\"M 2194 1759 \nQ 1497 1759 1228 1600 \nQ 959 1441 959 1056 \nQ 959 750 1161 570 \nQ 1363 391 1709 391 \nQ 2188 391 2477 730 \nQ 2766 1069 2766 1631 \nL 2766 1759 \nL 2194 1759 \nz\nM 3341 1997 \nL 3341 0 \nL 2766 0 \nL 2766 531 \nQ 2569 213 2275 61 \nQ 1981 -91 1556 -91 \nQ 1019 -91 701 211 \nQ 384 513 384 1019 \nQ 384 1609 779 1909 \nQ 1175 2209 1959 2209 \nL 2766 2209 \nL 2766 2266 \nQ 2766 2663 2505 2880 \nQ 2244 3097 1772 3097 \nQ 1472 3097 1187 3025 \nQ 903 2953 641 2809 \nL 641 3341 \nQ 956 3463 1253 3523 \nQ 1550 3584 1831 3584 \nQ 2591 3584 2966 3190 \nQ 3341 2797 3341 1997 \nz\n\" id=\"DejaVuSans-61\" transform=\"scale(0.015625)\"/>\n        <path d=\"M 2906 2969 \nL 2906 4863 \nL 3481 4863 \nL 3481 0 \nL 2906 0 \nL 2906 525 \nQ 2725 213 2448 61 \nQ 2172 -91 1784 -91 \nQ 1150 -91 751 415 \nQ 353 922 353 1747 \nQ 353 2572 751 3078 \nQ 1150 3584 1784 3584 \nQ 2172 3584 2448 3432 \nQ 2725 3281 2906 2969 \nz\nM 947 1747 \nQ 947 1113 1208 752 \nQ 1469 391 1925 391 \nQ 2381 391 2643 752 \nQ 2906 1113 2906 1747 \nQ 2906 2381 2643 2742 \nQ 2381 3103 1925 3103 \nQ 1469 3103 1208 2742 \nQ 947 2381 947 1747 \nz\n\" id=\"DejaVuSans-64\" transform=\"scale(0.015625)\"/>\n        <path id=\"DejaVuSans-20\" transform=\"scale(0.015625)\"/>\n        <path d=\"M 1172 4494 \nL 1172 3500 \nL 2356 3500 \nL 2356 3053 \nL 1172 3053 \nL 1172 1153 \nQ 1172 725 1289 603 \nQ 1406 481 1766 481 \nL 2356 481 \nL 2356 0 \nL 1766 0 \nQ 1100 0 847 248 \nQ 594 497 594 1153 \nL 594 3053 \nL 172 3053 \nL 172 3500 \nL 594 3500 \nL 594 4494 \nL 1172 4494 \nz\n\" id=\"DejaVuSans-74\" transform=\"scale(0.015625)\"/>\n        <path d=\"M 628 4666 \nL 1259 4666 \nL 1259 0 \nL 628 0 \nL 628 4666 \nz\n\" id=\"DejaVuSans-49\" transform=\"scale(0.015625)\"/>\n        <path d=\"M 3513 2113 \nL 3513 0 \nL 2938 0 \nL 2938 2094 \nQ 2938 2591 2744 2837 \nQ 2550 3084 2163 3084 \nQ 1697 3084 1428 2787 \nQ 1159 2491 1159 1978 \nL 1159 0 \nL 581 0 \nL 581 3500 \nL 1159 3500 \nL 1159 2956 \nQ 1366 3272 1645 3428 \nQ 1925 3584 2291 3584 \nQ 2894 3584 3203 3211 \nQ 3513 2838 3513 2113 \nz\n\" id=\"DejaVuSans-6e\" transform=\"scale(0.015625)\"/>\n        <path d=\"M 3597 1894 \nL 3597 1613 \nL 953 1613 \nQ 991 1019 1311 708 \nQ 1631 397 2203 397 \nQ 2534 397 2845 478 \nQ 3156 559 3463 722 \nL 3463 178 \nQ 3153 47 2828 -22 \nQ 2503 -91 2169 -91 \nQ 1331 -91 842 396 \nQ 353 884 353 1716 \nQ 353 2575 817 3079 \nQ 1281 3584 2069 3584 \nQ 2775 3584 3186 3129 \nQ 3597 2675 3597 1894 \nz\nM 3022 2063 \nQ 3016 2534 2758 2815 \nQ 2500 3097 2075 3097 \nQ 1594 3097 1305 2825 \nQ 1016 2553 972 2059 \nL 3022 2063 \nz\n\" id=\"DejaVuSans-65\" transform=\"scale(0.015625)\"/>\n        <path d=\"M 2631 2963 \nQ 2534 3019 2420 3045 \nQ 2306 3072 2169 3072 \nQ 1681 3072 1420 2755 \nQ 1159 2438 1159 1844 \nL 1159 0 \nL 581 0 \nL 581 3500 \nL 1159 3500 \nL 1159 2956 \nQ 1341 3275 1631 3429 \nQ 1922 3584 2338 3584 \nQ 2397 3584 2469 3576 \nQ 2541 3569 2628 3553 \nL 2631 2963 \nz\n\" id=\"DejaVuSans-72\" transform=\"scale(0.015625)\"/>\n        <path d=\"M 191 3500 \nL 800 3500 \nL 1894 563 \nL 2988 3500 \nL 3597 3500 \nL 2284 0 \nL 1503 0 \nL 191 3500 \nz\n\" id=\"DejaVuSans-76\" transform=\"scale(0.015625)\"/>\n        <path d=\"M 603 4863 \nL 1178 4863 \nL 1178 0 \nL 603 0 \nL 603 4863 \nz\n\" id=\"DejaVuSans-6c\" transform=\"scale(0.015625)\"/>\n        <path d=\"M 794 531 \nL 1825 531 \nL 1825 4091 \nL 703 3866 \nL 703 4441 \nL 1819 4666 \nL 2450 4666 \nL 2450 531 \nL 3481 531 \nL 3481 0 \nL 794 0 \nL 794 531 \nz\n\" id=\"DejaVuSans-31\" transform=\"scale(0.015625)\"/>\n       </defs>\n       <use xlink:href=\"#DejaVuSans-4c\"/>\n       <use x=\"53.962891\" xlink:href=\"#DejaVuSans-6f\"/>\n       <use x=\"115.144531\" xlink:href=\"#DejaVuSans-61\"/>\n       <use x=\"176.423828\" xlink:href=\"#DejaVuSans-64\"/>\n       <use x=\"239.900391\" xlink:href=\"#DejaVuSans-20\"/>\n       <use x=\"271.6875\" xlink:href=\"#DejaVuSans-61\"/>\n       <use x=\"332.966797\" xlink:href=\"#DejaVuSans-74\"/>\n       <use x=\"372.175781\" xlink:href=\"#DejaVuSans-20\"/>\n       <use x=\"403.962891\" xlink:href=\"#DejaVuSans-49\"/>\n       <use x=\"433.455078\" xlink:href=\"#DejaVuSans-6e\"/>\n       <use x=\"496.833984\" xlink:href=\"#DejaVuSans-74\"/>\n       <use x=\"536.042969\" xlink:href=\"#DejaVuSans-65\"/>\n       <use x=\"597.566406\" xlink:href=\"#DejaVuSans-72\"/>\n       <use x=\"638.679688\" xlink:href=\"#DejaVuSans-76\"/>\n       <use x=\"697.859375\" xlink:href=\"#DejaVuSans-61\"/>\n       <use x=\"759.138672\" xlink:href=\"#DejaVuSans-6c\"/>\n       <use x=\"786.921875\" xlink:href=\"#DejaVuSans-20\"/>\n       <use x=\"818.708984\" xlink:href=\"#DejaVuSans-31\"/>\n      </g>\n     </g>\n    </g>\n    <g id=\"xtick_2\">\n     <g id=\"line2d_2\">\n      <g>\n       <use style=\"stroke:#000000;stroke-width:0.8;\" x=\"115.760362\" xlink:href=\"#m4c6da6fd2c\" y=\"239.758125\"/>\n      </g>\n     </g>\n     <g id=\"text_2\">\n      <!-- Load at Interval 21 -->\n      <g transform=\"translate(84.266489 319.021123)rotate(-45)scale(0.1 -0.1)\">\n       <defs>\n        <path d=\"M 1228 531 \nL 3431 531 \nL 3431 0 \nL 469 0 \nL 469 531 \nQ 828 903 1448 1529 \nQ 2069 2156 2228 2338 \nQ 2531 2678 2651 2914 \nQ 2772 3150 2772 3378 \nQ 2772 3750 2511 3984 \nQ 2250 4219 1831 4219 \nQ 1534 4219 1204 4116 \nQ 875 4013 500 3803 \nL 500 4441 \nQ 881 4594 1212 4672 \nQ 1544 4750 1819 4750 \nQ 2544 4750 2975 4387 \nQ 3406 4025 3406 3419 \nQ 3406 3131 3298 2873 \nQ 3191 2616 2906 2266 \nQ 2828 2175 2409 1742 \nQ 1991 1309 1228 531 \nz\n\" id=\"DejaVuSans-32\" transform=\"scale(0.015625)\"/>\n       </defs>\n       <use xlink:href=\"#DejaVuSans-4c\"/>\n       <use x=\"53.962891\" xlink:href=\"#DejaVuSans-6f\"/>\n       <use x=\"115.144531\" xlink:href=\"#DejaVuSans-61\"/>\n       <use x=\"176.423828\" xlink:href=\"#DejaVuSans-64\"/>\n       <use x=\"239.900391\" xlink:href=\"#DejaVuSans-20\"/>\n       <use x=\"271.6875\" xlink:href=\"#DejaVuSans-61\"/>\n       <use x=\"332.966797\" xlink:href=\"#DejaVuSans-74\"/>\n       <use x=\"372.175781\" xlink:href=\"#DejaVuSans-20\"/>\n       <use x=\"403.962891\" xlink:href=\"#DejaVuSans-49\"/>\n       <use x=\"433.455078\" xlink:href=\"#DejaVuSans-6e\"/>\n       <use x=\"496.833984\" xlink:href=\"#DejaVuSans-74\"/>\n       <use x=\"536.042969\" xlink:href=\"#DejaVuSans-65\"/>\n       <use x=\"597.566406\" xlink:href=\"#DejaVuSans-72\"/>\n       <use x=\"638.679688\" xlink:href=\"#DejaVuSans-76\"/>\n       <use x=\"697.859375\" xlink:href=\"#DejaVuSans-61\"/>\n       <use x=\"759.138672\" xlink:href=\"#DejaVuSans-6c\"/>\n       <use x=\"786.921875\" xlink:href=\"#DejaVuSans-20\"/>\n       <use x=\"818.708984\" xlink:href=\"#DejaVuSans-32\"/>\n       <use x=\"882.332031\" xlink:href=\"#DejaVuSans-31\"/>\n      </g>\n     </g>\n    </g>\n    <g id=\"xtick_3\">\n     <g id=\"line2d_3\">\n      <g>\n       <use style=\"stroke:#000000;stroke-width:0.8;\" x=\"179.836917\" xlink:href=\"#m4c6da6fd2c\" y=\"239.758125\"/>\n      </g>\n     </g>\n     <g id=\"text_3\">\n      <!-- Load at Interval 41 -->\n      <g transform=\"translate(148.343044 319.021123)rotate(-45)scale(0.1 -0.1)\">\n       <defs>\n        <path d=\"M 2419 4116 \nL 825 1625 \nL 2419 1625 \nL 2419 4116 \nz\nM 2253 4666 \nL 3047 4666 \nL 3047 1625 \nL 3713 1625 \nL 3713 1100 \nL 3047 1100 \nL 3047 0 \nL 2419 0 \nL 2419 1100 \nL 313 1100 \nL 313 1709 \nL 2253 4666 \nz\n\" id=\"DejaVuSans-34\" transform=\"scale(0.015625)\"/>\n       </defs>\n       <use xlink:href=\"#DejaVuSans-4c\"/>\n       <use x=\"53.962891\" xlink:href=\"#DejaVuSans-6f\"/>\n       <use x=\"115.144531\" xlink:href=\"#DejaVuSans-61\"/>\n       <use x=\"176.423828\" xlink:href=\"#DejaVuSans-64\"/>\n       <use x=\"239.900391\" xlink:href=\"#DejaVuSans-20\"/>\n       <use x=\"271.6875\" xlink:href=\"#DejaVuSans-61\"/>\n       <use x=\"332.966797\" xlink:href=\"#DejaVuSans-74\"/>\n       <use x=\"372.175781\" xlink:href=\"#DejaVuSans-20\"/>\n       <use x=\"403.962891\" xlink:href=\"#DejaVuSans-49\"/>\n       <use x=\"433.455078\" xlink:href=\"#DejaVuSans-6e\"/>\n       <use x=\"496.833984\" xlink:href=\"#DejaVuSans-74\"/>\n       <use x=\"536.042969\" xlink:href=\"#DejaVuSans-65\"/>\n       <use x=\"597.566406\" xlink:href=\"#DejaVuSans-72\"/>\n       <use x=\"638.679688\" xlink:href=\"#DejaVuSans-76\"/>\n       <use x=\"697.859375\" xlink:href=\"#DejaVuSans-61\"/>\n       <use x=\"759.138672\" xlink:href=\"#DejaVuSans-6c\"/>\n       <use x=\"786.921875\" xlink:href=\"#DejaVuSans-20\"/>\n       <use x=\"818.708984\" xlink:href=\"#DejaVuSans-34\"/>\n       <use x=\"882.332031\" xlink:href=\"#DejaVuSans-31\"/>\n      </g>\n     </g>\n    </g>\n    <g id=\"xtick_4\">\n     <g id=\"line2d_4\">\n      <g>\n       <use style=\"stroke:#000000;stroke-width:0.8;\" x=\"243.913472\" xlink:href=\"#m4c6da6fd2c\" y=\"239.758125\"/>\n      </g>\n     </g>\n     <g id=\"text_4\">\n      <!-- Load at Interval 61 -->\n      <g transform=\"translate(212.419599 319.021123)rotate(-45)scale(0.1 -0.1)\">\n       <defs>\n        <path d=\"M 2113 2584 \nQ 1688 2584 1439 2293 \nQ 1191 2003 1191 1497 \nQ 1191 994 1439 701 \nQ 1688 409 2113 409 \nQ 2538 409 2786 701 \nQ 3034 994 3034 1497 \nQ 3034 2003 2786 2293 \nQ 2538 2584 2113 2584 \nz\nM 3366 4563 \nL 3366 3988 \nQ 3128 4100 2886 4159 \nQ 2644 4219 2406 4219 \nQ 1781 4219 1451 3797 \nQ 1122 3375 1075 2522 \nQ 1259 2794 1537 2939 \nQ 1816 3084 2150 3084 \nQ 2853 3084 3261 2657 \nQ 3669 2231 3669 1497 \nQ 3669 778 3244 343 \nQ 2819 -91 2113 -91 \nQ 1303 -91 875 529 \nQ 447 1150 447 2328 \nQ 447 3434 972 4092 \nQ 1497 4750 2381 4750 \nQ 2619 4750 2861 4703 \nQ 3103 4656 3366 4563 \nz\n\" id=\"DejaVuSans-36\" transform=\"scale(0.015625)\"/>\n       </defs>\n       <use xlink:href=\"#DejaVuSans-4c\"/>\n       <use x=\"53.962891\" xlink:href=\"#DejaVuSans-6f\"/>\n       <use x=\"115.144531\" xlink:href=\"#DejaVuSans-61\"/>\n       <use x=\"176.423828\" xlink:href=\"#DejaVuSans-64\"/>\n       <use x=\"239.900391\" xlink:href=\"#DejaVuSans-20\"/>\n       <use x=\"271.6875\" xlink:href=\"#DejaVuSans-61\"/>\n       <use x=\"332.966797\" xlink:href=\"#DejaVuSans-74\"/>\n       <use x=\"372.175781\" xlink:href=\"#DejaVuSans-20\"/>\n       <use x=\"403.962891\" xlink:href=\"#DejaVuSans-49\"/>\n       <use x=\"433.455078\" xlink:href=\"#DejaVuSans-6e\"/>\n       <use x=\"496.833984\" xlink:href=\"#DejaVuSans-74\"/>\n       <use x=\"536.042969\" xlink:href=\"#DejaVuSans-65\"/>\n       <use x=\"597.566406\" xlink:href=\"#DejaVuSans-72\"/>\n       <use x=\"638.679688\" xlink:href=\"#DejaVuSans-76\"/>\n       <use x=\"697.859375\" xlink:href=\"#DejaVuSans-61\"/>\n       <use x=\"759.138672\" xlink:href=\"#DejaVuSans-6c\"/>\n       <use x=\"786.921875\" xlink:href=\"#DejaVuSans-20\"/>\n       <use x=\"818.708984\" xlink:href=\"#DejaVuSans-36\"/>\n       <use x=\"882.332031\" xlink:href=\"#DejaVuSans-31\"/>\n      </g>\n     </g>\n    </g>\n    <g id=\"xtick_5\">\n     <g id=\"line2d_5\">\n      <g>\n       <use style=\"stroke:#000000;stroke-width:0.8;\" x=\"307.990027\" xlink:href=\"#m4c6da6fd2c\" y=\"239.758125\"/>\n      </g>\n     </g>\n     <g id=\"text_5\">\n      <!-- Load at Interval 81 -->\n      <g transform=\"translate(276.496154 319.021123)rotate(-45)scale(0.1 -0.1)\">\n       <defs>\n        <path d=\"M 2034 2216 \nQ 1584 2216 1326 1975 \nQ 1069 1734 1069 1313 \nQ 1069 891 1326 650 \nQ 1584 409 2034 409 \nQ 2484 409 2743 651 \nQ 3003 894 3003 1313 \nQ 3003 1734 2745 1975 \nQ 2488 2216 2034 2216 \nz\nM 1403 2484 \nQ 997 2584 770 2862 \nQ 544 3141 544 3541 \nQ 544 4100 942 4425 \nQ 1341 4750 2034 4750 \nQ 2731 4750 3128 4425 \nQ 3525 4100 3525 3541 \nQ 3525 3141 3298 2862 \nQ 3072 2584 2669 2484 \nQ 3125 2378 3379 2068 \nQ 3634 1759 3634 1313 \nQ 3634 634 3220 271 \nQ 2806 -91 2034 -91 \nQ 1263 -91 848 271 \nQ 434 634 434 1313 \nQ 434 1759 690 2068 \nQ 947 2378 1403 2484 \nz\nM 1172 3481 \nQ 1172 3119 1398 2916 \nQ 1625 2713 2034 2713 \nQ 2441 2713 2670 2916 \nQ 2900 3119 2900 3481 \nQ 2900 3844 2670 4047 \nQ 2441 4250 2034 4250 \nQ 1625 4250 1398 4047 \nQ 1172 3844 1172 3481 \nz\n\" id=\"DejaVuSans-38\" transform=\"scale(0.015625)\"/>\n       </defs>\n       <use xlink:href=\"#DejaVuSans-4c\"/>\n       <use x=\"53.962891\" xlink:href=\"#DejaVuSans-6f\"/>\n       <use x=\"115.144531\" xlink:href=\"#DejaVuSans-61\"/>\n       <use x=\"176.423828\" xlink:href=\"#DejaVuSans-64\"/>\n       <use x=\"239.900391\" xlink:href=\"#DejaVuSans-20\"/>\n       <use x=\"271.6875\" xlink:href=\"#DejaVuSans-61\"/>\n       <use x=\"332.966797\" xlink:href=\"#DejaVuSans-74\"/>\n       <use x=\"372.175781\" xlink:href=\"#DejaVuSans-20\"/>\n       <use x=\"403.962891\" xlink:href=\"#DejaVuSans-49\"/>\n       <use x=\"433.455078\" xlink:href=\"#DejaVuSans-6e\"/>\n       <use x=\"496.833984\" xlink:href=\"#DejaVuSans-74\"/>\n       <use x=\"536.042969\" xlink:href=\"#DejaVuSans-65\"/>\n       <use x=\"597.566406\" xlink:href=\"#DejaVuSans-72\"/>\n       <use x=\"638.679688\" xlink:href=\"#DejaVuSans-76\"/>\n       <use x=\"697.859375\" xlink:href=\"#DejaVuSans-61\"/>\n       <use x=\"759.138672\" xlink:href=\"#DejaVuSans-6c\"/>\n       <use x=\"786.921875\" xlink:href=\"#DejaVuSans-20\"/>\n       <use x=\"818.708984\" xlink:href=\"#DejaVuSans-38\"/>\n       <use x=\"882.332031\" xlink:href=\"#DejaVuSans-31\"/>\n      </g>\n     </g>\n    </g>\n   </g>\n   <g id=\"matplotlib.axis_2\">\n    <g id=\"ytick_1\">\n     <g id=\"line2d_6\">\n      <defs>\n       <path d=\"M 0 0 \nL -3.5 0 \n\" id=\"mdaf87a0f26\" style=\"stroke:#000000;stroke-width:0.8;\"/>\n      </defs>\n      <g>\n       <use style=\"stroke:#000000;stroke-width:0.8;\" x=\"36.465625\" xlink:href=\"#mdaf87a0f26\" y=\"222.611439\"/>\n      </g>\n     </g>\n     <g id=\"text_6\">\n      <!-- 0.25 -->\n      <g transform=\"translate(7.2 226.410658)scale(0.1 -0.1)\">\n       <defs>\n        <path d=\"M 2034 4250 \nQ 1547 4250 1301 3770 \nQ 1056 3291 1056 2328 \nQ 1056 1369 1301 889 \nQ 1547 409 2034 409 \nQ 2525 409 2770 889 \nQ 3016 1369 3016 2328 \nQ 3016 3291 2770 3770 \nQ 2525 4250 2034 4250 \nz\nM 2034 4750 \nQ 2819 4750 3233 4129 \nQ 3647 3509 3647 2328 \nQ 3647 1150 3233 529 \nQ 2819 -91 2034 -91 \nQ 1250 -91 836 529 \nQ 422 1150 422 2328 \nQ 422 3509 836 4129 \nQ 1250 4750 2034 4750 \nz\n\" id=\"DejaVuSans-30\" transform=\"scale(0.015625)\"/>\n        <path d=\"M 684 794 \nL 1344 794 \nL 1344 0 \nL 684 0 \nL 684 794 \nz\n\" id=\"DejaVuSans-2e\" transform=\"scale(0.015625)\"/>\n        <path d=\"M 691 4666 \nL 3169 4666 \nL 3169 4134 \nL 1269 4134 \nL 1269 2991 \nQ 1406 3038 1543 3061 \nQ 1681 3084 1819 3084 \nQ 2600 3084 3056 2656 \nQ 3513 2228 3513 1497 \nQ 3513 744 3044 326 \nQ 2575 -91 1722 -91 \nQ 1428 -91 1123 -41 \nQ 819 9 494 109 \nL 494 744 \nQ 775 591 1075 516 \nQ 1375 441 1709 441 \nQ 2250 441 2565 725 \nQ 2881 1009 2881 1497 \nQ 2881 1984 2565 2268 \nQ 2250 2553 1709 2553 \nQ 1456 2553 1204 2497 \nQ 953 2441 691 2322 \nL 691 4666 \nz\n\" id=\"DejaVuSans-35\" transform=\"scale(0.015625)\"/>\n       </defs>\n       <use xlink:href=\"#DejaVuSans-30\"/>\n       <use x=\"63.623047\" xlink:href=\"#DejaVuSans-2e\"/>\n       <use x=\"95.410156\" xlink:href=\"#DejaVuSans-32\"/>\n       <use x=\"159.033203\" xlink:href=\"#DejaVuSans-35\"/>\n      </g>\n     </g>\n    </g>\n    <g id=\"ytick_2\">\n     <g id=\"line2d_7\">\n      <g>\n       <use style=\"stroke:#000000;stroke-width:0.8;\" x=\"36.465625\" xlink:href=\"#mdaf87a0f26\" y=\"193.166644\"/>\n      </g>\n     </g>\n     <g id=\"text_7\">\n      <!-- 0.30 -->\n      <g transform=\"translate(7.2 196.965862)scale(0.1 -0.1)\">\n       <defs>\n        <path d=\"M 2597 2516 \nQ 3050 2419 3304 2112 \nQ 3559 1806 3559 1356 \nQ 3559 666 3084 287 \nQ 2609 -91 1734 -91 \nQ 1441 -91 1130 -33 \nQ 819 25 488 141 \nL 488 750 \nQ 750 597 1062 519 \nQ 1375 441 1716 441 \nQ 2309 441 2620 675 \nQ 2931 909 2931 1356 \nQ 2931 1769 2642 2001 \nQ 2353 2234 1838 2234 \nL 1294 2234 \nL 1294 2753 \nL 1863 2753 \nQ 2328 2753 2575 2939 \nQ 2822 3125 2822 3475 \nQ 2822 3834 2567 4026 \nQ 2313 4219 1838 4219 \nQ 1578 4219 1281 4162 \nQ 984 4106 628 3988 \nL 628 4550 \nQ 988 4650 1302 4700 \nQ 1616 4750 1894 4750 \nQ 2613 4750 3031 4423 \nQ 3450 4097 3450 3541 \nQ 3450 3153 3228 2886 \nQ 3006 2619 2597 2516 \nz\n\" id=\"DejaVuSans-33\" transform=\"scale(0.015625)\"/>\n       </defs>\n       <use xlink:href=\"#DejaVuSans-30\"/>\n       <use x=\"63.623047\" xlink:href=\"#DejaVuSans-2e\"/>\n       <use x=\"95.410156\" xlink:href=\"#DejaVuSans-33\"/>\n       <use x=\"159.033203\" xlink:href=\"#DejaVuSans-30\"/>\n      </g>\n     </g>\n    </g>\n    <g id=\"ytick_3\">\n     <g id=\"line2d_8\">\n      <g>\n       <use style=\"stroke:#000000;stroke-width:0.8;\" x=\"36.465625\" xlink:href=\"#mdaf87a0f26\" y=\"163.721848\"/>\n      </g>\n     </g>\n     <g id=\"text_8\">\n      <!-- 0.35 -->\n      <g transform=\"translate(7.2 167.521067)scale(0.1 -0.1)\">\n       <use xlink:href=\"#DejaVuSans-30\"/>\n       <use x=\"63.623047\" xlink:href=\"#DejaVuSans-2e\"/>\n       <use x=\"95.410156\" xlink:href=\"#DejaVuSans-33\"/>\n       <use x=\"159.033203\" xlink:href=\"#DejaVuSans-35\"/>\n      </g>\n     </g>\n    </g>\n    <g id=\"ytick_4\">\n     <g id=\"line2d_9\">\n      <g>\n       <use style=\"stroke:#000000;stroke-width:0.8;\" x=\"36.465625\" xlink:href=\"#mdaf87a0f26\" y=\"134.277053\"/>\n      </g>\n     </g>\n     <g id=\"text_9\">\n      <!-- 0.40 -->\n      <g transform=\"translate(7.2 138.076271)scale(0.1 -0.1)\">\n       <use xlink:href=\"#DejaVuSans-30\"/>\n       <use x=\"63.623047\" xlink:href=\"#DejaVuSans-2e\"/>\n       <use x=\"95.410156\" xlink:href=\"#DejaVuSans-34\"/>\n       <use x=\"159.033203\" xlink:href=\"#DejaVuSans-30\"/>\n      </g>\n     </g>\n    </g>\n    <g id=\"ytick_5\">\n     <g id=\"line2d_10\">\n      <g>\n       <use style=\"stroke:#000000;stroke-width:0.8;\" x=\"36.465625\" xlink:href=\"#mdaf87a0f26\" y=\"104.832257\"/>\n      </g>\n     </g>\n     <g id=\"text_10\">\n      <!-- 0.45 -->\n      <g transform=\"translate(7.2 108.631476)scale(0.1 -0.1)\">\n       <use xlink:href=\"#DejaVuSans-30\"/>\n       <use x=\"63.623047\" xlink:href=\"#DejaVuSans-2e\"/>\n       <use x=\"95.410156\" xlink:href=\"#DejaVuSans-34\"/>\n       <use x=\"159.033203\" xlink:href=\"#DejaVuSans-35\"/>\n      </g>\n     </g>\n    </g>\n    <g id=\"ytick_6\">\n     <g id=\"line2d_11\">\n      <g>\n       <use style=\"stroke:#000000;stroke-width:0.8;\" x=\"36.465625\" xlink:href=\"#mdaf87a0f26\" y=\"75.387461\"/>\n      </g>\n     </g>\n     <g id=\"text_11\">\n      <!-- 0.50 -->\n      <g transform=\"translate(7.2 79.18668)scale(0.1 -0.1)\">\n       <use xlink:href=\"#DejaVuSans-30\"/>\n       <use x=\"63.623047\" xlink:href=\"#DejaVuSans-2e\"/>\n       <use x=\"95.410156\" xlink:href=\"#DejaVuSans-35\"/>\n       <use x=\"159.033203\" xlink:href=\"#DejaVuSans-30\"/>\n      </g>\n     </g>\n    </g>\n    <g id=\"ytick_7\">\n     <g id=\"line2d_12\">\n      <g>\n       <use style=\"stroke:#000000;stroke-width:0.8;\" x=\"36.465625\" xlink:href=\"#mdaf87a0f26\" y=\"45.942666\"/>\n      </g>\n     </g>\n     <g id=\"text_12\">\n      <!-- 0.55 -->\n      <g transform=\"translate(7.2 49.741885)scale(0.1 -0.1)\">\n       <use xlink:href=\"#DejaVuSans-30\"/>\n       <use x=\"63.623047\" xlink:href=\"#DejaVuSans-2e\"/>\n       <use x=\"95.410156\" xlink:href=\"#DejaVuSans-35\"/>\n       <use x=\"159.033203\" xlink:href=\"#DejaVuSans-35\"/>\n      </g>\n     </g>\n    </g>\n   </g>\n   <g id=\"line2d_13\">\n    <path clip-path=\"url(#p87d03f16b2)\" d=\"M 51.683807 148.410554 \nL 54.887635 154.888409 \nL 58.091462 161.366264 \nL 61.29529 166.666328 \nL 64.499118 170.199703 \nL 67.702946 174.321974 \nL 70.906773 179.425739 \nL 74.110601 183.744309 \nL 77.314429 189.633268 \nL 80.518257 193.166644 \nL 83.722084 196.896318 \nL 86.925912 199.644499 \nL 90.12974 202.785277 \nL 93.333568 204.944562 \nL 96.537395 207.889041 \nL 99.741223 210.440924 \nL 102.945051 214.563195 \nL 106.148879 216.526181 \nL 109.352706 217.703973 \nL 112.556534 218.881765 \nL 115.760362 216.72248 \nL 118.96419 216.329883 \nL 122.168017 214.170598 \nL 125.371845 212.40391 \nL 128.575673 206.122354 \nL 131.779501 201.607485 \nL 134.983328 201.214888 \nL 138.187156 201.214888 \nL 141.390984 210.637222 \nL 144.594812 216.72248 \nL 147.798639 224.770724 \nL 151.002467 229.874489 \nL 154.206295 228.892995 \nL 157.410123 229.874489 \nL 160.61395 228.696697 \nL 163.817778 224.378127 \nL 167.021606 215.937285 \nL 170.225434 210.048326 \nL 173.429261 203.76677 \nL 176.633089 198.074109 \nL 179.836917 191.007359 \nL 183.040745 184.725802 \nL 186.244572 179.033142 \nL 189.4484 173.144183 \nL 192.652228 168.825613 \nL 195.856056 162.544056 \nL 199.059883 155.673604 \nL 202.263711 148.214256 \nL 205.467539 139.184518 \nL 208.671367 131.921469 \nL 211.875194 126.228808 \nL 215.079022 120.928745 \nL 218.28285 117.199071 \nL 221.486678 112.487904 \nL 224.690505 108.169334 \nL 227.894333 101.298882 \nL 231.098161 92.85804 \nL 234.301989 87.16538 \nL 237.505816 81.669018 \nL 240.709644 76.761552 \nL 243.913472 70.479996 \nL 247.1173 64.591036 \nL 250.321127 60.665064 \nL 253.524955 56.93539 \nL 256.728783 54.579806 \nL 259.932611 51.04643 \nL 263.136438 48.29825 \nL 266.340266 44.764874 \nL 269.544094 39.66111 \nL 272.747922 35.34254 \nL 275.951749 32.39806 \nL 279.155577 32.201761 \nL 282.359405 33.77215 \nL 285.563233 34.753644 \nL 288.76706 36.912929 \nL 291.970888 40.250005 \nL 295.174716 44.961173 \nL 298.378544 49.67234 \nL 301.582371 53.794611 \nL 304.786199 58.30948 \nL 307.990027 62.039154 \nL 311.193855 65.57253 \nL 314.397682 67.535516 \nL 317.60151 70.283697 \nL 320.805338 71.461489 \nL 324.009166 74.20967 \nL 327.212993 76.565253 \nL 330.416821 82.650511 \nL 333.620649 85.987588 \nL 336.824477 92.465443 \nL 340.028304 101.49518 \nL 343.232132 111.113813 \nL 346.43596 121.517641 \nL 349.639788 131.332573 \nL 352.843615 140.36231 \nL 356.047443 148.803152 \n\" style=\"fill:none;stroke:#1f77b4;stroke-linecap:square;stroke-width:1.5;\"/>\n   </g>\n   <g id=\"patch_3\">\n    <path d=\"M 36.465625 239.758125 \nL 36.465625 22.318125 \n\" style=\"fill:none;stroke:#000000;stroke-linecap:square;stroke-linejoin:miter;stroke-width:0.8;\"/>\n   </g>\n   <g id=\"patch_4\">\n    <path d=\"M 371.265625 239.758125 \nL 371.265625 22.318125 \n\" style=\"fill:none;stroke:#000000;stroke-linecap:square;stroke-linejoin:miter;stroke-width:0.8;\"/>\n   </g>\n   <g id=\"patch_5\">\n    <path d=\"M 36.465625 239.758125 \nL 371.265625 239.758125 \n\" style=\"fill:none;stroke:#000000;stroke-linecap:square;stroke-linejoin:miter;stroke-width:0.8;\"/>\n   </g>\n   <g id=\"patch_6\">\n    <path d=\"M 36.465625 22.318125 \nL 371.265625 22.318125 \n\" style=\"fill:none;stroke:#000000;stroke-linecap:square;stroke-linejoin:miter;stroke-width:0.8;\"/>\n   </g>\n   <g id=\"text_13\">\n    <!-- Moving Average -->\n    <g transform=\"translate(155.641563 16.318125)scale(0.12 -0.12)\">\n     <defs>\n      <path d=\"M 628 4666 \nL 1569 4666 \nL 2759 1491 \nL 3956 4666 \nL 4897 4666 \nL 4897 0 \nL 4281 0 \nL 4281 4097 \nL 3078 897 \nL 2444 897 \nL 1241 4097 \nL 1241 0 \nL 628 0 \nL 628 4666 \nz\n\" id=\"DejaVuSans-4d\" transform=\"scale(0.015625)\"/>\n      <path d=\"M 603 3500 \nL 1178 3500 \nL 1178 0 \nL 603 0 \nL 603 3500 \nz\nM 603 4863 \nL 1178 4863 \nL 1178 4134 \nL 603 4134 \nL 603 4863 \nz\n\" id=\"DejaVuSans-69\" transform=\"scale(0.015625)\"/>\n      <path d=\"M 2906 1791 \nQ 2906 2416 2648 2759 \nQ 2391 3103 1925 3103 \nQ 1463 3103 1205 2759 \nQ 947 2416 947 1791 \nQ 947 1169 1205 825 \nQ 1463 481 1925 481 \nQ 2391 481 2648 825 \nQ 2906 1169 2906 1791 \nz\nM 3481 434 \nQ 3481 -459 3084 -895 \nQ 2688 -1331 1869 -1331 \nQ 1566 -1331 1297 -1286 \nQ 1028 -1241 775 -1147 \nL 775 -588 \nQ 1028 -725 1275 -790 \nQ 1522 -856 1778 -856 \nQ 2344 -856 2625 -561 \nQ 2906 -266 2906 331 \nL 2906 616 \nQ 2728 306 2450 153 \nQ 2172 0 1784 0 \nQ 1141 0 747 490 \nQ 353 981 353 1791 \nQ 353 2603 747 3093 \nQ 1141 3584 1784 3584 \nQ 2172 3584 2450 3431 \nQ 2728 3278 2906 2969 \nL 2906 3500 \nL 3481 3500 \nL 3481 434 \nz\n\" id=\"DejaVuSans-67\" transform=\"scale(0.015625)\"/>\n      <path d=\"M 2188 4044 \nL 1331 1722 \nL 3047 1722 \nL 2188 4044 \nz\nM 1831 4666 \nL 2547 4666 \nL 4325 0 \nL 3669 0 \nL 3244 1197 \nL 1141 1197 \nL 716 0 \nL 50 0 \nL 1831 4666 \nz\n\" id=\"DejaVuSans-41\" transform=\"scale(0.015625)\"/>\n     </defs>\n     <use xlink:href=\"#DejaVuSans-4d\"/>\n     <use x=\"86.279297\" xlink:href=\"#DejaVuSans-6f\"/>\n     <use x=\"147.460938\" xlink:href=\"#DejaVuSans-76\"/>\n     <use x=\"206.640625\" xlink:href=\"#DejaVuSans-69\"/>\n     <use x=\"234.423828\" xlink:href=\"#DejaVuSans-6e\"/>\n     <use x=\"297.802734\" xlink:href=\"#DejaVuSans-67\"/>\n     <use x=\"361.279297\" xlink:href=\"#DejaVuSans-20\"/>\n     <use x=\"393.066406\" xlink:href=\"#DejaVuSans-41\"/>\n     <use x=\"455.599609\" xlink:href=\"#DejaVuSans-76\"/>\n     <use x=\"514.779297\" xlink:href=\"#DejaVuSans-65\"/>\n     <use x=\"576.302734\" xlink:href=\"#DejaVuSans-72\"/>\n     <use x=\"617.416016\" xlink:href=\"#DejaVuSans-61\"/>\n     <use x=\"678.695312\" xlink:href=\"#DejaVuSans-67\"/>\n     <use x=\"742.171875\" xlink:href=\"#DejaVuSans-65\"/>\n    </g>\n   </g>\n  </g>\n </g>\n <defs>\n  <clipPath id=\"p87d03f16b2\">\n   <rect height=\"217.44\" width=\"334.8\" x=\"36.465625\" y=\"22.318125\"/>\n  </clipPath>\n </defs>\n</svg>\n",
      "text/plain": [
       "<Figure size 432x288 with 1 Axes>"
      ]
     },
     "metadata": {
      "needs_background": "light"
     },
     "output_type": "display_data"
    }
   ],
   "source": [
    "def moving_average(df, window):\n",
    "    \"\"\"\n",
    "    Calculates the moving average of a given dataframe.\n",
    "    \"\"\"\n",
    "    return df.rolling(window=window).mean()\n",
    "lp_df = my_load_profiles.copy()\n",
    "#lp_df = lp_df.T\n",
    "ma_df = moving_average(lp_df, window=3)\n",
    "\n",
    "def build_moving_average(df, window):\n",
    "    \"\"\" Build a moving average model.\"\"\"\n",
    "\n",
    "#ma_df = ma_df.T\n",
    "#print(ma_df)\n",
    "#lp_df['Moving_Avg'] = ma_df\n",
    "#print(ma_df)\n",
    "ma_df.iloc[-1].plot(rot=45, title='Moving Average')"
   ]
  },
  {
   "cell_type": "markdown",
   "metadata": {},
   "source": [
    "# Training, Validation Split"
   ]
  },
  {
   "cell_type": "code",
   "execution_count": null,
   "metadata": {},
   "outputs": [
    {
     "name": "stderr",
     "output_type": "stream",
     "text": [
      "/home/austin/Desktop/Repositories/dae/LFvenv/lib/python3.8/site-packages/pandas/core/frame.py:5171: SettingWithCopyWarning: \n",
      "A value is trying to be set on a copy of a slice from a DataFrame\n",
      "\n",
      "See the caveats in the documentation: https://pandas.pydata.org/pandas-docs/stable/user_guide/indexing.html#returning-a-view-versus-a-copy\n",
      "  return super().fillna(\n"
     ]
    }
   ],
   "source": [
    "\n",
    "train_df = my_load_profiles[:int(len(my_load_profiles) * 0.9)]\n",
    "val_df = my_load_profiles[int(len(my_load_profiles) * 0.9):]\n",
    "train_df.fillna(0, inplace = True)\n",
    "val_df.fillna(0, inplace = True)\n",
    "#print(train_df.isnull().any())\n",
    "#print(val_df.isnull().any())\n",
    "\n",
    "def moving_average(df, window):\n",
    "    \"\"\"\n",
    "    Calculates the moving average of a given dataframe.\n",
    "    \"\"\"\n",
    "    return df.rolling(window=window).mean()\n",
    "vdf = val_df.copy()\n",
    "#lp_df = lp_df.T\n",
    "vdma_df = moving_average(vdf, window=3)\n",
    "#ma_df = ma_df.T\n",
    "#print(ma_df)\n",
    "#lp_df['Moving_Avg'] = ma_df\n",
    "\n"
   ]
  },
  {
   "cell_type": "markdown",
   "metadata": {},
   "source": [
    "# Define and train Neural Network Model"
   ]
  },
  {
   "cell_type": "code",
   "execution_count": null,
   "metadata": {},
   "outputs": [
    {
     "name": "stderr",
     "output_type": "stream",
     "text": [
      "2021-08-23 19:59:36.971785: I tensorflow/stream_executor/platform/default/dso_loader.cc:53] Successfully opened dynamic library libcuda.so.1\n",
      "2021-08-23 19:59:37.018596: I tensorflow/stream_executor/cuda/cuda_gpu_executor.cc:937] successful NUMA node read from SysFS had negative value (-1), but there must be at least one NUMA node, so returning NUMA node zero\n",
      "2021-08-23 19:59:37.019025: I tensorflow/core/common_runtime/gpu/gpu_device.cc:1733] Found device 0 with properties: \n",
      "pciBusID: 0000:07:00.0 name: GeForce RTX 2080 Ti computeCapability: 7.5\n",
      "coreClock: 1.65GHz coreCount: 68 deviceMemorySize: 10.74GiB deviceMemoryBandwidth: 573.69GiB/s\n",
      "2021-08-23 19:59:37.019086: W tensorflow/stream_executor/platform/default/dso_loader.cc:64] Could not load dynamic library 'libcudart.so.11.0'; dlerror: libcudart.so.11.0: cannot open shared object file: No such file or directory\n",
      "2021-08-23 19:59:37.019131: W tensorflow/stream_executor/platform/default/dso_loader.cc:64] Could not load dynamic library 'libcublas.so.11'; dlerror: libcublas.so.11: cannot open shared object file: No such file or directory\n",
      "2021-08-23 19:59:37.019166: W tensorflow/stream_executor/platform/default/dso_loader.cc:64] Could not load dynamic library 'libcublasLt.so.11'; dlerror: libcublasLt.so.11: cannot open shared object file: No such file or directory\n",
      "2021-08-23 19:59:37.019201: W tensorflow/stream_executor/platform/default/dso_loader.cc:64] Could not load dynamic library 'libcufft.so.10'; dlerror: libcufft.so.10: cannot open shared object file: No such file or directory\n",
      "2021-08-23 19:59:37.019237: W tensorflow/stream_executor/platform/default/dso_loader.cc:64] Could not load dynamic library 'libcurand.so.10'; dlerror: libcurand.so.10: cannot open shared object file: No such file or directory\n",
      "2021-08-23 19:59:37.019271: W tensorflow/stream_executor/platform/default/dso_loader.cc:64] Could not load dynamic library 'libcusolver.so.11'; dlerror: libcusolver.so.11: cannot open shared object file: No such file or directory\n",
      "2021-08-23 19:59:37.019307: W tensorflow/stream_executor/platform/default/dso_loader.cc:64] Could not load dynamic library 'libcusparse.so.11'; dlerror: libcusparse.so.11: cannot open shared object file: No such file or directory\n",
      "2021-08-23 19:59:37.019341: W tensorflow/stream_executor/platform/default/dso_loader.cc:64] Could not load dynamic library 'libcudnn.so.8'; dlerror: libcudnn.so.8: cannot open shared object file: No such file or directory\n",
      "2021-08-23 19:59:37.019347: W tensorflow/core/common_runtime/gpu/gpu_device.cc:1766] Cannot dlopen some GPU libraries. Please make sure the missing libraries mentioned above are installed properly if you would like to use GPU. Follow the guide at https://www.tensorflow.org/install/gpu for how to download and setup the required libraries for your platform.\n",
      "Skipping registering GPU devices...\n",
      "2021-08-23 19:59:37.019588: I tensorflow/core/platform/cpu_feature_guard.cc:142] This TensorFlow binary is optimized with oneAPI Deep Neural Network Library (oneDNN) to use the following CPU instructions in performance-critical operations:  AVX2 FMA\n",
      "To enable them in other operations, rebuild TensorFlow with the appropriate compiler flags.\n",
      "2021-08-23 19:59:37.019959: I tensorflow/core/common_runtime/gpu/gpu_device.cc:1258] Device interconnect StreamExecutor with strength 1 edge matrix:\n",
      "2021-08-23 19:59:37.019968: I tensorflow/core/common_runtime/gpu/gpu_device.cc:1264]      \n",
      "2021-08-23 19:59:37.481831: I tensorflow/compiler/mlir/mlir_graph_optimization_pass.cc:176] None of the MLIR Optimization Passes are enabled (registered 2)\n",
      "2021-08-23 19:59:37.483630: I tensorflow/core/platform/profile_utils/cpu_utils.cc:114] CPU Frequency: 3593400000 Hz\n"
     ]
    },
    {
     "name": "stdout",
     "output_type": "stream",
     "text": [
      "Epoch 1/10\n",
      "14013/14013 [==============================] - 8s 557us/step - loss: 5.6052\n",
      "Epoch 2/10\n",
      "14013/14013 [==============================] - 8s 559us/step - loss: 5.1639\n",
      "Epoch 3/10\n",
      "14013/14013 [==============================] - 8s 560us/step - loss: 5.1189\n",
      "Epoch 4/10\n",
      "14013/14013 [==============================] - 8s 558us/step - loss: 5.0850\n",
      "Epoch 5/10\n",
      "14013/14013 [==============================] - 8s 558us/step - loss: 5.0693\n",
      "Epoch 6/10\n",
      "14013/14013 [==============================] - 8s 560us/step - loss: 5.0270\n",
      "Epoch 7/10\n",
      "14013/14013 [==============================] - 8s 556us/step - loss: 5.0261\n",
      "Epoch 8/10\n",
      "14013/14013 [==============================] - 8s 559us/step - loss: 4.9569\n",
      "Epoch 9/10\n",
      "14013/14013 [==============================] - 8s 558us/step - loss: 4.9608\n",
      "Epoch 10/10\n",
      "14013/14013 [==============================] - 8s 558us/step - loss: 4.9712\n",
      "Model: \"sequential\"\n",
      "_________________________________________________________________\n",
      "Layer (type)                 Output Shape              Param #   \n",
      "=================================================================\n",
      "dense (Dense)                (None, 96)                9312      \n",
      "_________________________________________________________________\n",
      "dropout (Dropout)            (None, 96)                0         \n",
      "_________________________________________________________________\n",
      "dense_1 (Dense)              (None, 50)                4850      \n",
      "_________________________________________________________________\n",
      "dropout_1 (Dropout)          (None, 50)                0         \n",
      "_________________________________________________________________\n",
      "dense_2 (Dense)              (None, 96)                4896      \n",
      "=================================================================\n",
      "Total params: 19,058\n",
      "Trainable params: 19,058\n",
      "Non-trainable params: 0\n",
      "_________________________________________________________________\n",
      "None\n"
     ]
    }
   ],
   "source": [
    "nn = tf.keras.Sequential([\n",
    "    tf.keras.layers.Dense(96, input_shape=(96,), activation='relu'),\n",
    "    tf.keras.layers.Dropout(0.5),\n",
    "    tf.keras.layers.Dense(50, activation='relu'),\n",
    "    tf.keras.layers.Dropout(0.5),\n",
    "    tf.keras.layers.Dense(96, activation='relu'),\n",
    "])\n",
    "nn.compile(optimizer='adam', loss='mean_absolute_error')\n",
    "target_df = train_df.shift(1, axis = 0)\n",
    "target_df.fillna(0, inplace=True)\n",
    "#print(target_df)\n",
    "nn.fit(train_df, target_df, epochs=10)\n",
    "nn_predictions = nn.predict(val_df)\n",
    "#nn_predictions = pd.DataFrame(nn_predictions)\n",
    "#print(nn_predictions)\n",
    "\n",
    "\n",
    "print(nn.summary())"
   ]
  },
  {
   "cell_type": "markdown",
   "metadata": {},
   "source": [
    "# Akaike Information Criterion (AIC), out-of-sample error estimate, lower AIC values indicate higher fidelity for out of sample predictions by moving average.\n",
    "# - Neural Network and Moving Average Baseline"
   ]
  },
  {
   "cell_type": "code",
   "execution_count": null,
   "metadata": {},
   "outputs": [
    {
     "name": "stdout",
     "output_type": "stream",
     "text": [
      "0                     NaN\n",
      "1                     NaN\n",
      "2                     NaN\n",
      "3                     NaN\n",
      "4                     NaN\n",
      "                       ..\n",
      "Load at Interval 92   NaN\n",
      "Load at Interval 93   NaN\n",
      "Load at Interval 94   NaN\n",
      "Load at Interval 95   NaN\n",
      "Load at Interval 96   NaN\n",
      "Length: 192, dtype: float64\n",
      "Load at Interval 1     46.939683\n",
      "Load at Interval 2     46.498948\n",
      "Load at Interval 3     46.065841\n",
      "Load at Interval 4     45.641024\n",
      "Load at Interval 5     45.236579\n",
      "                         ...    \n",
      "Load at Interval 92    50.972202\n",
      "Load at Interval 93    77.864314\n",
      "Load at Interval 94    76.660891\n",
      "Load at Interval 95    75.504936\n",
      "Load at Interval 96    74.394733\n",
      "Length: 96, dtype: float64\n",
      "NEURAL NETWORK AIC\n",
      "0                     NaN\n",
      "1                     NaN\n",
      "2                     NaN\n",
      "3                     NaN\n",
      "4                     NaN\n",
      "                       ..\n",
      "Load at Interval 92   NaN\n",
      "Load at Interval 93   NaN\n",
      "Load at Interval 94   NaN\n",
      "Load at Interval 95   NaN\n",
      "Load at Interval 96   NaN\n",
      "Length: 192, dtype: float64\n",
      "MOVING AVERAGE AIC\n",
      "Load at Interval 1     -87.879365\n",
      "Load at Interval 2     -86.997897\n",
      "Load at Interval 3     -86.131682\n",
      "Load at Interval 4     -85.282049\n",
      "Load at Interval 5     -84.473158\n",
      "                          ...    \n",
      "Load at Interval 92    -95.944405\n",
      "Load at Interval 93   -149.728628\n",
      "Load at Interval 94   -147.321781\n",
      "Load at Interval 95   -145.009872\n",
      "Load at Interval 96   -142.789466\n",
      "Length: 96, dtype: float64\n"
     ]
    }
   ],
   "source": [
    "#print(nn_predictions)\n",
    "#print(val_df)\n",
    "nn_predictions = pd.DataFrame(nn_predictions)\n",
    "#nn_predictions.plot()\n",
    "nn_mse =  np.mean((nn_predictions - val_df)**2)\n",
    "moving_average_mse = ((vdma_df-vdf)**2).mean()\n",
    "print(nn_mse)\n",
    "print(moving_average_mse)\n",
    "def aic(mse, k):\n",
    "    return 2 * k - 2 * mse\n",
    "aic_nn_mse = aic(nn_mse, k=19058)\n",
    "aic_vdma_mse = aic(moving_average_mse, k=3)\n",
    "\n",
    "print(\"NEURAL NETWORK AIC\")\n",
    "print(aic_nn_mse)\n",
    "print(\"MOVING AVERAGE AIC\")\n",
    "print(aic_vdma_mse)\n"
   ]
  },
  {
   "cell_type": "markdown",
   "metadata": {},
   "source": [
    "#"
   ]
  },
  {
   "cell_type": "code",
   "execution_count": null,
   "metadata": {},
   "outputs": [],
   "source": []
  }
 ],
 "metadata": {
  "interpreter": {
   "hash": "f558e93035d278312926f08cff991971976029cceabaa60185431bd4e94578a8"
  },
  "kernelspec": {
   "display_name": "Python 3.8.10 64-bit ('LFvenv': venv)",
   "name": "python3"
  },
  "language_info": {
   "codemirror_mode": {
    "name": "ipython",
    "version": 3
   },
   "file_extension": ".py",
   "mimetype": "text/x-python",
   "name": "python",
   "nbconvert_exporter": "python",
   "pygments_lexer": "ipython3",
   "version": "3.8.12"
  }
 },
 "nbformat": 4,
 "nbformat_minor": 2
}
