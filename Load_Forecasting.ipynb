{
 "cells": [
  {
   "cell_type": "markdown",
   "metadata": {},
   "source": [
    "# Imports"
   ]
  },
  {
   "cell_type": "code",
   "execution_count": 1,
   "metadata": {},
   "outputs": [],
   "source": [
    "import datetime\n",
    "import os\n",
    "import sys\n",
    "#from dataclasses import dataclass\n",
    "#import sklearn\n",
    "from sklearn import model_selection\n",
    "import matplotlib\n",
    "from sklearn.model_selection import TimeSeriesSplit, train_test_split\n",
    "#import matplotlib.pyplot as plt\n",
    "import numpy as np\n",
    "import pandas as pd\n",
    "#import tensorflow as tf\n",
    "#from tensorflow import keras\n",
    "import statsmodels.api as sm\n",
    "#from pandas_profiling import ProfileReport\n",
    "from plotly import express as px\n",
    "import plotly.graph_objects as go\n",
    "import torch\n",
    "from torch.utils.data import Dataset\n",
    "from torchvision import datasets\n",
    "from torchvision.transforms import ToTensor\n",
    "from torch import nn\n",
    "import tqdm\n",
    "from tqdm import tqdm\n",
    "pd.options.plotting.backend = \"plotly\"\n"
   ]
  },
  {
   "cell_type": "markdown",
   "metadata": {},
   "source": [
    "# Set the current working directory and get paths of load profiles"
   ]
  },
  {
   "cell_type": "code",
   "execution_count": 2,
   "metadata": {},
   "outputs": [],
   "source": [
    "def get_directories(path) -> list:\n",
    "    \"\"\"\n",
    "    Returns a list of directories in the given path.\n",
    "    \"\"\"\n",
    "    return [d for d in os.listdir(path) if os.path.isdir(os.path.join(path, d))]\n",
    "directories = get_directories('Profiles')\n",
    "directories.sort()"
   ]
  },
  {
   "cell_type": "markdown",
   "metadata": {},
   "source": [
    "# Builds load profile dataframe using all Excel Files\n"
   ]
  },
  {
   "cell_type": "code",
   "execution_count": 3,
   "metadata": {},
   "outputs": [
    {
     "name": "stderr",
     "output_type": "stream",
     "text": [
      "/home/austin/anaconda3/envs/bittensor/lib/python3.8/site-packages/openpyxl/worksheet/header_footer.py:48: UserWarning: Cannot parse header or footer so it will be ignored\n",
      "  warn(\"\"\"Cannot parse header or footer so it will be ignored\"\"\")\n"
     ]
    }
   ],
   "source": [
    "\n",
    "directories = get_directories('Profiles')\n",
    "load_data = pd.DataFrame()\n",
    "for directory in directories:\n",
    "    file_name = directory.replace(\"_\", ' ')\n",
    "    #profile_df = load_profile_df('Profiles/ERCOT_Backcasted_Load_Profiles_2016/ERCOT Backcasted Load Profiles 2016.xls')\n",
    "    try: \n",
    "        profile_df = pd.read_excel(f'Profiles/{directory}/{file_name}.xls', index_col = 0, engine='xlrd')\n",
    "    except:\n",
    "        profile_df = pd.read_excel(f'Profiles/{directory}/{file_name}.xlsx', index_col = 0, engine = 'openpyxl')\n",
    "    #prof = ProfileReport(profile_df, title=file_name, minimal=True)\n",
    "    load_data = pd.concat([load_data, profile_df])\n",
    "    #prof.to_file(f'Profiles/{directory}/{file_name}.html')\n",
    "    #profile_df[\"Date\"] = pd.to_datetime(profile_df[\"Date\"])\n",
    "save_load_df = load_data.copy()\n",
    "    #date = profile_df[\"Date\"]\n",
    "    #profile_df.set_index(\"Date\", inplace=True)\n",
    "    #print(profile_df.columns)\n",
    "    #profile_df[\"PType_WZ\"] = profile_df[\"PType_WZ\"].astype(str)\n",
    "#profile_df.plot()\n",
    "#plt.savefig(f'Profiles/{directory}/{directory}_plot.png')\n",
    "#plt.show()\n",
    "save_load_df.reset_index(inplace=True)"
   ]
  },
  {
   "cell_type": "code",
   "execution_count": 4,
   "metadata": {},
   "outputs": [
    {
     "data": {
      "text/html": [
       "<div>\n",
       "<style scoped>\n",
       "    .dataframe tbody tr th:only-of-type {\n",
       "        vertical-align: middle;\n",
       "    }\n",
       "\n",
       "    .dataframe tbody tr th {\n",
       "        vertical-align: top;\n",
       "    }\n",
       "\n",
       "    .dataframe thead th {\n",
       "        text-align: right;\n",
       "    }\n",
       "</style>\n",
       "<table border=\"1\" class=\"dataframe\">\n",
       "  <thead>\n",
       "    <tr style=\"text-align: right;\">\n",
       "      <th></th>\n",
       "      <th>Station</th>\n",
       "      <th>Date</th>\n",
       "      <th>int_kWh1</th>\n",
       "      <th>int_kWh2</th>\n",
       "      <th>int_kWh3</th>\n",
       "      <th>int_kWh4</th>\n",
       "      <th>int_kWh5</th>\n",
       "      <th>int_kWh6</th>\n",
       "      <th>int_kWh7</th>\n",
       "      <th>int_kWh8</th>\n",
       "      <th>...</th>\n",
       "      <th>int_kWh92</th>\n",
       "      <th>int_kWh93</th>\n",
       "      <th>int_kWh94</th>\n",
       "      <th>int_kWh95</th>\n",
       "      <th>int_kWh96</th>\n",
       "      <th>int_kWh97</th>\n",
       "      <th>int_kWh98</th>\n",
       "      <th>int_kWh99</th>\n",
       "      <th>int_kWh100</th>\n",
       "      <th>ADDTIME</th>\n",
       "    </tr>\n",
       "  </thead>\n",
       "  <tbody>\n",
       "    <tr>\n",
       "      <th>0</th>\n",
       "      <td>BUSHIDG_COAST</td>\n",
       "      <td>2019-01-01</td>\n",
       "      <td>11.406</td>\n",
       "      <td>11.329</td>\n",
       "      <td>11.279</td>\n",
       "      <td>11.236</td>\n",
       "      <td>11.219</td>\n",
       "      <td>11.211</td>\n",
       "      <td>11.174</td>\n",
       "      <td>11.167</td>\n",
       "      <td>...</td>\n",
       "      <td>12.022</td>\n",
       "      <td>11.810</td>\n",
       "      <td>11.708</td>\n",
       "      <td>11.609</td>\n",
       "      <td>11.462</td>\n",
       "      <td>NaN</td>\n",
       "      <td>NaN</td>\n",
       "      <td>NaN</td>\n",
       "      <td>NaN</td>\n",
       "      <td>2019-01-05</td>\n",
       "    </tr>\n",
       "    <tr>\n",
       "      <th>1</th>\n",
       "      <td>BUSHIDG_COAST</td>\n",
       "      <td>2019-01-02</td>\n",
       "      <td>11.530</td>\n",
       "      <td>11.461</td>\n",
       "      <td>11.422</td>\n",
       "      <td>11.398</td>\n",
       "      <td>11.407</td>\n",
       "      <td>11.416</td>\n",
       "      <td>11.391</td>\n",
       "      <td>11.405</td>\n",
       "      <td>...</td>\n",
       "      <td>12.062</td>\n",
       "      <td>11.841</td>\n",
       "      <td>11.728</td>\n",
       "      <td>11.623</td>\n",
       "      <td>11.470</td>\n",
       "      <td>NaN</td>\n",
       "      <td>NaN</td>\n",
       "      <td>NaN</td>\n",
       "      <td>NaN</td>\n",
       "      <td>2019-01-06</td>\n",
       "    </tr>\n",
       "    <tr>\n",
       "      <th>2</th>\n",
       "      <td>BUSHIDG_COAST</td>\n",
       "      <td>2019-01-03</td>\n",
       "      <td>11.617</td>\n",
       "      <td>11.546</td>\n",
       "      <td>11.505</td>\n",
       "      <td>11.477</td>\n",
       "      <td>11.483</td>\n",
       "      <td>11.489</td>\n",
       "      <td>11.461</td>\n",
       "      <td>11.470</td>\n",
       "      <td>...</td>\n",
       "      <td>11.950</td>\n",
       "      <td>11.748</td>\n",
       "      <td>11.645</td>\n",
       "      <td>11.546</td>\n",
       "      <td>11.399</td>\n",
       "      <td>NaN</td>\n",
       "      <td>NaN</td>\n",
       "      <td>NaN</td>\n",
       "      <td>NaN</td>\n",
       "      <td>2019-01-07</td>\n",
       "    </tr>\n",
       "    <tr>\n",
       "      <th>3</th>\n",
       "      <td>BUSHIDG_COAST</td>\n",
       "      <td>2019-01-04</td>\n",
       "      <td>11.374</td>\n",
       "      <td>11.301</td>\n",
       "      <td>11.255</td>\n",
       "      <td>11.220</td>\n",
       "      <td>11.218</td>\n",
       "      <td>11.215</td>\n",
       "      <td>11.179</td>\n",
       "      <td>11.172</td>\n",
       "      <td>...</td>\n",
       "      <td>12.381</td>\n",
       "      <td>12.167</td>\n",
       "      <td>12.067</td>\n",
       "      <td>11.969</td>\n",
       "      <td>11.821</td>\n",
       "      <td>NaN</td>\n",
       "      <td>NaN</td>\n",
       "      <td>NaN</td>\n",
       "      <td>NaN</td>\n",
       "      <td>2019-01-08</td>\n",
       "    </tr>\n",
       "    <tr>\n",
       "      <th>4</th>\n",
       "      <td>BUSHIDG_COAST</td>\n",
       "      <td>2019-01-05</td>\n",
       "      <td>11.652</td>\n",
       "      <td>11.568</td>\n",
       "      <td>11.509</td>\n",
       "      <td>11.453</td>\n",
       "      <td>11.409</td>\n",
       "      <td>11.392</td>\n",
       "      <td>11.355</td>\n",
       "      <td>11.354</td>\n",
       "      <td>...</td>\n",
       "      <td>12.338</td>\n",
       "      <td>12.133</td>\n",
       "      <td>12.044</td>\n",
       "      <td>11.952</td>\n",
       "      <td>11.811</td>\n",
       "      <td>NaN</td>\n",
       "      <td>NaN</td>\n",
       "      <td>NaN</td>\n",
       "      <td>NaN</td>\n",
       "      <td>2019-01-09</td>\n",
       "    </tr>\n",
       "  </tbody>\n",
       "</table>\n",
       "<p>5 rows × 103 columns</p>\n",
       "</div>"
      ],
      "text/plain": [
       "         Station       Date  int_kWh1  int_kWh2  int_kWh3  int_kWh4  int_kWh5  \\\n",
       "0  BUSHIDG_COAST 2019-01-01    11.406    11.329    11.279    11.236    11.219   \n",
       "1  BUSHIDG_COAST 2019-01-02    11.530    11.461    11.422    11.398    11.407   \n",
       "2  BUSHIDG_COAST 2019-01-03    11.617    11.546    11.505    11.477    11.483   \n",
       "3  BUSHIDG_COAST 2019-01-04    11.374    11.301    11.255    11.220    11.218   \n",
       "4  BUSHIDG_COAST 2019-01-05    11.652    11.568    11.509    11.453    11.409   \n",
       "\n",
       "   int_kWh6  int_kWh7  int_kWh8  ...  int_kWh92  int_kWh93  int_kWh94  \\\n",
       "0    11.211    11.174    11.167  ...     12.022     11.810     11.708   \n",
       "1    11.416    11.391    11.405  ...     12.062     11.841     11.728   \n",
       "2    11.489    11.461    11.470  ...     11.950     11.748     11.645   \n",
       "3    11.215    11.179    11.172  ...     12.381     12.167     12.067   \n",
       "4    11.392    11.355    11.354  ...     12.338     12.133     12.044   \n",
       "\n",
       "   int_kWh95  int_kWh96  int_kWh97  int_kWh98  int_kWh99  int_kWh100  \\\n",
       "0     11.609     11.462        NaN        NaN        NaN         NaN   \n",
       "1     11.623     11.470        NaN        NaN        NaN         NaN   \n",
       "2     11.546     11.399        NaN        NaN        NaN         NaN   \n",
       "3     11.969     11.821        NaN        NaN        NaN         NaN   \n",
       "4     11.952     11.811        NaN        NaN        NaN         NaN   \n",
       "\n",
       "     ADDTIME  \n",
       "0 2019-01-05  \n",
       "1 2019-01-06  \n",
       "2 2019-01-07  \n",
       "3 2019-01-08  \n",
       "4 2019-01-09  \n",
       "\n",
       "[5 rows x 103 columns]"
      ]
     },
     "execution_count": 4,
     "metadata": {},
     "output_type": "execute_result"
    }
   ],
   "source": [
    "if 'PType_WZ' in save_load_df.columns:\n",
    "    save_load_df.rename(columns={'PType_WZ':'Station'}, inplace=True)\n",
    "\n",
    "save_load_df.head()"
   ]
  },
  {
   "cell_type": "code",
   "execution_count": 5,
   "metadata": {},
   "outputs": [
    {
     "data": {
      "text/html": [
       "<div>\n",
       "<style scoped>\n",
       "    .dataframe tbody tr th:only-of-type {\n",
       "        vertical-align: middle;\n",
       "    }\n",
       "\n",
       "    .dataframe tbody tr th {\n",
       "        vertical-align: top;\n",
       "    }\n",
       "\n",
       "    .dataframe thead th {\n",
       "        text-align: right;\n",
       "    }\n",
       "</style>\n",
       "<table border=\"1\" class=\"dataframe\">\n",
       "  <thead>\n",
       "    <tr style=\"text-align: right;\">\n",
       "      <th></th>\n",
       "      <th>Station</th>\n",
       "      <th>Date</th>\n",
       "      <th>00:00:00</th>\n",
       "      <th>00:15:00</th>\n",
       "      <th>00:30:00</th>\n",
       "      <th>00:45:00</th>\n",
       "      <th>01:00:00</th>\n",
       "      <th>01:15:00</th>\n",
       "      <th>01:30:00</th>\n",
       "      <th>01:45:00</th>\n",
       "      <th>...</th>\n",
       "      <th>22:30:00</th>\n",
       "      <th>22:45:00</th>\n",
       "      <th>23:00:00</th>\n",
       "      <th>23:15:00</th>\n",
       "      <th>23:30:00</th>\n",
       "      <th>23:45:00</th>\n",
       "      <th>int_kWh97</th>\n",
       "      <th>int_kWh98</th>\n",
       "      <th>int_kWh99</th>\n",
       "      <th>int_kWh100</th>\n",
       "    </tr>\n",
       "  </thead>\n",
       "  <tbody>\n",
       "    <tr>\n",
       "      <th>0</th>\n",
       "      <td>BUSHIDG_COAST</td>\n",
       "      <td>2019-01-01</td>\n",
       "      <td>11.406</td>\n",
       "      <td>11.329</td>\n",
       "      <td>11.279</td>\n",
       "      <td>11.236</td>\n",
       "      <td>11.219</td>\n",
       "      <td>11.211</td>\n",
       "      <td>11.174</td>\n",
       "      <td>11.167</td>\n",
       "      <td>...</td>\n",
       "      <td>12.157</td>\n",
       "      <td>12.022</td>\n",
       "      <td>11.810</td>\n",
       "      <td>11.708</td>\n",
       "      <td>11.609</td>\n",
       "      <td>11.462</td>\n",
       "      <td>NaN</td>\n",
       "      <td>NaN</td>\n",
       "      <td>NaN</td>\n",
       "      <td>NaN</td>\n",
       "    </tr>\n",
       "    <tr>\n",
       "      <th>1</th>\n",
       "      <td>BUSHIDG_COAST</td>\n",
       "      <td>2019-01-02</td>\n",
       "      <td>11.530</td>\n",
       "      <td>11.461</td>\n",
       "      <td>11.422</td>\n",
       "      <td>11.398</td>\n",
       "      <td>11.407</td>\n",
       "      <td>11.416</td>\n",
       "      <td>11.391</td>\n",
       "      <td>11.405</td>\n",
       "      <td>...</td>\n",
       "      <td>12.212</td>\n",
       "      <td>12.062</td>\n",
       "      <td>11.841</td>\n",
       "      <td>11.728</td>\n",
       "      <td>11.623</td>\n",
       "      <td>11.470</td>\n",
       "      <td>NaN</td>\n",
       "      <td>NaN</td>\n",
       "      <td>NaN</td>\n",
       "      <td>NaN</td>\n",
       "    </tr>\n",
       "    <tr>\n",
       "      <th>2</th>\n",
       "      <td>BUSHIDG_COAST</td>\n",
       "      <td>2019-01-03</td>\n",
       "      <td>11.617</td>\n",
       "      <td>11.546</td>\n",
       "      <td>11.505</td>\n",
       "      <td>11.477</td>\n",
       "      <td>11.483</td>\n",
       "      <td>11.489</td>\n",
       "      <td>11.461</td>\n",
       "      <td>11.470</td>\n",
       "      <td>...</td>\n",
       "      <td>12.090</td>\n",
       "      <td>11.950</td>\n",
       "      <td>11.748</td>\n",
       "      <td>11.645</td>\n",
       "      <td>11.546</td>\n",
       "      <td>11.399</td>\n",
       "      <td>NaN</td>\n",
       "      <td>NaN</td>\n",
       "      <td>NaN</td>\n",
       "      <td>NaN</td>\n",
       "    </tr>\n",
       "    <tr>\n",
       "      <th>3</th>\n",
       "      <td>BUSHIDG_COAST</td>\n",
       "      <td>2019-01-04</td>\n",
       "      <td>11.374</td>\n",
       "      <td>11.301</td>\n",
       "      <td>11.255</td>\n",
       "      <td>11.220</td>\n",
       "      <td>11.218</td>\n",
       "      <td>11.215</td>\n",
       "      <td>11.179</td>\n",
       "      <td>11.172</td>\n",
       "      <td>...</td>\n",
       "      <td>12.511</td>\n",
       "      <td>12.381</td>\n",
       "      <td>12.167</td>\n",
       "      <td>12.067</td>\n",
       "      <td>11.969</td>\n",
       "      <td>11.821</td>\n",
       "      <td>NaN</td>\n",
       "      <td>NaN</td>\n",
       "      <td>NaN</td>\n",
       "      <td>NaN</td>\n",
       "    </tr>\n",
       "    <tr>\n",
       "      <th>4</th>\n",
       "      <td>BUSHIDG_COAST</td>\n",
       "      <td>2019-01-05</td>\n",
       "      <td>11.652</td>\n",
       "      <td>11.568</td>\n",
       "      <td>11.509</td>\n",
       "      <td>11.453</td>\n",
       "      <td>11.409</td>\n",
       "      <td>11.392</td>\n",
       "      <td>11.355</td>\n",
       "      <td>11.354</td>\n",
       "      <td>...</td>\n",
       "      <td>12.452</td>\n",
       "      <td>12.338</td>\n",
       "      <td>12.133</td>\n",
       "      <td>12.044</td>\n",
       "      <td>11.952</td>\n",
       "      <td>11.811</td>\n",
       "      <td>NaN</td>\n",
       "      <td>NaN</td>\n",
       "      <td>NaN</td>\n",
       "      <td>NaN</td>\n",
       "    </tr>\n",
       "  </tbody>\n",
       "</table>\n",
       "<p>5 rows × 102 columns</p>\n",
       "</div>"
      ],
      "text/plain": [
       "         Station       Date  00:00:00  00:15:00  00:30:00  00:45:00  01:00:00  \\\n",
       "0  BUSHIDG_COAST 2019-01-01    11.406    11.329    11.279    11.236    11.219   \n",
       "1  BUSHIDG_COAST 2019-01-02    11.530    11.461    11.422    11.398    11.407   \n",
       "2  BUSHIDG_COAST 2019-01-03    11.617    11.546    11.505    11.477    11.483   \n",
       "3  BUSHIDG_COAST 2019-01-04    11.374    11.301    11.255    11.220    11.218   \n",
       "4  BUSHIDG_COAST 2019-01-05    11.652    11.568    11.509    11.453    11.409   \n",
       "\n",
       "   01:15:00  01:30:00  01:45:00  ...  22:30:00  22:45:00  23:00:00  23:15:00  \\\n",
       "0    11.211    11.174    11.167  ...    12.157    12.022    11.810    11.708   \n",
       "1    11.416    11.391    11.405  ...    12.212    12.062    11.841    11.728   \n",
       "2    11.489    11.461    11.470  ...    12.090    11.950    11.748    11.645   \n",
       "3    11.215    11.179    11.172  ...    12.511    12.381    12.167    12.067   \n",
       "4    11.392    11.355    11.354  ...    12.452    12.338    12.133    12.044   \n",
       "\n",
       "   23:30:00  23:45:00  int_kWh97  int_kWh98  int_kWh99  int_kWh100  \n",
       "0    11.609    11.462        NaN        NaN        NaN         NaN  \n",
       "1    11.623    11.470        NaN        NaN        NaN         NaN  \n",
       "2    11.546    11.399        NaN        NaN        NaN         NaN  \n",
       "3    11.969    11.821        NaN        NaN        NaN         NaN  \n",
       "4    11.952    11.811        NaN        NaN        NaN         NaN  \n",
       "\n",
       "[5 rows x 102 columns]"
      ]
     },
     "execution_count": 5,
     "metadata": {},
     "output_type": "execute_result"
    }
   ],
   "source": [
    "if \"ADDTIME\" in save_load_df.columns:\n",
    "    save_load_df.drop(columns=[\"ADDTIME\"], inplace=True)\n",
    "id_vars = ['Station', 'Date']\n",
    "\n",
    "load_columns = save_load_df.columns.tolist()[2:98]\n",
    "daily_time_intervals = pd.Series(pd.date_range('1/1/2020', '1/2/2020', freq='15min', closed='left')).dt.time # Dummy dates used to get dail time intervals\n",
    "\n",
    "new_load_columns = {load_columns[i]: daily_time_intervals[i] for i in range(len(load_columns))}\n",
    "\n",
    "save_load_df.rename(columns=new_load_columns, inplace=True)\n",
    "load_columns = save_load_df.columns.tolist()[2:98]\n",
    "all_columns = save_load_df.columns.tolist()[1:99]\n",
    "\n",
    "dates = save_load_df['Date']\n",
    "save_load_df.head()"
   ]
  },
  {
   "cell_type": "code",
   "execution_count": 6,
   "metadata": {},
   "outputs": [
    {
     "data": {
      "text/html": [
       "<div>\n",
       "<style scoped>\n",
       "    .dataframe tbody tr th:only-of-type {\n",
       "        vertical-align: middle;\n",
       "    }\n",
       "\n",
       "    .dataframe tbody tr th {\n",
       "        vertical-align: top;\n",
       "    }\n",
       "\n",
       "    .dataframe thead th {\n",
       "        text-align: right;\n",
       "    }\n",
       "</style>\n",
       "<table border=\"1\" class=\"dataframe\">\n",
       "  <thead>\n",
       "    <tr style=\"text-align: right;\">\n",
       "      <th></th>\n",
       "      <th>Station</th>\n",
       "      <th>Date</th>\n",
       "      <th>00:00:00</th>\n",
       "      <th>00:15:00</th>\n",
       "      <th>00:30:00</th>\n",
       "      <th>00:45:00</th>\n",
       "      <th>01:00:00</th>\n",
       "      <th>01:15:00</th>\n",
       "      <th>01:30:00</th>\n",
       "      <th>01:45:00</th>\n",
       "      <th>...</th>\n",
       "      <th>22:30:00</th>\n",
       "      <th>22:45:00</th>\n",
       "      <th>23:00:00</th>\n",
       "      <th>23:15:00</th>\n",
       "      <th>23:30:00</th>\n",
       "      <th>23:45:00</th>\n",
       "      <th>int_kWh97</th>\n",
       "      <th>int_kWh98</th>\n",
       "      <th>int_kWh99</th>\n",
       "      <th>int_kWh100</th>\n",
       "    </tr>\n",
       "  </thead>\n",
       "  <tbody>\n",
       "    <tr>\n",
       "      <th>0</th>\n",
       "      <td>BUSHIDG_COAST</td>\n",
       "      <td>2016-01-01</td>\n",
       "      <td>11.489</td>\n",
       "      <td>11.413</td>\n",
       "      <td>11.364</td>\n",
       "      <td>11.325</td>\n",
       "      <td>11.312</td>\n",
       "      <td>11.307</td>\n",
       "      <td>11.273</td>\n",
       "      <td>11.273</td>\n",
       "      <td>...</td>\n",
       "      <td>12.015</td>\n",
       "      <td>11.900</td>\n",
       "      <td>11.711</td>\n",
       "      <td>11.624</td>\n",
       "      <td>11.536</td>\n",
       "      <td>11.399</td>\n",
       "      <td>NaN</td>\n",
       "      <td>NaN</td>\n",
       "      <td>NaN</td>\n",
       "      <td>NaN</td>\n",
       "    </tr>\n",
       "    <tr>\n",
       "      <th>1</th>\n",
       "      <td>BUSHIDG_COAST</td>\n",
       "      <td>2016-01-02</td>\n",
       "      <td>11.668</td>\n",
       "      <td>11.589</td>\n",
       "      <td>11.538</td>\n",
       "      <td>11.494</td>\n",
       "      <td>11.472</td>\n",
       "      <td>11.464</td>\n",
       "      <td>11.430</td>\n",
       "      <td>11.431</td>\n",
       "      <td>...</td>\n",
       "      <td>12.307</td>\n",
       "      <td>12.199</td>\n",
       "      <td>12.007</td>\n",
       "      <td>11.923</td>\n",
       "      <td>11.836</td>\n",
       "      <td>11.699</td>\n",
       "      <td>NaN</td>\n",
       "      <td>NaN</td>\n",
       "      <td>NaN</td>\n",
       "      <td>NaN</td>\n",
       "    </tr>\n",
       "    <tr>\n",
       "      <th>2</th>\n",
       "      <td>BUSHIDG_COAST</td>\n",
       "      <td>2016-01-03</td>\n",
       "      <td>11.457</td>\n",
       "      <td>11.381</td>\n",
       "      <td>11.332</td>\n",
       "      <td>11.291</td>\n",
       "      <td>11.271</td>\n",
       "      <td>11.266</td>\n",
       "      <td>11.235</td>\n",
       "      <td>11.241</td>\n",
       "      <td>...</td>\n",
       "      <td>12.075</td>\n",
       "      <td>11.953</td>\n",
       "      <td>11.746</td>\n",
       "      <td>11.651</td>\n",
       "      <td>11.558</td>\n",
       "      <td>11.416</td>\n",
       "      <td>NaN</td>\n",
       "      <td>NaN</td>\n",
       "      <td>NaN</td>\n",
       "      <td>NaN</td>\n",
       "    </tr>\n",
       "    <tr>\n",
       "      <th>3</th>\n",
       "      <td>BUSHIDG_COAST</td>\n",
       "      <td>2016-01-04</td>\n",
       "      <td>11.358</td>\n",
       "      <td>11.280</td>\n",
       "      <td>11.228</td>\n",
       "      <td>11.182</td>\n",
       "      <td>11.162</td>\n",
       "      <td>11.150</td>\n",
       "      <td>11.111</td>\n",
       "      <td>11.100</td>\n",
       "      <td>...</td>\n",
       "      <td>12.145</td>\n",
       "      <td>11.996</td>\n",
       "      <td>11.804</td>\n",
       "      <td>11.699</td>\n",
       "      <td>11.598</td>\n",
       "      <td>11.450</td>\n",
       "      <td>NaN</td>\n",
       "      <td>NaN</td>\n",
       "      <td>NaN</td>\n",
       "      <td>NaN</td>\n",
       "    </tr>\n",
       "    <tr>\n",
       "      <th>4</th>\n",
       "      <td>BUSHIDG_COAST</td>\n",
       "      <td>2016-01-05</td>\n",
       "      <td>11.492</td>\n",
       "      <td>11.418</td>\n",
       "      <td>11.373</td>\n",
       "      <td>11.338</td>\n",
       "      <td>11.336</td>\n",
       "      <td>11.334</td>\n",
       "      <td>11.300</td>\n",
       "      <td>11.296</td>\n",
       "      <td>...</td>\n",
       "      <td>12.350</td>\n",
       "      <td>12.210</td>\n",
       "      <td>12.008</td>\n",
       "      <td>11.906</td>\n",
       "      <td>11.806</td>\n",
       "      <td>11.658</td>\n",
       "      <td>NaN</td>\n",
       "      <td>NaN</td>\n",
       "      <td>NaN</td>\n",
       "      <td>NaN</td>\n",
       "    </tr>\n",
       "  </tbody>\n",
       "</table>\n",
       "<p>5 rows × 102 columns</p>\n",
       "</div>"
      ],
      "text/plain": [
       "         Station       Date  00:00:00  00:15:00  00:30:00  00:45:00  01:00:00  \\\n",
       "0  BUSHIDG_COAST 2016-01-01    11.489    11.413    11.364    11.325    11.312   \n",
       "1  BUSHIDG_COAST 2016-01-02    11.668    11.589    11.538    11.494    11.472   \n",
       "2  BUSHIDG_COAST 2016-01-03    11.457    11.381    11.332    11.291    11.271   \n",
       "3  BUSHIDG_COAST 2016-01-04    11.358    11.280    11.228    11.182    11.162   \n",
       "4  BUSHIDG_COAST 2016-01-05    11.492    11.418    11.373    11.338    11.336   \n",
       "\n",
       "   01:15:00  01:30:00  01:45:00  ...  22:30:00  22:45:00  23:00:00  23:15:00  \\\n",
       "0    11.307    11.273    11.273  ...    12.015    11.900    11.711    11.624   \n",
       "1    11.464    11.430    11.431  ...    12.307    12.199    12.007    11.923   \n",
       "2    11.266    11.235    11.241  ...    12.075    11.953    11.746    11.651   \n",
       "3    11.150    11.111    11.100  ...    12.145    11.996    11.804    11.699   \n",
       "4    11.334    11.300    11.296  ...    12.350    12.210    12.008    11.906   \n",
       "\n",
       "   23:30:00  23:45:00  int_kWh97  int_kWh98  int_kWh99  int_kWh100  \n",
       "0    11.536    11.399        NaN        NaN        NaN         NaN  \n",
       "1    11.836    11.699        NaN        NaN        NaN         NaN  \n",
       "2    11.558    11.416        NaN        NaN        NaN         NaN  \n",
       "3    11.598    11.450        NaN        NaN        NaN         NaN  \n",
       "4    11.806    11.658        NaN        NaN        NaN         NaN  \n",
       "\n",
       "[5 rows x 102 columns]"
      ]
     },
     "execution_count": 6,
     "metadata": {},
     "output_type": "execute_result"
    }
   ],
   "source": [
    "sorted_load = save_load_df.sort_values(by=['Station', 'Date']).reset_index(drop=True)\n",
    "sorted_load.head()"
   ]
  },
  {
   "cell_type": "code",
   "execution_count": 7,
   "metadata": {},
   "outputs": [],
   "source": [
    "#sorted_load = sorted_load.transpose()"
   ]
  },
  {
   "cell_type": "code",
   "execution_count": 8,
   "metadata": {},
   "outputs": [],
   "source": [
    "#sorted_load.head()\n"
   ]
  },
  {
   "cell_type": "markdown",
   "metadata": {},
   "source": [
    "# Plots a single day and also prints first 5 rows, shape, columns, and index of the load profile dataframe"
   ]
  },
  {
   "cell_type": "code",
   "execution_count": 9,
   "metadata": {},
   "outputs": [
    {
     "data": {
      "text/html": [
       "<div>\n",
       "<style scoped>\n",
       "    .dataframe tbody tr th:only-of-type {\n",
       "        vertical-align: middle;\n",
       "    }\n",
       "\n",
       "    .dataframe tbody tr th {\n",
       "        vertical-align: top;\n",
       "    }\n",
       "\n",
       "    .dataframe thead th {\n",
       "        text-align: right;\n",
       "    }\n",
       "</style>\n",
       "<table border=\"1\" class=\"dataframe\">\n",
       "  <thead>\n",
       "    <tr style=\"text-align: right;\">\n",
       "      <th></th>\n",
       "      <th>Station</th>\n",
       "      <th>Date</th>\n",
       "      <th>00:00:00</th>\n",
       "      <th>00:15:00</th>\n",
       "      <th>00:30:00</th>\n",
       "      <th>00:45:00</th>\n",
       "      <th>01:00:00</th>\n",
       "      <th>01:15:00</th>\n",
       "      <th>01:30:00</th>\n",
       "      <th>01:45:00</th>\n",
       "      <th>...</th>\n",
       "      <th>21:30:00</th>\n",
       "      <th>21:45:00</th>\n",
       "      <th>22:00:00</th>\n",
       "      <th>22:15:00</th>\n",
       "      <th>22:30:00</th>\n",
       "      <th>22:45:00</th>\n",
       "      <th>23:00:00</th>\n",
       "      <th>23:15:00</th>\n",
       "      <th>23:30:00</th>\n",
       "      <th>23:45:00</th>\n",
       "    </tr>\n",
       "  </thead>\n",
       "  <tbody>\n",
       "    <tr>\n",
       "      <th>0</th>\n",
       "      <td>BUSHIDG_COAST</td>\n",
       "      <td>2016-01-01</td>\n",
       "      <td>11.489</td>\n",
       "      <td>11.413</td>\n",
       "      <td>11.364</td>\n",
       "      <td>11.325</td>\n",
       "      <td>11.312</td>\n",
       "      <td>11.307</td>\n",
       "      <td>11.273</td>\n",
       "      <td>11.273</td>\n",
       "      <td>...</td>\n",
       "      <td>12.304</td>\n",
       "      <td>12.261</td>\n",
       "      <td>12.177</td>\n",
       "      <td>12.112</td>\n",
       "      <td>12.015</td>\n",
       "      <td>11.900</td>\n",
       "      <td>11.711</td>\n",
       "      <td>11.624</td>\n",
       "      <td>11.536</td>\n",
       "      <td>11.399</td>\n",
       "    </tr>\n",
       "    <tr>\n",
       "      <th>1</th>\n",
       "      <td>BUSHIDG_COAST</td>\n",
       "      <td>2016-01-02</td>\n",
       "      <td>11.668</td>\n",
       "      <td>11.589</td>\n",
       "      <td>11.538</td>\n",
       "      <td>11.494</td>\n",
       "      <td>11.472</td>\n",
       "      <td>11.464</td>\n",
       "      <td>11.430</td>\n",
       "      <td>11.431</td>\n",
       "      <td>...</td>\n",
       "      <td>12.539</td>\n",
       "      <td>12.505</td>\n",
       "      <td>12.448</td>\n",
       "      <td>12.396</td>\n",
       "      <td>12.307</td>\n",
       "      <td>12.199</td>\n",
       "      <td>12.007</td>\n",
       "      <td>11.923</td>\n",
       "      <td>11.836</td>\n",
       "      <td>11.699</td>\n",
       "    </tr>\n",
       "    <tr>\n",
       "      <th>2</th>\n",
       "      <td>BUSHIDG_COAST</td>\n",
       "      <td>2016-01-03</td>\n",
       "      <td>11.457</td>\n",
       "      <td>11.381</td>\n",
       "      <td>11.332</td>\n",
       "      <td>11.291</td>\n",
       "      <td>11.271</td>\n",
       "      <td>11.266</td>\n",
       "      <td>11.235</td>\n",
       "      <td>11.241</td>\n",
       "      <td>...</td>\n",
       "      <td>12.358</td>\n",
       "      <td>12.314</td>\n",
       "      <td>12.241</td>\n",
       "      <td>12.175</td>\n",
       "      <td>12.075</td>\n",
       "      <td>11.953</td>\n",
       "      <td>11.746</td>\n",
       "      <td>11.651</td>\n",
       "      <td>11.558</td>\n",
       "      <td>11.416</td>\n",
       "    </tr>\n",
       "    <tr>\n",
       "      <th>3</th>\n",
       "      <td>BUSHIDG_COAST</td>\n",
       "      <td>2016-01-04</td>\n",
       "      <td>11.358</td>\n",
       "      <td>11.280</td>\n",
       "      <td>11.228</td>\n",
       "      <td>11.182</td>\n",
       "      <td>11.162</td>\n",
       "      <td>11.150</td>\n",
       "      <td>11.111</td>\n",
       "      <td>11.100</td>\n",
       "      <td>...</td>\n",
       "      <td>12.666</td>\n",
       "      <td>12.581</td>\n",
       "      <td>12.395</td>\n",
       "      <td>12.277</td>\n",
       "      <td>12.145</td>\n",
       "      <td>11.996</td>\n",
       "      <td>11.804</td>\n",
       "      <td>11.699</td>\n",
       "      <td>11.598</td>\n",
       "      <td>11.450</td>\n",
       "    </tr>\n",
       "    <tr>\n",
       "      <th>4</th>\n",
       "      <td>BUSHIDG_COAST</td>\n",
       "      <td>2016-01-05</td>\n",
       "      <td>11.492</td>\n",
       "      <td>11.418</td>\n",
       "      <td>11.373</td>\n",
       "      <td>11.338</td>\n",
       "      <td>11.336</td>\n",
       "      <td>11.334</td>\n",
       "      <td>11.300</td>\n",
       "      <td>11.296</td>\n",
       "      <td>...</td>\n",
       "      <td>12.781</td>\n",
       "      <td>12.711</td>\n",
       "      <td>12.570</td>\n",
       "      <td>12.472</td>\n",
       "      <td>12.350</td>\n",
       "      <td>12.210</td>\n",
       "      <td>12.008</td>\n",
       "      <td>11.906</td>\n",
       "      <td>11.806</td>\n",
       "      <td>11.658</td>\n",
       "    </tr>\n",
       "  </tbody>\n",
       "</table>\n",
       "<p>5 rows × 98 columns</p>\n",
       "</div>"
      ],
      "text/plain": [
       "         Station       Date  00:00:00  00:15:00  00:30:00  00:45:00  01:00:00  \\\n",
       "0  BUSHIDG_COAST 2016-01-01    11.489    11.413    11.364    11.325    11.312   \n",
       "1  BUSHIDG_COAST 2016-01-02    11.668    11.589    11.538    11.494    11.472   \n",
       "2  BUSHIDG_COAST 2016-01-03    11.457    11.381    11.332    11.291    11.271   \n",
       "3  BUSHIDG_COAST 2016-01-04    11.358    11.280    11.228    11.182    11.162   \n",
       "4  BUSHIDG_COAST 2016-01-05    11.492    11.418    11.373    11.338    11.336   \n",
       "\n",
       "   01:15:00  01:30:00  01:45:00  ...  21:30:00  21:45:00  22:00:00  22:15:00  \\\n",
       "0    11.307    11.273    11.273  ...    12.304    12.261    12.177    12.112   \n",
       "1    11.464    11.430    11.431  ...    12.539    12.505    12.448    12.396   \n",
       "2    11.266    11.235    11.241  ...    12.358    12.314    12.241    12.175   \n",
       "3    11.150    11.111    11.100  ...    12.666    12.581    12.395    12.277   \n",
       "4    11.334    11.300    11.296  ...    12.781    12.711    12.570    12.472   \n",
       "\n",
       "   22:30:00  22:45:00  23:00:00  23:15:00  23:30:00  23:45:00  \n",
       "0    12.015    11.900    11.711    11.624    11.536    11.399  \n",
       "1    12.307    12.199    12.007    11.923    11.836    11.699  \n",
       "2    12.075    11.953    11.746    11.651    11.558    11.416  \n",
       "3    12.145    11.996    11.804    11.699    11.598    11.450  \n",
       "4    12.350    12.210    12.008    11.906    11.806    11.658  \n",
       "\n",
       "[5 rows x 98 columns]"
      ]
     },
     "execution_count": 9,
     "metadata": {},
     "output_type": "execute_result"
    }
   ],
   "source": [
    "if 'int_kWh97' in save_load_df.columns:\n",
    "    try:\n",
    "        sorted_load = sorted_load.drop(columns=['int_kWh97', 'int_kWh98', 'int_kWh99', 'int_kWh100'])\n",
    "    except:\n",
    "        pass\n",
    "sorted_load = sorted_load.fillna(0)\n",
    "sorted_load.head()\n"
   ]
  },
  {
   "cell_type": "code",
   "execution_count": 10,
   "metadata": {},
   "outputs": [
    {
     "name": "stdout",
     "output_type": "stream",
     "text": [
      "         Station       Date  00:00:00  00:15:00  00:30:00  00:45:00  01:00:00  \\\n",
      "0  BUSHIDG_COAST 2016-01-01    11.489    11.413    11.364    11.325    11.312   \n",
      "\n",
      "   01:15:00  01:30:00  01:45:00  ...  21:30:00  21:45:00  22:00:00  22:15:00  \\\n",
      "0    11.307    11.273    11.273  ...    12.304    12.261    12.177    12.112   \n",
      "\n",
      "   22:30:00  22:45:00  23:00:00  23:15:00  23:30:00  23:45:00  \n",
      "0    12.015      11.9    11.711    11.624    11.536    11.399  \n",
      "\n",
      "[1 rows x 98 columns]\n"
     ]
    },
    {
     "data": {
      "application/vnd.plotly.v1+json": {
       "config": {
        "plotlyServerURL": "https://plot.ly"
       },
       "data": [
        {
         "name": "BUSHIDG_COAST",
         "type": "scatter",
         "x": [
          "00:00:00",
          "00:15:00",
          "00:30:00",
          "00:45:00",
          "01:00:00",
          "01:15:00",
          "01:30:00",
          "01:45:00",
          "02:00:00",
          "02:15:00",
          "02:30:00",
          "02:45:00",
          "03:00:00",
          "03:15:00",
          "03:30:00",
          "03:45:00",
          "04:00:00",
          "04:15:00",
          "04:30:00",
          "04:45:00",
          "05:00:00",
          "05:15:00",
          "05:30:00",
          "05:45:00",
          "06:00:00",
          "06:15:00",
          "06:30:00",
          "06:45:00",
          "07:00:00",
          "07:15:00",
          "07:30:00",
          "07:45:00",
          "08:00:00",
          "08:15:00",
          "08:30:00",
          "08:45:00",
          "09:00:00",
          "09:15:00",
          "09:30:00",
          "09:45:00",
          "10:00:00",
          "10:15:00",
          "10:30:00",
          "10:45:00",
          "11:00:00",
          "11:15:00",
          "11:30:00",
          "11:45:00",
          "12:00:00",
          "12:15:00",
          "12:30:00",
          "12:45:00",
          "13:00:00",
          "13:15:00",
          "13:30:00",
          "13:45:00",
          "14:00:00",
          "14:15:00",
          "14:30:00",
          "14:45:00",
          "15:00:00",
          "15:15:00",
          "15:30:00",
          "15:45:00",
          "16:00:00",
          "16:15:00",
          "16:30:00",
          "16:45:00",
          "17:00:00",
          "17:15:00",
          "17:30:00",
          "17:45:00",
          "18:00:00",
          "18:15:00",
          "18:30:00",
          "18:45:00",
          "19:00:00",
          "19:15:00",
          "19:30:00",
          "19:45:00",
          "20:00:00",
          "20:15:00",
          "20:30:00",
          "20:45:00",
          "21:00:00",
          "21:15:00",
          "21:30:00",
          "21:45:00",
          "22:00:00",
          "22:15:00",
          "22:30:00",
          "22:45:00",
          "23:00:00",
          "23:15:00",
          "23:30:00",
          "23:45:00"
         ],
         "y": [
          "BUSHIDG_COAST",
          "2016-01-01T00:00:00",
          11.489,
          11.413,
          11.364,
          11.325,
          11.312,
          11.307,
          11.273,
          11.273,
          11.288,
          11.28,
          11.267,
          11.218,
          11.097,
          11.052,
          11.051,
          11.088,
          11.201,
          11.204,
          11.248,
          11.3,
          11.374,
          11.416,
          11.502,
          11.617,
          11.873,
          11.994,
          12.026,
          12.064,
          12.292,
          12.277,
          12.133,
          12,
          11.875,
          11.821,
          11.827,
          11.831,
          11.901,
          11.903,
          11.917,
          11.925,
          11.989,
          11.974,
          11.938,
          11.853,
          11.696,
          11.623,
          11.589,
          11.59,
          11.679,
          11.692,
          11.685,
          11.695,
          11.719,
          11.714,
          11.705,
          11.704,
          11.708,
          11.692,
          11.673,
          11.639,
          11.592,
          11.564,
          11.553,
          11.558,
          11.539,
          11.557,
          11.608,
          11.699,
          11.954,
          12.255,
          12.539,
          12.736,
          12.693,
          12.761,
          12.775,
          12.756,
          12.671,
          12.604,
          12.544,
          12.51,
          12.435,
          12.419,
          12.426,
          12.424,
          12.399,
          12.344,
          12.304,
          12.261,
          12.177,
          12.112,
          12.015,
          11.9,
          11.711,
          11.624,
          11.536,
          11.399
         ]
        }
       ],
       "layout": {
        "showlegend": true,
        "template": {
         "data": {
          "bar": [
           {
            "error_x": {
             "color": "#2a3f5f"
            },
            "error_y": {
             "color": "#2a3f5f"
            },
            "marker": {
             "line": {
              "color": "#E5ECF6",
              "width": 0.5
             },
             "pattern": {
              "fillmode": "overlay",
              "size": 10,
              "solidity": 0.2
             }
            },
            "type": "bar"
           }
          ],
          "barpolar": [
           {
            "marker": {
             "line": {
              "color": "#E5ECF6",
              "width": 0.5
             },
             "pattern": {
              "fillmode": "overlay",
              "size": 10,
              "solidity": 0.2
             }
            },
            "type": "barpolar"
           }
          ],
          "carpet": [
           {
            "aaxis": {
             "endlinecolor": "#2a3f5f",
             "gridcolor": "white",
             "linecolor": "white",
             "minorgridcolor": "white",
             "startlinecolor": "#2a3f5f"
            },
            "baxis": {
             "endlinecolor": "#2a3f5f",
             "gridcolor": "white",
             "linecolor": "white",
             "minorgridcolor": "white",
             "startlinecolor": "#2a3f5f"
            },
            "type": "carpet"
           }
          ],
          "choropleth": [
           {
            "colorbar": {
             "outlinewidth": 0,
             "ticks": ""
            },
            "type": "choropleth"
           }
          ],
          "contour": [
           {
            "colorbar": {
             "outlinewidth": 0,
             "ticks": ""
            },
            "colorscale": [
             [
              0,
              "#0d0887"
             ],
             [
              0.1111111111111111,
              "#46039f"
             ],
             [
              0.2222222222222222,
              "#7201a8"
             ],
             [
              0.3333333333333333,
              "#9c179e"
             ],
             [
              0.4444444444444444,
              "#bd3786"
             ],
             [
              0.5555555555555556,
              "#d8576b"
             ],
             [
              0.6666666666666666,
              "#ed7953"
             ],
             [
              0.7777777777777778,
              "#fb9f3a"
             ],
             [
              0.8888888888888888,
              "#fdca26"
             ],
             [
              1,
              "#f0f921"
             ]
            ],
            "type": "contour"
           }
          ],
          "contourcarpet": [
           {
            "colorbar": {
             "outlinewidth": 0,
             "ticks": ""
            },
            "type": "contourcarpet"
           }
          ],
          "heatmap": [
           {
            "colorbar": {
             "outlinewidth": 0,
             "ticks": ""
            },
            "colorscale": [
             [
              0,
              "#0d0887"
             ],
             [
              0.1111111111111111,
              "#46039f"
             ],
             [
              0.2222222222222222,
              "#7201a8"
             ],
             [
              0.3333333333333333,
              "#9c179e"
             ],
             [
              0.4444444444444444,
              "#bd3786"
             ],
             [
              0.5555555555555556,
              "#d8576b"
             ],
             [
              0.6666666666666666,
              "#ed7953"
             ],
             [
              0.7777777777777778,
              "#fb9f3a"
             ],
             [
              0.8888888888888888,
              "#fdca26"
             ],
             [
              1,
              "#f0f921"
             ]
            ],
            "type": "heatmap"
           }
          ],
          "heatmapgl": [
           {
            "colorbar": {
             "outlinewidth": 0,
             "ticks": ""
            },
            "colorscale": [
             [
              0,
              "#0d0887"
             ],
             [
              0.1111111111111111,
              "#46039f"
             ],
             [
              0.2222222222222222,
              "#7201a8"
             ],
             [
              0.3333333333333333,
              "#9c179e"
             ],
             [
              0.4444444444444444,
              "#bd3786"
             ],
             [
              0.5555555555555556,
              "#d8576b"
             ],
             [
              0.6666666666666666,
              "#ed7953"
             ],
             [
              0.7777777777777778,
              "#fb9f3a"
             ],
             [
              0.8888888888888888,
              "#fdca26"
             ],
             [
              1,
              "#f0f921"
             ]
            ],
            "type": "heatmapgl"
           }
          ],
          "histogram": [
           {
            "marker": {
             "pattern": {
              "fillmode": "overlay",
              "size": 10,
              "solidity": 0.2
             }
            },
            "type": "histogram"
           }
          ],
          "histogram2d": [
           {
            "colorbar": {
             "outlinewidth": 0,
             "ticks": ""
            },
            "colorscale": [
             [
              0,
              "#0d0887"
             ],
             [
              0.1111111111111111,
              "#46039f"
             ],
             [
              0.2222222222222222,
              "#7201a8"
             ],
             [
              0.3333333333333333,
              "#9c179e"
             ],
             [
              0.4444444444444444,
              "#bd3786"
             ],
             [
              0.5555555555555556,
              "#d8576b"
             ],
             [
              0.6666666666666666,
              "#ed7953"
             ],
             [
              0.7777777777777778,
              "#fb9f3a"
             ],
             [
              0.8888888888888888,
              "#fdca26"
             ],
             [
              1,
              "#f0f921"
             ]
            ],
            "type": "histogram2d"
           }
          ],
          "histogram2dcontour": [
           {
            "colorbar": {
             "outlinewidth": 0,
             "ticks": ""
            },
            "colorscale": [
             [
              0,
              "#0d0887"
             ],
             [
              0.1111111111111111,
              "#46039f"
             ],
             [
              0.2222222222222222,
              "#7201a8"
             ],
             [
              0.3333333333333333,
              "#9c179e"
             ],
             [
              0.4444444444444444,
              "#bd3786"
             ],
             [
              0.5555555555555556,
              "#d8576b"
             ],
             [
              0.6666666666666666,
              "#ed7953"
             ],
             [
              0.7777777777777778,
              "#fb9f3a"
             ],
             [
              0.8888888888888888,
              "#fdca26"
             ],
             [
              1,
              "#f0f921"
             ]
            ],
            "type": "histogram2dcontour"
           }
          ],
          "mesh3d": [
           {
            "colorbar": {
             "outlinewidth": 0,
             "ticks": ""
            },
            "type": "mesh3d"
           }
          ],
          "parcoords": [
           {
            "line": {
             "colorbar": {
              "outlinewidth": 0,
              "ticks": ""
             }
            },
            "type": "parcoords"
           }
          ],
          "pie": [
           {
            "automargin": true,
            "type": "pie"
           }
          ],
          "scatter": [
           {
            "marker": {
             "colorbar": {
              "outlinewidth": 0,
              "ticks": ""
             }
            },
            "type": "scatter"
           }
          ],
          "scatter3d": [
           {
            "line": {
             "colorbar": {
              "outlinewidth": 0,
              "ticks": ""
             }
            },
            "marker": {
             "colorbar": {
              "outlinewidth": 0,
              "ticks": ""
             }
            },
            "type": "scatter3d"
           }
          ],
          "scattercarpet": [
           {
            "marker": {
             "colorbar": {
              "outlinewidth": 0,
              "ticks": ""
             }
            },
            "type": "scattercarpet"
           }
          ],
          "scattergeo": [
           {
            "marker": {
             "colorbar": {
              "outlinewidth": 0,
              "ticks": ""
             }
            },
            "type": "scattergeo"
           }
          ],
          "scattergl": [
           {
            "marker": {
             "colorbar": {
              "outlinewidth": 0,
              "ticks": ""
             }
            },
            "type": "scattergl"
           }
          ],
          "scattermapbox": [
           {
            "marker": {
             "colorbar": {
              "outlinewidth": 0,
              "ticks": ""
             }
            },
            "type": "scattermapbox"
           }
          ],
          "scatterpolar": [
           {
            "marker": {
             "colorbar": {
              "outlinewidth": 0,
              "ticks": ""
             }
            },
            "type": "scatterpolar"
           }
          ],
          "scatterpolargl": [
           {
            "marker": {
             "colorbar": {
              "outlinewidth": 0,
              "ticks": ""
             }
            },
            "type": "scatterpolargl"
           }
          ],
          "scatterternary": [
           {
            "marker": {
             "colorbar": {
              "outlinewidth": 0,
              "ticks": ""
             }
            },
            "type": "scatterternary"
           }
          ],
          "surface": [
           {
            "colorbar": {
             "outlinewidth": 0,
             "ticks": ""
            },
            "colorscale": [
             [
              0,
              "#0d0887"
             ],
             [
              0.1111111111111111,
              "#46039f"
             ],
             [
              0.2222222222222222,
              "#7201a8"
             ],
             [
              0.3333333333333333,
              "#9c179e"
             ],
             [
              0.4444444444444444,
              "#bd3786"
             ],
             [
              0.5555555555555556,
              "#d8576b"
             ],
             [
              0.6666666666666666,
              "#ed7953"
             ],
             [
              0.7777777777777778,
              "#fb9f3a"
             ],
             [
              0.8888888888888888,
              "#fdca26"
             ],
             [
              1,
              "#f0f921"
             ]
            ],
            "type": "surface"
           }
          ],
          "table": [
           {
            "cells": {
             "fill": {
              "color": "#EBF0F8"
             },
             "line": {
              "color": "white"
             }
            },
            "header": {
             "fill": {
              "color": "#C8D4E3"
             },
             "line": {
              "color": "white"
             }
            },
            "type": "table"
           }
          ]
         },
         "layout": {
          "annotationdefaults": {
           "arrowcolor": "#2a3f5f",
           "arrowhead": 0,
           "arrowwidth": 1
          },
          "autotypenumbers": "strict",
          "coloraxis": {
           "colorbar": {
            "outlinewidth": 0,
            "ticks": ""
           }
          },
          "colorscale": {
           "diverging": [
            [
             0,
             "#8e0152"
            ],
            [
             0.1,
             "#c51b7d"
            ],
            [
             0.2,
             "#de77ae"
            ],
            [
             0.3,
             "#f1b6da"
            ],
            [
             0.4,
             "#fde0ef"
            ],
            [
             0.5,
             "#f7f7f7"
            ],
            [
             0.6,
             "#e6f5d0"
            ],
            [
             0.7,
             "#b8e186"
            ],
            [
             0.8,
             "#7fbc41"
            ],
            [
             0.9,
             "#4d9221"
            ],
            [
             1,
             "#276419"
            ]
           ],
           "sequential": [
            [
             0,
             "#0d0887"
            ],
            [
             0.1111111111111111,
             "#46039f"
            ],
            [
             0.2222222222222222,
             "#7201a8"
            ],
            [
             0.3333333333333333,
             "#9c179e"
            ],
            [
             0.4444444444444444,
             "#bd3786"
            ],
            [
             0.5555555555555556,
             "#d8576b"
            ],
            [
             0.6666666666666666,
             "#ed7953"
            ],
            [
             0.7777777777777778,
             "#fb9f3a"
            ],
            [
             0.8888888888888888,
             "#fdca26"
            ],
            [
             1,
             "#f0f921"
            ]
           ],
           "sequentialminus": [
            [
             0,
             "#0d0887"
            ],
            [
             0.1111111111111111,
             "#46039f"
            ],
            [
             0.2222222222222222,
             "#7201a8"
            ],
            [
             0.3333333333333333,
             "#9c179e"
            ],
            [
             0.4444444444444444,
             "#bd3786"
            ],
            [
             0.5555555555555556,
             "#d8576b"
            ],
            [
             0.6666666666666666,
             "#ed7953"
            ],
            [
             0.7777777777777778,
             "#fb9f3a"
            ],
            [
             0.8888888888888888,
             "#fdca26"
            ],
            [
             1,
             "#f0f921"
            ]
           ]
          },
          "colorway": [
           "#636efa",
           "#EF553B",
           "#00cc96",
           "#ab63fa",
           "#FFA15A",
           "#19d3f3",
           "#FF6692",
           "#B6E880",
           "#FF97FF",
           "#FECB52"
          ],
          "font": {
           "color": "#2a3f5f"
          },
          "geo": {
           "bgcolor": "white",
           "lakecolor": "white",
           "landcolor": "#E5ECF6",
           "showlakes": true,
           "showland": true,
           "subunitcolor": "white"
          },
          "hoverlabel": {
           "align": "left"
          },
          "hovermode": "closest",
          "mapbox": {
           "style": "light"
          },
          "paper_bgcolor": "white",
          "plot_bgcolor": "#E5ECF6",
          "polar": {
           "angularaxis": {
            "gridcolor": "white",
            "linecolor": "white",
            "ticks": ""
           },
           "bgcolor": "#E5ECF6",
           "radialaxis": {
            "gridcolor": "white",
            "linecolor": "white",
            "ticks": ""
           }
          },
          "scene": {
           "xaxis": {
            "backgroundcolor": "#E5ECF6",
            "gridcolor": "white",
            "gridwidth": 2,
            "linecolor": "white",
            "showbackground": true,
            "ticks": "",
            "zerolinecolor": "white"
           },
           "yaxis": {
            "backgroundcolor": "#E5ECF6",
            "gridcolor": "white",
            "gridwidth": 2,
            "linecolor": "white",
            "showbackground": true,
            "ticks": "",
            "zerolinecolor": "white"
           },
           "zaxis": {
            "backgroundcolor": "#E5ECF6",
            "gridcolor": "white",
            "gridwidth": 2,
            "linecolor": "white",
            "showbackground": true,
            "ticks": "",
            "zerolinecolor": "white"
           }
          },
          "shapedefaults": {
           "line": {
            "color": "#2a3f5f"
           }
          },
          "ternary": {
           "aaxis": {
            "gridcolor": "white",
            "linecolor": "white",
            "ticks": ""
           },
           "baxis": {
            "gridcolor": "white",
            "linecolor": "white",
            "ticks": ""
           },
           "bgcolor": "#E5ECF6",
           "caxis": {
            "gridcolor": "white",
            "linecolor": "white",
            "ticks": ""
           }
          },
          "title": {
           "x": 0.05
          },
          "xaxis": {
           "automargin": true,
           "gridcolor": "white",
           "linecolor": "white",
           "ticks": "",
           "title": {
            "standoff": 15
           },
           "zerolinecolor": "white",
           "zerolinewidth": 2
          },
          "yaxis": {
           "automargin": true,
           "gridcolor": "white",
           "linecolor": "white",
           "ticks": "",
           "title": {
            "standoff": 15
           },
           "zerolinecolor": "white",
           "zerolinewidth": 2
          }
         }
        },
        "title": {
         "text": "Daily Load - 01/01/2016 associated with BUSHIDG_COAST"
        },
        "xaxis": {
         "tickangle": 45,
         "title": {
          "text": "Time of Day"
         }
        },
        "yaxis": {
         "title": {
          "text": "Load (kW)"
         }
        }
       }
      }
     },
     "metadata": {},
     "output_type": "display_data"
    }
   ],
   "source": [
    "def plot_load_by_date(df = sorted_load, station = 'BUSHIDG_COAST', date = '1/01/2016'):\n",
    "    date = pd.to_datetime(date)\n",
    "    try:\n",
    "        single_profile = df[(df['Station']==station) & (df['Date'] == date)]\n",
    "        print(single_profile)\n",
    "\n",
    "        fig = go.Figure()\n",
    "        fig.add_trace(go.Scatter(x = load_columns, y = single_profile.iloc[0], name = station))\n",
    "        date_str = date.strftime('%m/%d/%Y')\n",
    "        fig.update_layout(title = f\"Daily Load - {date_str} associated with {station}\", showlegend=True)\n",
    "        fig.update_xaxes(tickangle=45, title_text=\"Time of Day\")\n",
    "        fig.update_yaxes(title_text=\"Load (kW)\")\n",
    "        fig.show()\n",
    "    except:\n",
    "        print(\"Exception: There does not appear to be data for this selection.\")\n",
    "    \n",
    "plot_load_by_date()"
   ]
  },
  {
   "cell_type": "code",
   "execution_count": 11,
   "metadata": {},
   "outputs": [],
   "source": [
    "batch_size = 4\n",
    "input_size = int(len(load_columns)/batch_size)"
   ]
  },
  {
   "cell_type": "code",
   "execution_count": 12,
   "metadata": {},
   "outputs": [],
   "source": [
    "\n",
    "'''Referenced from https://pytorch.org/tutorials/beginner/basics/data_tutorial.html#creating-a-custom-dataset-for-your-files'''\n",
    "class LoadDataset(Dataset):\n",
    "    def __init__(self, df):\n",
    "        self.df = df\n",
    "\n",
    "\n",
    "    def __len__(self):\n",
    "        return len(self.df)\n",
    "\n",
    "    def __getitem__(self, idx):\n",
    "        sample = self.df.iloc[idx][2:].astype(np.float32).values.reshape(batch_size,24)\n",
    "        try:\n",
    "            labels = self.df.iloc[idx+1][2:6].astype(np.float32).values\n",
    "        except:\n",
    "            labels = self.df.iloc[idx][2:6].astype(np.float32).values\n",
    "        sample = torch.from_numpy(sample)\n",
    "        labels = torch.from_numpy(labels)\n",
    "        return sample, labels\n",
    "    \n",
    "\n",
    "    \n",
    "\n",
    "#Initiate LoadDataset, check target function\n",
    "Load = LoadDataset(sorted_load)\n"
   ]
  },
  {
   "cell_type": "markdown",
   "metadata": {},
   "source": [
    "# Train, Test Split"
   ]
  },
  {
   "cell_type": "code",
   "execution_count": 13,
   "metadata": {},
   "outputs": [],
   "source": [
    "train_df, test_df = train_test_split(sorted_load, test_size=0.2, shuffle=False)\n",
    "train_dataset = LoadDataset(train_df)\n",
    "test_dataset = LoadDataset(test_df)\n",
    "train_dataloader = torch.utils.data.DataLoader(train_dataset, batch_size = batch_size, shuffle=False)\n",
    "test_dataloader = torch.utils.data.DataLoader(test_dataset, batch_size = batch_size,  shuffle=False)"
   ]
  },
  {
   "cell_type": "markdown",
   "metadata": {},
   "source": [
    "# Define and train Neural Network Model"
   ]
  },
  {
   "cell_type": "code",
   "execution_count": 14,
   "metadata": {},
   "outputs": [
    {
     "data": {
      "text/plain": [
       "device(type='cpu')"
      ]
     },
     "execution_count": 14,
     "metadata": {},
     "output_type": "execute_result"
    }
   ],
   "source": [
    "device = torch.device('cuda' if torch.cuda.is_available() else 'cpu')\n",
    "\n",
    "class MultiVarLSTM(nn.Module):\n",
    "    def __init__(self, input_size, hidden_size, num_layers, num_targets):\n",
    "        super(MultiVarLSTM, self).__init__()\n",
    "        self.hidden_size = hidden_size\n",
    "        self.num_layers = num_layers\n",
    "        self.lstm = nn.LSTM(input_size, hidden_size, num_layers)\n",
    "        self.fc = nn.Linear(hidden_size, num_targets)\n",
    "        self.hidden_list = []\n",
    "        \n",
    "    def forward(self, x):\n",
    "        x.to(device)\n",
    "        h0 = torch.zeros(self.num_layers, x.size(0), self.hidden_size).to(device)\n",
    "        self.hidden_list.append([self.num_layers,x.size(0), self.hidden_size, h0])\n",
    "        c0 = torch.zeros(self.num_layers, x.size(0), self.hidden_size).to(device)\n",
    "        out, _ = self.lstm(x, (h0, c0))\n",
    "        out = self.fc(out[:, -1, :])\n",
    "        return out\n",
    "device"
   ]
  },
  {
   "cell_type": "code",
   "execution_count": 15,
   "metadata": {},
   "outputs": [],
   "source": [
    "load_lstm_model = MultiVarLSTM(input_size=24, hidden_size=100, num_layers=2, num_targets=4)\n",
    "optimizer = torch.optim.Adam(load_lstm_model.parameters(), lr=0.01)\n",
    "loss_function = nn.MSELoss()"
   ]
  },
  {
   "cell_type": "code",
   "execution_count": 16,
   "metadata": {},
   "outputs": [
    {
     "name": "stdout",
     "output_type": "stream",
     "text": [
      "Training Epoch: 1\n"
     ]
    },
    {
     "name": "stderr",
     "output_type": "stream",
     "text": [
      "100%|██████████| 15128/15128 [01:17<00:00, 194.63it/s]\n"
     ]
    },
    {
     "name": "stdout",
     "output_type": "stream",
     "text": [
      "Validating Epoch: 1\n",
      "Epoch 1/2 Loss: 811.1929298388279\n",
      "Validation Loss Decreased(inf--->280.189960)\t Saving The Model\n",
      "Training Epoch: 2\n"
     ]
    },
    {
     "name": "stderr",
     "output_type": "stream",
     "text": [
      "100%|██████████| 15128/15128 [01:20<00:00, 188.59it/s]\n"
     ]
    },
    {
     "name": "stdout",
     "output_type": "stream",
     "text": [
      "Validating Epoch: 2\n",
      "Epoch 2/2 Loss: 8284.940800324608\n",
      "Validation Loss Decreased(inf--->537.694903)\t Saving The Model\n"
     ]
    }
   ],
   "source": [
    "epochs = 2\n",
    "min_validation_loss = np.inf\n",
    "load_lstm_model.train() # set model to training mode\n",
    "# if a GPU is available, use it\n",
    "# if a model is in the directory, load it instead of training\n",
    "\"\"\"Also referenced from https://www.geeksforgeeks.org/training-neural-networks-with-validation-using-pytorch/\"\"\"\n",
    "\n",
    "for epoch in range(epochs):\n",
    "    training_loss = 0.0\n",
    "    print(\"Training Epoch: {}\".format(epoch+1))\n",
    "    for data, labels in tqdm(train_dataloader):\n",
    "        if torch.cuda.is_available():\n",
    "            data, labels = data.to(device), labels.to(device) # move to GPU, if available\n",
    "        optimizer.zero_grad()\n",
    "        target = load_lstm_model(data)\n",
    "        loss = loss_function(target, labels)\n",
    "        loss.backward()\n",
    "        #torch.nn.utils.clip_grad_norm_(load_lstm_model.parameters(), 100)\n",
    "        optimizer.step() # update the weights\n",
    "        training_loss += loss.item()\n",
    "    validation_loss = 0.0\n",
    "    print(\"Validating Epoch: {}\".format(epoch+1))\n",
    "    load_lstm_model.eval()\n",
    "    for data, labels in test_dataloader:\n",
    "        if torch.cuda.is_available():\n",
    "            data, labels = data.to(device), labels.to(device) # move to GPU, if available\n",
    "        target = load_lstm_model(data)\n",
    "        loss = loss_function(target, labels)\n",
    "        validation_loss += loss.item()*data.size(0)\n",
    "    print(f'Epoch {epoch+1}/{epochs} Loss: {training_loss/len(train_dataloader)}')\n",
    "    if min_validation_loss > validation_loss:\n",
    "        print(f'Validation Loss Decreased({min_validation_loss:.6f}--->{validation_loss:.6f})\\t Saving The Model')\n"
   ]
  },
  {
   "cell_type": "code",
   "execution_count": 17,
   "metadata": {},
   "outputs": [
    {
     "name": "stdout",
     "output_type": "stream",
     "text": [
      "Test Loss: 537.6949031874537\n"
     ]
    },
    {
     "data": {
      "text/plain": [
       "537.6949031874537"
      ]
     },
     "execution_count": 17,
     "metadata": {},
     "output_type": "execute_result"
    }
   ],
   "source": [
    "def evaluate_lstm_accuracy():\n",
    "    \"\"\"\n",
    "    Return the error between the LSTM predictions and the actual values.\n",
    "    \"\"\"\n",
    "    load_lstm_model.eval()\n",
    "    test_loss = 0.0\n",
    "    for data, labels in test_dataloader:\n",
    "        if torch.cuda.is_available():\n",
    "            data, labels = data.to(device), labels.to(device) # move to GPU, if available\n",
    "        target = load_lstm_model(data)\n",
    "        loss = loss_function(target, labels)\n",
    "        test_loss += loss.item()*data.size(0)\n",
    "    #test_loss /= len(test_dataloader.dataset) # average loss\n",
    "    print(f'Test Loss: {test_loss}')\n",
    "    return test_loss\n",
    "evaluate_lstm_accuracy()\n"
   ]
  },
  {
   "cell_type": "code",
   "execution_count": 24,
   "metadata": {},
   "outputs": [
    {
     "ename": "RuntimeError",
     "evalue": "input must have 3 dimensions, got 2",
     "output_type": "error",
     "traceback": [
      "\u001b[0;31m---------------------------------------------------------------------------\u001b[0m",
      "\u001b[0;31mRuntimeError\u001b[0m                              Traceback (most recent call last)",
      "\u001b[1;32m/home/austin/Desktop/Repositories/load_forecast_rw/Load_Forecasting.ipynb Cell 24'\u001b[0m in \u001b[0;36m<cell line: 24>\u001b[0;34m()\u001b[0m\n\u001b[1;32m     <a href='vscode-notebook-cell:/home/austin/Desktop/Repositories/load_forecast_rw/Load_Forecasting.ipynb#ch0000022?line=20'>21</a>\u001b[0m    \u001b[39m# fig = px.line(x=load_columns, y=target.detach().cpu().numpy(), title='Predicted Loads')\u001b[39;00m\n\u001b[1;32m     <a href='vscode-notebook-cell:/home/austin/Desktop/Repositories/load_forecast_rw/Load_Forecasting.ipynb#ch0000022?line=21'>22</a>\u001b[0m \u001b[39m#\u001b[39;00m\n\u001b[1;32m     <a href='vscode-notebook-cell:/home/austin/Desktop/Repositories/load_forecast_rw/Load_Forecasting.ipynb#ch0000022?line=22'>23</a>\u001b[0m     fig\u001b[39m.\u001b[39mshow()\n\u001b[0;32m---> <a href='vscode-notebook-cell:/home/austin/Desktop/Repositories/load_forecast_rw/Load_Forecasting.ipynb#ch0000022?line=23'>24</a>\u001b[0m plot_lstm_predictions(\u001b[39m3\u001b[39;49m)\n",
      "\u001b[1;32m/home/austin/Desktop/Repositories/load_forecast_rw/Load_Forecasting.ipynb Cell 24'\u001b[0m in \u001b[0;36mplot_lstm_predictions\u001b[0;34m(profile_idx)\u001b[0m\n\u001b[1;32m      <a href='vscode-notebook-cell:/home/austin/Desktop/Repositories/load_forecast_rw/Load_Forecasting.ipynb#ch0000022?line=6'>7</a>\u001b[0m     data \u001b[39m=\u001b[39m data1[profile_idx]\n\u001b[1;32m      <a href='vscode-notebook-cell:/home/austin/Desktop/Repositories/load_forecast_rw/Load_Forecasting.ipynb#ch0000022?line=7'>8</a>\u001b[0m     labels \u001b[39m=\u001b[39m labels1[profile_idx]\n\u001b[0;32m----> <a href='vscode-notebook-cell:/home/austin/Desktop/Repositories/load_forecast_rw/Load_Forecasting.ipynb#ch0000022?line=8'>9</a>\u001b[0m target \u001b[39m=\u001b[39m load_lstm_model(data)\u001b[39m.\u001b[39mdetach()\u001b[39m.\u001b[39mcpu()\u001b[39m.\u001b[39mnumpy()\u001b[39m.\u001b[39mflatten()[:\u001b[39m4\u001b[39m]\n\u001b[1;32m     <a href='vscode-notebook-cell:/home/austin/Desktop/Repositories/load_forecast_rw/Load_Forecasting.ipynb#ch0000022?line=9'>10</a>\u001b[0m     \u001b[39m#print(target)\u001b[39;00m\n\u001b[1;32m     <a href='vscode-notebook-cell:/home/austin/Desktop/Repositories/load_forecast_rw/Load_Forecasting.ipynb#ch0000022?line=10'>11</a>\u001b[0m     \u001b[39m# print(load_lstm_model(data).size())\u001b[39;00m\n\u001b[1;32m     <a href='vscode-notebook-cell:/home/austin/Desktop/Repositories/load_forecast_rw/Load_Forecasting.ipynb#ch0000022?line=12'>13</a>\u001b[0m load_plus_one \u001b[39m=\u001b[39m load_columns \u001b[39m+\u001b[39m [\u001b[39m'\u001b[39m\u001b[39mt1\u001b[39m\u001b[39m'\u001b[39m,\u001b[39m'\u001b[39m\u001b[39mt2\u001b[39m\u001b[39m'\u001b[39m,\u001b[39m'\u001b[39m\u001b[39mt3\u001b[39m\u001b[39m'\u001b[39m,\u001b[39m'\u001b[39m\u001b[39mt4\u001b[39m\u001b[39m'\u001b[39m]\n",
      "File \u001b[0;32m~/anaconda3/envs/bittensor/lib/python3.8/site-packages/torch/nn/modules/module.py:727\u001b[0m, in \u001b[0;36mModule._call_impl\u001b[0;34m(self, *input, **kwargs)\u001b[0m\n\u001b[1;32m    <a href='file:///home/austin/anaconda3/envs/bittensor/lib/python3.8/site-packages/torch/nn/modules/module.py?line=724'>725</a>\u001b[0m     result \u001b[39m=\u001b[39m \u001b[39mself\u001b[39m\u001b[39m.\u001b[39m_slow_forward(\u001b[39m*\u001b[39m\u001b[39minput\u001b[39m, \u001b[39m*\u001b[39m\u001b[39m*\u001b[39mkwargs)\n\u001b[1;32m    <a href='file:///home/austin/anaconda3/envs/bittensor/lib/python3.8/site-packages/torch/nn/modules/module.py?line=725'>726</a>\u001b[0m \u001b[39melse\u001b[39;00m:\n\u001b[0;32m--> <a href='file:///home/austin/anaconda3/envs/bittensor/lib/python3.8/site-packages/torch/nn/modules/module.py?line=726'>727</a>\u001b[0m     result \u001b[39m=\u001b[39m \u001b[39mself\u001b[39;49m\u001b[39m.\u001b[39;49mforward(\u001b[39m*\u001b[39;49m\u001b[39minput\u001b[39;49m, \u001b[39m*\u001b[39;49m\u001b[39m*\u001b[39;49mkwargs)\n\u001b[1;32m    <a href='file:///home/austin/anaconda3/envs/bittensor/lib/python3.8/site-packages/torch/nn/modules/module.py?line=727'>728</a>\u001b[0m \u001b[39mfor\u001b[39;00m hook \u001b[39min\u001b[39;00m itertools\u001b[39m.\u001b[39mchain(\n\u001b[1;32m    <a href='file:///home/austin/anaconda3/envs/bittensor/lib/python3.8/site-packages/torch/nn/modules/module.py?line=728'>729</a>\u001b[0m         _global_forward_hooks\u001b[39m.\u001b[39mvalues(),\n\u001b[1;32m    <a href='file:///home/austin/anaconda3/envs/bittensor/lib/python3.8/site-packages/torch/nn/modules/module.py?line=729'>730</a>\u001b[0m         \u001b[39mself\u001b[39m\u001b[39m.\u001b[39m_forward_hooks\u001b[39m.\u001b[39mvalues()):\n\u001b[1;32m    <a href='file:///home/austin/anaconda3/envs/bittensor/lib/python3.8/site-packages/torch/nn/modules/module.py?line=730'>731</a>\u001b[0m     hook_result \u001b[39m=\u001b[39m hook(\u001b[39mself\u001b[39m, \u001b[39minput\u001b[39m, result)\n",
      "\u001b[1;32m/home/austin/Desktop/Repositories/load_forecast_rw/Load_Forecasting.ipynb Cell 20'\u001b[0m in \u001b[0;36mMultiVarLSTM.forward\u001b[0;34m(self, x)\u001b[0m\n\u001b[1;32m     <a href='vscode-notebook-cell:/home/austin/Desktop/Repositories/load_forecast_rw/Load_Forecasting.ipynb#ch0000018?line=14'>15</a>\u001b[0m \u001b[39mself\u001b[39m\u001b[39m.\u001b[39mhidden_list\u001b[39m.\u001b[39mappend([\u001b[39mself\u001b[39m\u001b[39m.\u001b[39mnum_layers,x\u001b[39m.\u001b[39msize(\u001b[39m0\u001b[39m), \u001b[39mself\u001b[39m\u001b[39m.\u001b[39mhidden_size, h0])\n\u001b[1;32m     <a href='vscode-notebook-cell:/home/austin/Desktop/Repositories/load_forecast_rw/Load_Forecasting.ipynb#ch0000018?line=15'>16</a>\u001b[0m c0 \u001b[39m=\u001b[39m torch\u001b[39m.\u001b[39mzeros(\u001b[39mself\u001b[39m\u001b[39m.\u001b[39mnum_layers, x\u001b[39m.\u001b[39msize(\u001b[39m0\u001b[39m), \u001b[39mself\u001b[39m\u001b[39m.\u001b[39mhidden_size)\u001b[39m.\u001b[39mto(device)\n\u001b[0;32m---> <a href='vscode-notebook-cell:/home/austin/Desktop/Repositories/load_forecast_rw/Load_Forecasting.ipynb#ch0000018?line=16'>17</a>\u001b[0m out, _ \u001b[39m=\u001b[39m \u001b[39mself\u001b[39;49m\u001b[39m.\u001b[39;49mlstm(x, (h0, c0))\n\u001b[1;32m     <a href='vscode-notebook-cell:/home/austin/Desktop/Repositories/load_forecast_rw/Load_Forecasting.ipynb#ch0000018?line=17'>18</a>\u001b[0m out \u001b[39m=\u001b[39m \u001b[39mself\u001b[39m\u001b[39m.\u001b[39mfc(out[:, \u001b[39m-\u001b[39m\u001b[39m1\u001b[39m, :])\n\u001b[1;32m     <a href='vscode-notebook-cell:/home/austin/Desktop/Repositories/load_forecast_rw/Load_Forecasting.ipynb#ch0000018?line=18'>19</a>\u001b[0m \u001b[39mreturn\u001b[39;00m out\n",
      "File \u001b[0;32m~/anaconda3/envs/bittensor/lib/python3.8/site-packages/torch/nn/modules/module.py:727\u001b[0m, in \u001b[0;36mModule._call_impl\u001b[0;34m(self, *input, **kwargs)\u001b[0m\n\u001b[1;32m    <a href='file:///home/austin/anaconda3/envs/bittensor/lib/python3.8/site-packages/torch/nn/modules/module.py?line=724'>725</a>\u001b[0m     result \u001b[39m=\u001b[39m \u001b[39mself\u001b[39m\u001b[39m.\u001b[39m_slow_forward(\u001b[39m*\u001b[39m\u001b[39minput\u001b[39m, \u001b[39m*\u001b[39m\u001b[39m*\u001b[39mkwargs)\n\u001b[1;32m    <a href='file:///home/austin/anaconda3/envs/bittensor/lib/python3.8/site-packages/torch/nn/modules/module.py?line=725'>726</a>\u001b[0m \u001b[39melse\u001b[39;00m:\n\u001b[0;32m--> <a href='file:///home/austin/anaconda3/envs/bittensor/lib/python3.8/site-packages/torch/nn/modules/module.py?line=726'>727</a>\u001b[0m     result \u001b[39m=\u001b[39m \u001b[39mself\u001b[39;49m\u001b[39m.\u001b[39;49mforward(\u001b[39m*\u001b[39;49m\u001b[39minput\u001b[39;49m, \u001b[39m*\u001b[39;49m\u001b[39m*\u001b[39;49mkwargs)\n\u001b[1;32m    <a href='file:///home/austin/anaconda3/envs/bittensor/lib/python3.8/site-packages/torch/nn/modules/module.py?line=727'>728</a>\u001b[0m \u001b[39mfor\u001b[39;00m hook \u001b[39min\u001b[39;00m itertools\u001b[39m.\u001b[39mchain(\n\u001b[1;32m    <a href='file:///home/austin/anaconda3/envs/bittensor/lib/python3.8/site-packages/torch/nn/modules/module.py?line=728'>729</a>\u001b[0m         _global_forward_hooks\u001b[39m.\u001b[39mvalues(),\n\u001b[1;32m    <a href='file:///home/austin/anaconda3/envs/bittensor/lib/python3.8/site-packages/torch/nn/modules/module.py?line=729'>730</a>\u001b[0m         \u001b[39mself\u001b[39m\u001b[39m.\u001b[39m_forward_hooks\u001b[39m.\u001b[39mvalues()):\n\u001b[1;32m    <a href='file:///home/austin/anaconda3/envs/bittensor/lib/python3.8/site-packages/torch/nn/modules/module.py?line=730'>731</a>\u001b[0m     hook_result \u001b[39m=\u001b[39m hook(\u001b[39mself\u001b[39m, \u001b[39minput\u001b[39m, result)\n",
      "File \u001b[0;32m~/anaconda3/envs/bittensor/lib/python3.8/site-packages/torch/nn/modules/rnn.py:579\u001b[0m, in \u001b[0;36mLSTM.forward\u001b[0;34m(self, input, hx)\u001b[0m\n\u001b[1;32m    <a href='file:///home/austin/anaconda3/envs/bittensor/lib/python3.8/site-packages/torch/nn/modules/rnn.py?line=573'>574</a>\u001b[0m \u001b[39melse\u001b[39;00m:\n\u001b[1;32m    <a href='file:///home/austin/anaconda3/envs/bittensor/lib/python3.8/site-packages/torch/nn/modules/rnn.py?line=574'>575</a>\u001b[0m     \u001b[39m# Each batch of the hidden state should match the input sequence that\u001b[39;00m\n\u001b[1;32m    <a href='file:///home/austin/anaconda3/envs/bittensor/lib/python3.8/site-packages/torch/nn/modules/rnn.py?line=575'>576</a>\u001b[0m     \u001b[39m# the user believes he/she is passing in.\u001b[39;00m\n\u001b[1;32m    <a href='file:///home/austin/anaconda3/envs/bittensor/lib/python3.8/site-packages/torch/nn/modules/rnn.py?line=576'>577</a>\u001b[0m     hx \u001b[39m=\u001b[39m \u001b[39mself\u001b[39m\u001b[39m.\u001b[39mpermute_hidden(hx, sorted_indices)\n\u001b[0;32m--> <a href='file:///home/austin/anaconda3/envs/bittensor/lib/python3.8/site-packages/torch/nn/modules/rnn.py?line=578'>579</a>\u001b[0m \u001b[39mself\u001b[39;49m\u001b[39m.\u001b[39;49mcheck_forward_args(\u001b[39minput\u001b[39;49m, hx, batch_sizes)\n\u001b[1;32m    <a href='file:///home/austin/anaconda3/envs/bittensor/lib/python3.8/site-packages/torch/nn/modules/rnn.py?line=579'>580</a>\u001b[0m \u001b[39mif\u001b[39;00m batch_sizes \u001b[39mis\u001b[39;00m \u001b[39mNone\u001b[39;00m:\n\u001b[1;32m    <a href='file:///home/austin/anaconda3/envs/bittensor/lib/python3.8/site-packages/torch/nn/modules/rnn.py?line=580'>581</a>\u001b[0m     result \u001b[39m=\u001b[39m _VF\u001b[39m.\u001b[39mlstm(\u001b[39minput\u001b[39m, hx, \u001b[39mself\u001b[39m\u001b[39m.\u001b[39m_flat_weights, \u001b[39mself\u001b[39m\u001b[39m.\u001b[39mbias, \u001b[39mself\u001b[39m\u001b[39m.\u001b[39mnum_layers,\n\u001b[1;32m    <a href='file:///home/austin/anaconda3/envs/bittensor/lib/python3.8/site-packages/torch/nn/modules/rnn.py?line=581'>582</a>\u001b[0m                       \u001b[39mself\u001b[39m\u001b[39m.\u001b[39mdropout, \u001b[39mself\u001b[39m\u001b[39m.\u001b[39mtraining, \u001b[39mself\u001b[39m\u001b[39m.\u001b[39mbidirectional, \u001b[39mself\u001b[39m\u001b[39m.\u001b[39mbatch_first)\n",
      "File \u001b[0;32m~/anaconda3/envs/bittensor/lib/python3.8/site-packages/torch/nn/modules/rnn.py:530\u001b[0m, in \u001b[0;36mLSTM.check_forward_args\u001b[0;34m(self, input, hidden, batch_sizes)\u001b[0m\n\u001b[1;32m    <a href='file:///home/austin/anaconda3/envs/bittensor/lib/python3.8/site-packages/torch/nn/modules/rnn.py?line=528'>529</a>\u001b[0m \u001b[39mdef\u001b[39;00m \u001b[39mcheck_forward_args\u001b[39m(\u001b[39mself\u001b[39m, \u001b[39minput\u001b[39m: Tensor, hidden: Tuple[Tensor, Tensor], batch_sizes: Optional[Tensor]):\n\u001b[0;32m--> <a href='file:///home/austin/anaconda3/envs/bittensor/lib/python3.8/site-packages/torch/nn/modules/rnn.py?line=529'>530</a>\u001b[0m     \u001b[39mself\u001b[39;49m\u001b[39m.\u001b[39;49mcheck_input(\u001b[39minput\u001b[39;49m, batch_sizes)\n\u001b[1;32m    <a href='file:///home/austin/anaconda3/envs/bittensor/lib/python3.8/site-packages/torch/nn/modules/rnn.py?line=530'>531</a>\u001b[0m     expected_hidden_size \u001b[39m=\u001b[39m \u001b[39mself\u001b[39m\u001b[39m.\u001b[39mget_expected_hidden_size(\u001b[39minput\u001b[39m, batch_sizes)\n\u001b[1;32m    <a href='file:///home/austin/anaconda3/envs/bittensor/lib/python3.8/site-packages/torch/nn/modules/rnn.py?line=532'>533</a>\u001b[0m     \u001b[39mself\u001b[39m\u001b[39m.\u001b[39mcheck_hidden_size(hidden[\u001b[39m0\u001b[39m], expected_hidden_size,\n\u001b[1;32m    <a href='file:///home/austin/anaconda3/envs/bittensor/lib/python3.8/site-packages/torch/nn/modules/rnn.py?line=533'>534</a>\u001b[0m                            \u001b[39m'\u001b[39m\u001b[39mExpected hidden[0] size \u001b[39m\u001b[39m{}\u001b[39;00m\u001b[39m, got \u001b[39m\u001b[39m{}\u001b[39;00m\u001b[39m'\u001b[39m)\n",
      "File \u001b[0;32m~/anaconda3/envs/bittensor/lib/python3.8/site-packages/torch/nn/modules/rnn.py:174\u001b[0m, in \u001b[0;36mRNNBase.check_input\u001b[0;34m(self, input, batch_sizes)\u001b[0m\n\u001b[1;32m    <a href='file:///home/austin/anaconda3/envs/bittensor/lib/python3.8/site-packages/torch/nn/modules/rnn.py?line=171'>172</a>\u001b[0m expected_input_dim \u001b[39m=\u001b[39m \u001b[39m2\u001b[39m \u001b[39mif\u001b[39;00m batch_sizes \u001b[39mis\u001b[39;00m \u001b[39mnot\u001b[39;00m \u001b[39mNone\u001b[39;00m \u001b[39melse\u001b[39;00m \u001b[39m3\u001b[39m\n\u001b[1;32m    <a href='file:///home/austin/anaconda3/envs/bittensor/lib/python3.8/site-packages/torch/nn/modules/rnn.py?line=172'>173</a>\u001b[0m \u001b[39mif\u001b[39;00m \u001b[39minput\u001b[39m\u001b[39m.\u001b[39mdim() \u001b[39m!=\u001b[39m expected_input_dim:\n\u001b[0;32m--> <a href='file:///home/austin/anaconda3/envs/bittensor/lib/python3.8/site-packages/torch/nn/modules/rnn.py?line=173'>174</a>\u001b[0m     \u001b[39mraise\u001b[39;00m \u001b[39mRuntimeError\u001b[39;00m(\n\u001b[1;32m    <a href='file:///home/austin/anaconda3/envs/bittensor/lib/python3.8/site-packages/torch/nn/modules/rnn.py?line=174'>175</a>\u001b[0m         \u001b[39m'\u001b[39m\u001b[39minput must have \u001b[39m\u001b[39m{}\u001b[39;00m\u001b[39m dimensions, got \u001b[39m\u001b[39m{}\u001b[39;00m\u001b[39m'\u001b[39m\u001b[39m.\u001b[39mformat(\n\u001b[1;32m    <a href='file:///home/austin/anaconda3/envs/bittensor/lib/python3.8/site-packages/torch/nn/modules/rnn.py?line=175'>176</a>\u001b[0m             expected_input_dim, \u001b[39minput\u001b[39m\u001b[39m.\u001b[39mdim()))\n\u001b[1;32m    <a href='file:///home/austin/anaconda3/envs/bittensor/lib/python3.8/site-packages/torch/nn/modules/rnn.py?line=176'>177</a>\u001b[0m \u001b[39mif\u001b[39;00m \u001b[39mself\u001b[39m\u001b[39m.\u001b[39minput_size \u001b[39m!=\u001b[39m \u001b[39minput\u001b[39m\u001b[39m.\u001b[39msize(\u001b[39m-\u001b[39m\u001b[39m1\u001b[39m):\n\u001b[1;32m    <a href='file:///home/austin/anaconda3/envs/bittensor/lib/python3.8/site-packages/torch/nn/modules/rnn.py?line=177'>178</a>\u001b[0m     \u001b[39mraise\u001b[39;00m \u001b[39mRuntimeError\u001b[39;00m(\n\u001b[1;32m    <a href='file:///home/austin/anaconda3/envs/bittensor/lib/python3.8/site-packages/torch/nn/modules/rnn.py?line=178'>179</a>\u001b[0m         \u001b[39m'\u001b[39m\u001b[39minput.size(-1) must be equal to input_size. Expected \u001b[39m\u001b[39m{}\u001b[39;00m\u001b[39m, got \u001b[39m\u001b[39m{}\u001b[39;00m\u001b[39m'\u001b[39m\u001b[39m.\u001b[39mformat(\n\u001b[1;32m    <a href='file:///home/austin/anaconda3/envs/bittensor/lib/python3.8/site-packages/torch/nn/modules/rnn.py?line=179'>180</a>\u001b[0m             \u001b[39mself\u001b[39m\u001b[39m.\u001b[39minput_size, \u001b[39minput\u001b[39m\u001b[39m.\u001b[39msize(\u001b[39m-\u001b[39m\u001b[39m1\u001b[39m)))\n",
      "\u001b[0;31mRuntimeError\u001b[0m: input must have 3 dimensions, got 2"
     ]
    }
   ],
   "source": [
    "def plot_lstm_predictions(profile_idx = 0):\n",
    "    \"\"\"\n",
    "    Plot LSTM model predictions and the actual loads in Plotly Express.\n",
    "    \"\"\"\n",
    "    load_lstm_model.eval()\n",
    "    data, labels1 = next(iter(train_dataloader))\n",
    "    target = load_lstm_model(data).detach().cpu().numpy().flatten()[:4]\n",
    "        #print(target)\n",
    "        # print(load_lstm_model(data).size())\n",
    "\n",
    "    load_plus_one = load_columns + ['t1','t2','t3','t4']\n",
    "    # print(sorted_load.iloc[0])\n",
    "    original_load_wForecast = pd.concat([sorted_load.iloc[profile_idx][2:], pd.Series(target)], axis=0) \n",
    "    fig = px.line(x=load_plus_one, y=original_load_wForecast, title='Loads with Forecast')\n",
    "    fig.add_vrect(x0=len(load_columns), x1=len(load_columns)+4, y0=0, y1=1)\n",
    "    fig.update_xaxes(tickangle=45, title_text=\"Time of Day\")\n",
    "    fig.update_layout(xaxis_title='Time', yaxis_title='Load (kW)')\n",
    "\n",
    "   # fig = px.line(x=load_columns, y=target.detach().cpu().numpy(), title='Predicted Loads')\n",
    "#\n",
    "    fig.show()\n",
    "plot_lstm_predictions(75000)"
   ]
  },
  {
   "cell_type": "markdown",
   "metadata": {},
   "source": [
    "# Show the forecast with the next actual values"
   ]
  },
  {
   "cell_type": "code",
   "execution_count": null,
   "metadata": {},
   "outputs": [],
   "source": []
  },
  {
   "cell_type": "markdown",
   "metadata": {},
   "source": [
    "# Akaike Information Criterion (AIC), out-of-sample error estimate, lower AIC values indicate higher fidelity for out of sample predictions by moving average.\n",
    "# - Neural Network and Moving Average Baseline"
   ]
  },
  {
   "cell_type": "code",
   "execution_count": 19,
   "metadata": {},
   "outputs": [],
   "source": [
    "#print(nn_predictions)\n",
    "#print(val_df)\n",
    "\n",
    "\n",
    "# nn_predictions = pd.DataFrame(nn_predictions)\n",
    "# #nn_predictions.plot()\n",
    "# nn_mse =  np.mean((nn_predictions - val_df)**2)\n",
    "# moving_average_mse = ((vdma_df-vdf)**2).mean()\n",
    "# print(nn_mse)\n",
    "# print(moving_average_mse)\n",
    "# def aic(mse, k):\n",
    "#     return 2 * k - 2 * mse\n",
    "# aic_nn_mse = aic(nn_mse, k=19058)\n",
    "# aic_vdma_mse = aic(moving_average_mse, k=3)\n",
    "\n",
    "# print(\"NEURAL NETWORK AIC\")\n",
    "# print(aic_nn_mse)\n",
    "# print(\"MOVING AVERAGE AIC\")\n",
    "# print(aic_vdma_mse)\n"
   ]
  },
  {
   "cell_type": "markdown",
   "metadata": {},
   "source": [
    "#"
   ]
  },
  {
   "cell_type": "code",
   "execution_count": null,
   "metadata": {},
   "outputs": [],
   "source": []
  }
 ],
 "metadata": {
  "interpreter": {
   "hash": "f558e93035d278312926f08cff991971976029cceabaa60185431bd4e94578a8"
  },
  "kernelspec": {
   "display_name": "Python 3.8.10 64-bit ('LFvenv': venv)",
   "name": "python3"
  },
  "language_info": {
   "codemirror_mode": {
    "name": "ipython",
    "version": 3
   },
   "file_extension": ".py",
   "mimetype": "text/x-python",
   "name": "python",
   "nbconvert_exporter": "python",
   "pygments_lexer": "ipython3",
   "version": "3.8.12"
  }
 },
 "nbformat": 4,
 "nbformat_minor": 2
}
